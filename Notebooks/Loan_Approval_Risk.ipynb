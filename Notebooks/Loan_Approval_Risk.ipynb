{
 "cells": [
  {
   "cell_type": "markdown",
   "metadata": {},
   "source": [
    "# Loan Approval Risk\n",
    "\n",
    "This notebook will explore a dataset on loan approval risk. Assessing the risk associated with giving loans is important to lenders because they want to minimize the chance of borrowers defaulting on their loans. While the dataset includes labels for both regression (Risk Score) and classification (Loan Approved), this notebook will focus on predicting risk scores.\n",
    "\n",
    "The dataset was posted on Kaggle by [Lorenzo Zoppelletto.](https://www.kaggle.com/datasets/lorenzozoppelletto/financial-risk-for-loan-approval)"
   ]
  },
  {
   "cell_type": "markdown",
   "metadata": {},
   "source": [
    "## Importing the data\n",
    "\n",
    "To begin, several libraries are imported, along with the dataset itself: "
   ]
  },
  {
   "cell_type": "code",
   "execution_count": 1,
   "metadata": {},
   "outputs": [
    {
     "name": "stdout",
     "output_type": "stream",
     "text": [
      "Warning: Looks like you're using an outdated `kagglehub` version, please consider updating (latest version: 0.3.10)\n"
     ]
    }
   ],
   "source": [
    "# Importing the Data\n",
    "import os\n",
    "import pandas as pd\n",
    "import numpy as np\n",
    "import kagglehub\n",
    "\n",
    "# Analysis\n",
    "import seaborn as sns\n",
    "import matplotlib.pyplot as plt\n",
    "\n",
    "# Preprocessing\n",
    "from sklearn.preprocessing import StandardScaler, MinMaxScaler, OneHotEncoder\n",
    "from sklearn.compose import ColumnTransformer\n",
    "\n",
    "# Model Building\n",
    "import tensorflow as tf\n",
    "from tensorflow.keras.models import Sequential\n",
    "from tensorflow.keras.layers import InputLayer, Dense, BatchNormalization, Dropout\n",
    "from tensorflow.keras.losses import MeanSquaredError, MeanAbsoluteError\n",
    "from tensorflow.keras.optimizers import SGD, Adam\n",
    "\n",
    "pd.options.display.max_columns = 40 # Sets the number of columns shown in Pandas output to 40\n",
    "\n",
    "path = kagglehub.dataset_download(\"lorenzozoppelletto/financial-risk-for-loan-approval\") # Downloading from Kaggle\n",
    "df = pd.read_csv(path + \"/Loan.csv\") # Assigning the dataset to a \\\\\\dataframe"
   ]
  },
  {
   "cell_type": "markdown",
   "metadata": {},
   "source": [
    "## Analysis \n",
    "\n",
    "In this section some basic analysis is performed, which can help shed some light on the underlying patterns and relationships in the dataset. The analysis section will cover:\n",
    "\n",
    "* The shape and sub-sample of the dataset\n",
    "* Visualization of the Risk Score column \n",
    "* Visualization of the integer data \n",
    "* Visualization of the floating point data\n",
    "* Exploration of the text data\n",
    "\n",
    "To begin the analysis, the shape of the dataset is printed below, along with the first five rows:"
   ]
  },
  {
   "cell_type": "code",
   "execution_count": 2,
   "metadata": {},
   "outputs": [
    {
     "name": "stdout",
     "output_type": "stream",
     "text": [
      "Full Dataset Shape: (20000, 36)\n"
     ]
    },
    {
     "data": {
      "text/html": [
       "<div>\n",
       "<style scoped>\n",
       "    .dataframe tbody tr th:only-of-type {\n",
       "        vertical-align: middle;\n",
       "    }\n",
       "\n",
       "    .dataframe tbody tr th {\n",
       "        vertical-align: top;\n",
       "    }\n",
       "\n",
       "    .dataframe thead th {\n",
       "        text-align: right;\n",
       "    }\n",
       "</style>\n",
       "<table border=\"1\" class=\"dataframe\">\n",
       "  <thead>\n",
       "    <tr style=\"text-align: right;\">\n",
       "      <th></th>\n",
       "      <th>ApplicationDate</th>\n",
       "      <th>Age</th>\n",
       "      <th>AnnualIncome</th>\n",
       "      <th>CreditScore</th>\n",
       "      <th>EmploymentStatus</th>\n",
       "      <th>EducationLevel</th>\n",
       "      <th>Experience</th>\n",
       "      <th>LoanAmount</th>\n",
       "      <th>LoanDuration</th>\n",
       "      <th>MaritalStatus</th>\n",
       "      <th>NumberOfDependents</th>\n",
       "      <th>HomeOwnershipStatus</th>\n",
       "      <th>MonthlyDebtPayments</th>\n",
       "      <th>CreditCardUtilizationRate</th>\n",
       "      <th>NumberOfOpenCreditLines</th>\n",
       "      <th>NumberOfCreditInquiries</th>\n",
       "      <th>DebtToIncomeRatio</th>\n",
       "      <th>BankruptcyHistory</th>\n",
       "      <th>LoanPurpose</th>\n",
       "      <th>PreviousLoanDefaults</th>\n",
       "      <th>PaymentHistory</th>\n",
       "      <th>LengthOfCreditHistory</th>\n",
       "      <th>SavingsAccountBalance</th>\n",
       "      <th>CheckingAccountBalance</th>\n",
       "      <th>TotalAssets</th>\n",
       "      <th>TotalLiabilities</th>\n",
       "      <th>MonthlyIncome</th>\n",
       "      <th>UtilityBillsPaymentHistory</th>\n",
       "      <th>JobTenure</th>\n",
       "      <th>NetWorth</th>\n",
       "      <th>BaseInterestRate</th>\n",
       "      <th>InterestRate</th>\n",
       "      <th>MonthlyLoanPayment</th>\n",
       "      <th>TotalDebtToIncomeRatio</th>\n",
       "      <th>LoanApproved</th>\n",
       "      <th>RiskScore</th>\n",
       "    </tr>\n",
       "  </thead>\n",
       "  <tbody>\n",
       "    <tr>\n",
       "      <th>0</th>\n",
       "      <td>2018-01-01</td>\n",
       "      <td>45</td>\n",
       "      <td>39948</td>\n",
       "      <td>617</td>\n",
       "      <td>Employed</td>\n",
       "      <td>Master</td>\n",
       "      <td>22</td>\n",
       "      <td>13152</td>\n",
       "      <td>48</td>\n",
       "      <td>Married</td>\n",
       "      <td>2</td>\n",
       "      <td>Own</td>\n",
       "      <td>183</td>\n",
       "      <td>0.354418</td>\n",
       "      <td>1</td>\n",
       "      <td>2</td>\n",
       "      <td>0.358336</td>\n",
       "      <td>0</td>\n",
       "      <td>Home</td>\n",
       "      <td>0</td>\n",
       "      <td>29</td>\n",
       "      <td>9</td>\n",
       "      <td>7632</td>\n",
       "      <td>1202</td>\n",
       "      <td>146111</td>\n",
       "      <td>19183</td>\n",
       "      <td>3329.000000</td>\n",
       "      <td>0.724972</td>\n",
       "      <td>11</td>\n",
       "      <td>126928</td>\n",
       "      <td>0.199652</td>\n",
       "      <td>0.227590</td>\n",
       "      <td>419.805992</td>\n",
       "      <td>0.181077</td>\n",
       "      <td>0</td>\n",
       "      <td>49.0</td>\n",
       "    </tr>\n",
       "    <tr>\n",
       "      <th>1</th>\n",
       "      <td>2018-01-02</td>\n",
       "      <td>38</td>\n",
       "      <td>39709</td>\n",
       "      <td>628</td>\n",
       "      <td>Employed</td>\n",
       "      <td>Associate</td>\n",
       "      <td>15</td>\n",
       "      <td>26045</td>\n",
       "      <td>48</td>\n",
       "      <td>Single</td>\n",
       "      <td>1</td>\n",
       "      <td>Mortgage</td>\n",
       "      <td>496</td>\n",
       "      <td>0.087827</td>\n",
       "      <td>5</td>\n",
       "      <td>3</td>\n",
       "      <td>0.330274</td>\n",
       "      <td>0</td>\n",
       "      <td>Debt Consolidation</td>\n",
       "      <td>0</td>\n",
       "      <td>21</td>\n",
       "      <td>9</td>\n",
       "      <td>4627</td>\n",
       "      <td>3460</td>\n",
       "      <td>53204</td>\n",
       "      <td>9595</td>\n",
       "      <td>3309.083333</td>\n",
       "      <td>0.935132</td>\n",
       "      <td>3</td>\n",
       "      <td>43609</td>\n",
       "      <td>0.207045</td>\n",
       "      <td>0.201077</td>\n",
       "      <td>794.054238</td>\n",
       "      <td>0.389852</td>\n",
       "      <td>0</td>\n",
       "      <td>52.0</td>\n",
       "    </tr>\n",
       "    <tr>\n",
       "      <th>2</th>\n",
       "      <td>2018-01-03</td>\n",
       "      <td>47</td>\n",
       "      <td>40724</td>\n",
       "      <td>570</td>\n",
       "      <td>Employed</td>\n",
       "      <td>Bachelor</td>\n",
       "      <td>26</td>\n",
       "      <td>17627</td>\n",
       "      <td>36</td>\n",
       "      <td>Married</td>\n",
       "      <td>2</td>\n",
       "      <td>Rent</td>\n",
       "      <td>902</td>\n",
       "      <td>0.137414</td>\n",
       "      <td>2</td>\n",
       "      <td>0</td>\n",
       "      <td>0.244729</td>\n",
       "      <td>0</td>\n",
       "      <td>Education</td>\n",
       "      <td>0</td>\n",
       "      <td>20</td>\n",
       "      <td>22</td>\n",
       "      <td>886</td>\n",
       "      <td>895</td>\n",
       "      <td>25176</td>\n",
       "      <td>128874</td>\n",
       "      <td>3393.666667</td>\n",
       "      <td>0.872241</td>\n",
       "      <td>6</td>\n",
       "      <td>5205</td>\n",
       "      <td>0.217627</td>\n",
       "      <td>0.212548</td>\n",
       "      <td>666.406688</td>\n",
       "      <td>0.462157</td>\n",
       "      <td>0</td>\n",
       "      <td>52.0</td>\n",
       "    </tr>\n",
       "    <tr>\n",
       "      <th>3</th>\n",
       "      <td>2018-01-04</td>\n",
       "      <td>58</td>\n",
       "      <td>69084</td>\n",
       "      <td>545</td>\n",
       "      <td>Employed</td>\n",
       "      <td>High School</td>\n",
       "      <td>34</td>\n",
       "      <td>37898</td>\n",
       "      <td>96</td>\n",
       "      <td>Single</td>\n",
       "      <td>1</td>\n",
       "      <td>Mortgage</td>\n",
       "      <td>755</td>\n",
       "      <td>0.267587</td>\n",
       "      <td>2</td>\n",
       "      <td>1</td>\n",
       "      <td>0.436244</td>\n",
       "      <td>0</td>\n",
       "      <td>Home</td>\n",
       "      <td>0</td>\n",
       "      <td>27</td>\n",
       "      <td>10</td>\n",
       "      <td>1675</td>\n",
       "      <td>1217</td>\n",
       "      <td>104822</td>\n",
       "      <td>5370</td>\n",
       "      <td>5757.000000</td>\n",
       "      <td>0.896155</td>\n",
       "      <td>5</td>\n",
       "      <td>99452</td>\n",
       "      <td>0.300398</td>\n",
       "      <td>0.300911</td>\n",
       "      <td>1047.506980</td>\n",
       "      <td>0.313098</td>\n",
       "      <td>0</td>\n",
       "      <td>54.0</td>\n",
       "    </tr>\n",
       "    <tr>\n",
       "      <th>4</th>\n",
       "      <td>2018-01-05</td>\n",
       "      <td>37</td>\n",
       "      <td>103264</td>\n",
       "      <td>594</td>\n",
       "      <td>Employed</td>\n",
       "      <td>Associate</td>\n",
       "      <td>17</td>\n",
       "      <td>9184</td>\n",
       "      <td>36</td>\n",
       "      <td>Married</td>\n",
       "      <td>1</td>\n",
       "      <td>Mortgage</td>\n",
       "      <td>274</td>\n",
       "      <td>0.320535</td>\n",
       "      <td>0</td>\n",
       "      <td>0</td>\n",
       "      <td>0.078884</td>\n",
       "      <td>0</td>\n",
       "      <td>Debt Consolidation</td>\n",
       "      <td>0</td>\n",
       "      <td>26</td>\n",
       "      <td>27</td>\n",
       "      <td>1555</td>\n",
       "      <td>4981</td>\n",
       "      <td>244305</td>\n",
       "      <td>17286</td>\n",
       "      <td>8605.333333</td>\n",
       "      <td>0.941369</td>\n",
       "      <td>5</td>\n",
       "      <td>227019</td>\n",
       "      <td>0.197184</td>\n",
       "      <td>0.175990</td>\n",
       "      <td>330.179140</td>\n",
       "      <td>0.070210</td>\n",
       "      <td>1</td>\n",
       "      <td>36.0</td>\n",
       "    </tr>\n",
       "  </tbody>\n",
       "</table>\n",
       "</div>"
      ],
      "text/plain": [
       "  ApplicationDate  Age  AnnualIncome  CreditScore EmploymentStatus  \\\n",
       "0      2018-01-01   45         39948          617         Employed   \n",
       "1      2018-01-02   38         39709          628         Employed   \n",
       "2      2018-01-03   47         40724          570         Employed   \n",
       "3      2018-01-04   58         69084          545         Employed   \n",
       "4      2018-01-05   37        103264          594         Employed   \n",
       "\n",
       "  EducationLevel  Experience  LoanAmount  LoanDuration MaritalStatus  \\\n",
       "0         Master          22       13152            48       Married   \n",
       "1      Associate          15       26045            48        Single   \n",
       "2       Bachelor          26       17627            36       Married   \n",
       "3    High School          34       37898            96        Single   \n",
       "4      Associate          17        9184            36       Married   \n",
       "\n",
       "   NumberOfDependents HomeOwnershipStatus  MonthlyDebtPayments  \\\n",
       "0                   2                 Own                  183   \n",
       "1                   1            Mortgage                  496   \n",
       "2                   2                Rent                  902   \n",
       "3                   1            Mortgage                  755   \n",
       "4                   1            Mortgage                  274   \n",
       "\n",
       "   CreditCardUtilizationRate  NumberOfOpenCreditLines  \\\n",
       "0                   0.354418                        1   \n",
       "1                   0.087827                        5   \n",
       "2                   0.137414                        2   \n",
       "3                   0.267587                        2   \n",
       "4                   0.320535                        0   \n",
       "\n",
       "   NumberOfCreditInquiries  DebtToIncomeRatio  BankruptcyHistory  \\\n",
       "0                        2           0.358336                  0   \n",
       "1                        3           0.330274                  0   \n",
       "2                        0           0.244729                  0   \n",
       "3                        1           0.436244                  0   \n",
       "4                        0           0.078884                  0   \n",
       "\n",
       "          LoanPurpose  PreviousLoanDefaults  PaymentHistory  \\\n",
       "0                Home                     0              29   \n",
       "1  Debt Consolidation                     0              21   \n",
       "2           Education                     0              20   \n",
       "3                Home                     0              27   \n",
       "4  Debt Consolidation                     0              26   \n",
       "\n",
       "   LengthOfCreditHistory  SavingsAccountBalance  CheckingAccountBalance  \\\n",
       "0                      9                   7632                    1202   \n",
       "1                      9                   4627                    3460   \n",
       "2                     22                    886                     895   \n",
       "3                     10                   1675                    1217   \n",
       "4                     27                   1555                    4981   \n",
       "\n",
       "   TotalAssets  TotalLiabilities  MonthlyIncome  UtilityBillsPaymentHistory  \\\n",
       "0       146111             19183    3329.000000                    0.724972   \n",
       "1        53204              9595    3309.083333                    0.935132   \n",
       "2        25176            128874    3393.666667                    0.872241   \n",
       "3       104822              5370    5757.000000                    0.896155   \n",
       "4       244305             17286    8605.333333                    0.941369   \n",
       "\n",
       "   JobTenure  NetWorth  BaseInterestRate  InterestRate  MonthlyLoanPayment  \\\n",
       "0         11    126928          0.199652      0.227590          419.805992   \n",
       "1          3     43609          0.207045      0.201077          794.054238   \n",
       "2          6      5205          0.217627      0.212548          666.406688   \n",
       "3          5     99452          0.300398      0.300911         1047.506980   \n",
       "4          5    227019          0.197184      0.175990          330.179140   \n",
       "\n",
       "   TotalDebtToIncomeRatio  LoanApproved  RiskScore  \n",
       "0                0.181077             0       49.0  \n",
       "1                0.389852             0       52.0  \n",
       "2                0.462157             0       52.0  \n",
       "3                0.313098             0       54.0  \n",
       "4                0.070210             1       36.0  "
      ]
     },
     "execution_count": 2,
     "metadata": {},
     "output_type": "execute_result"
    }
   ],
   "source": [
    "print(\"Full Dataset Shape:\", df.shape)\n",
    "df.head()"
   ]
  },
  {
   "cell_type": "markdown",
   "metadata": {},
   "source": [
    "In total there are 36 rows, containing integer, float, and string data. Each data type is explored in the following sections. "
   ]
  },
  {
   "cell_type": "markdown",
   "metadata": {},
   "source": [
    "#### Risk Score\n",
    "\n",
    "To begin, the risk score is isolated and visualized in a histogram. The end goal of the models will be to predict risk scores so this will help show what the target column looks like. Summary statistics and the histogram for the Risk Score column are shown below: "
   ]
  },
  {
   "cell_type": "code",
   "execution_count": 3,
   "metadata": {},
   "outputs": [
    {
     "name": "stdout",
     "output_type": "stream",
     "text": [
      "          RiskScore\n",
      "count  20000.000000\n",
      "mean      50.766780\n",
      "std        7.778262\n",
      "min       28.800000\n",
      "25%       46.000000\n",
      "50%       52.000000\n",
      "75%       56.000000\n",
      "max       84.000000\n"
     ]
    },
    {
     "data": {
      "text/plain": [
       "array([[<Axes: title={'center': 'RiskScore'}>]], dtype=object)"
      ]
     },
     "execution_count": 3,
     "metadata": {},
     "output_type": "execute_result"
    },
    {
     "data": {
      "image/png": "[encoded data removed]",
      "text/plain": [
       "<Figure size 640x480 with 1 Axes>"
      ]
     },
     "metadata": {},
     "output_type": "display_data"
    }
   ],
   "source": [
    "print(df[[\"RiskScore\"]].describe())\n",
    "df[[\"RiskScore\"]].hist(bins=30)"
   ]
  },
  {
   "cell_type": "markdown",
   "metadata": {},
   "source": [
    "There are a few high frequency spots, with the highest number of samples centering just above the 50 mark. This means gthat a large number of risk scores will be between 50 and 60. The median of 52 reflects this. "
   ]
  },
  {
   "cell_type": "markdown",
   "metadata": {},
   "source": [
    "#### Integer data\n",
    "\n",
    "The integer columns in this dataset represent whole numbers, as well as some binary (1 or 0) columns that have simply map to true or false, respectively. Below, the integer data is shown:"
   ]
  },
  {
   "cell_type": "code",
   "execution_count": 4,
   "metadata": {},
   "outputs": [
    {
     "name": "stdout",
     "output_type": "stream",
     "text": [
      "Integer Dataset Shape: (20000, 21)\n"
     ]
    },
    {
     "data": {
      "text/html": [
       "<div>\n",
       "<style scoped>\n",
       "    .dataframe tbody tr th:only-of-type {\n",
       "        vertical-align: middle;\n",
       "    }\n",
       "\n",
       "    .dataframe tbody tr th {\n",
       "        vertical-align: top;\n",
       "    }\n",
       "\n",
       "    .dataframe thead th {\n",
       "        text-align: right;\n",
       "    }\n",
       "</style>\n",
       "<table border=\"1\" class=\"dataframe\">\n",
       "  <thead>\n",
       "    <tr style=\"text-align: right;\">\n",
       "      <th></th>\n",
       "      <th>Age</th>\n",
       "      <th>AnnualIncome</th>\n",
       "      <th>CreditScore</th>\n",
       "      <th>Experience</th>\n",
       "      <th>LoanAmount</th>\n",
       "      <th>LoanDuration</th>\n",
       "      <th>NumberOfDependents</th>\n",
       "      <th>MonthlyDebtPayments</th>\n",
       "      <th>NumberOfOpenCreditLines</th>\n",
       "      <th>NumberOfCreditInquiries</th>\n",
       "      <th>BankruptcyHistory</th>\n",
       "      <th>PreviousLoanDefaults</th>\n",
       "      <th>PaymentHistory</th>\n",
       "      <th>LengthOfCreditHistory</th>\n",
       "      <th>SavingsAccountBalance</th>\n",
       "      <th>CheckingAccountBalance</th>\n",
       "      <th>TotalAssets</th>\n",
       "      <th>TotalLiabilities</th>\n",
       "      <th>JobTenure</th>\n",
       "      <th>NetWorth</th>\n",
       "      <th>LoanApproved</th>\n",
       "    </tr>\n",
       "  </thead>\n",
       "  <tbody>\n",
       "    <tr>\n",
       "      <th>0</th>\n",
       "      <td>45</td>\n",
       "      <td>39948</td>\n",
       "      <td>617</td>\n",
       "      <td>22</td>\n",
       "      <td>13152</td>\n",
       "      <td>48</td>\n",
       "      <td>2</td>\n",
       "      <td>183</td>\n",
       "      <td>1</td>\n",
       "      <td>2</td>\n",
       "      <td>0</td>\n",
       "      <td>0</td>\n",
       "      <td>29</td>\n",
       "      <td>9</td>\n",
       "      <td>7632</td>\n",
       "      <td>1202</td>\n",
       "      <td>146111</td>\n",
       "      <td>19183</td>\n",
       "      <td>11</td>\n",
       "      <td>126928</td>\n",
       "      <td>0</td>\n",
       "    </tr>\n",
       "    <tr>\n",
       "      <th>1</th>\n",
       "      <td>38</td>\n",
       "      <td>39709</td>\n",
       "      <td>628</td>\n",
       "      <td>15</td>\n",
       "      <td>26045</td>\n",
       "      <td>48</td>\n",
       "      <td>1</td>\n",
       "      <td>496</td>\n",
       "      <td>5</td>\n",
       "      <td>3</td>\n",
       "      <td>0</td>\n",
       "      <td>0</td>\n",
       "      <td>21</td>\n",
       "      <td>9</td>\n",
       "      <td>4627</td>\n",
       "      <td>3460</td>\n",
       "      <td>53204</td>\n",
       "      <td>9595</td>\n",
       "      <td>3</td>\n",
       "      <td>43609</td>\n",
       "      <td>0</td>\n",
       "    </tr>\n",
       "    <tr>\n",
       "      <th>2</th>\n",
       "      <td>47</td>\n",
       "      <td>40724</td>\n",
       "      <td>570</td>\n",
       "      <td>26</td>\n",
       "      <td>17627</td>\n",
       "      <td>36</td>\n",
       "      <td>2</td>\n",
       "      <td>902</td>\n",
       "      <td>2</td>\n",
       "      <td>0</td>\n",
       "      <td>0</td>\n",
       "      <td>0</td>\n",
       "      <td>20</td>\n",
       "      <td>22</td>\n",
       "      <td>886</td>\n",
       "      <td>895</td>\n",
       "      <td>25176</td>\n",
       "      <td>128874</td>\n",
       "      <td>6</td>\n",
       "      <td>5205</td>\n",
       "      <td>0</td>\n",
       "    </tr>\n",
       "    <tr>\n",
       "      <th>3</th>\n",
       "      <td>58</td>\n",
       "      <td>69084</td>\n",
       "      <td>545</td>\n",
       "      <td>34</td>\n",
       "      <td>37898</td>\n",
       "      <td>96</td>\n",
       "      <td>1</td>\n",
       "      <td>755</td>\n",
       "      <td>2</td>\n",
       "      <td>1</td>\n",
       "      <td>0</td>\n",
       "      <td>0</td>\n",
       "      <td>27</td>\n",
       "      <td>10</td>\n",
       "      <td>1675</td>\n",
       "      <td>1217</td>\n",
       "      <td>104822</td>\n",
       "      <td>5370</td>\n",
       "      <td>5</td>\n",
       "      <td>99452</td>\n",
       "      <td>0</td>\n",
       "    </tr>\n",
       "    <tr>\n",
       "      <th>4</th>\n",
       "      <td>37</td>\n",
       "      <td>103264</td>\n",
       "      <td>594</td>\n",
       "      <td>17</td>\n",
       "      <td>9184</td>\n",
       "      <td>36</td>\n",
       "      <td>1</td>\n",
       "      <td>274</td>\n",
       "      <td>0</td>\n",
       "      <td>0</td>\n",
       "      <td>0</td>\n",
       "      <td>0</td>\n",
       "      <td>26</td>\n",
       "      <td>27</td>\n",
       "      <td>1555</td>\n",
       "      <td>4981</td>\n",
       "      <td>244305</td>\n",
       "      <td>17286</td>\n",
       "      <td>5</td>\n",
       "      <td>227019</td>\n",
       "      <td>1</td>\n",
       "    </tr>\n",
       "  </tbody>\n",
       "</table>\n",
       "</div>"
      ],
      "text/plain": [
       "   Age  AnnualIncome  CreditScore  Experience  LoanAmount  LoanDuration  \\\n",
       "0   45         39948          617          22       13152            48   \n",
       "1   38         39709          628          15       26045            48   \n",
       "2   47         40724          570          26       17627            36   \n",
       "3   58         69084          545          34       37898            96   \n",
       "4   37        103264          594          17        9184            36   \n",
       "\n",
       "   NumberOfDependents  MonthlyDebtPayments  NumberOfOpenCreditLines  \\\n",
       "0                   2                  183                        1   \n",
       "1                   1                  496                        5   \n",
       "2                   2                  902                        2   \n",
       "3                   1                  755                        2   \n",
       "4                   1                  274                        0   \n",
       "\n",
       "   NumberOfCreditInquiries  BankruptcyHistory  PreviousLoanDefaults  \\\n",
       "0                        2                  0                     0   \n",
       "1                        3                  0                     0   \n",
       "2                        0                  0                     0   \n",
       "3                        1                  0                     0   \n",
       "4                        0                  0                     0   \n",
       "\n",
       "   PaymentHistory  LengthOfCreditHistory  SavingsAccountBalance  \\\n",
       "0              29                      9                   7632   \n",
       "1              21                      9                   4627   \n",
       "2              20                     22                    886   \n",
       "3              27                     10                   1675   \n",
       "4              26                     27                   1555   \n",
       "\n",
       "   CheckingAccountBalance  TotalAssets  TotalLiabilities  JobTenure  NetWorth  \\\n",
       "0                    1202       146111             19183         11    126928   \n",
       "1                    3460        53204              9595          3     43609   \n",
       "2                     895        25176            128874          6      5205   \n",
       "3                    1217       104822              5370          5     99452   \n",
       "4                    4981       244305             17286          5    227019   \n",
       "\n",
       "   LoanApproved  \n",
       "0             0  \n",
       "1             0  \n",
       "2             0  \n",
       "3             0  \n",
       "4             1  "
      ]
     },
     "execution_count": 4,
     "metadata": {},
     "output_type": "execute_result"
    }
   ],
   "source": [
    "int_df = df.select_dtypes([\"int\"])\n",
    "print(\"Integer Dataset Shape:\", int_df.shape)\n",
    "int_df.head()"
   ]
  },
  {
   "cell_type": "markdown",
   "metadata": {},
   "source": [
    "In total there are 21 integer columns, 3 of which are binary: BankruptcyHistory, PreviousLoanDefaults, and LoanApproved. These 3 columns will be analyzed seperately, but for now a correlation matrix of all integer columns is shown below, along with the risk score: "
   ]
  },
  {
   "cell_type": "code",
   "execution_count": 6,
   "metadata": {},
   "outputs": [
    {
     "data": {
      "text/plain": [
       "<Axes: >"
      ]
     },
     "execution_count": 6,
     "metadata": {},
     "output_type": "execute_result"
    },
    {
     "data": {
      "image/png": "[encoded data removed]",
      "text/plain": [
       "<Figure size 640x480 with 2 Axes>"
      ]
     },
     "metadata": {},
     "output_type": "display_data"
    }
   ],
   "source": [
    "sns.heatmap(pd.concat([int_df, df[[\"RiskScore\"]]], axis=1).corr())"
   ]
  },
  {
   "cell_type": "markdown",
   "metadata": {},
   "source": [
    "While this chart is able to convey some information, for the most part the outlying correlations are things that could have easily guessed, such as:\n",
    "* Exerience and age have a very string positive correlation, along with net worth and total assets.\n",
    "* Annual income, net worth, and loan approval are negatively correlated with risk score.\n",
    "* Work experience and age have a moderately strong correlation with credit score (generally the older a person gets, the more risk averse they become).\n",
    "\n",
    "However, the columns generally have a low correlation (positive or negative) with one another. \n",
    "\n",
    "#### Binary Columns\n",
    "\n",
    "The three binary columns (BankruptcyHistory, PreviousLoanDefaults, and LoanApproved) are integer data, but can be viewed in a slightly different way than the rest of the columns. A simple bar chart can shed some light on the ratio of 1s to 0s. Below, bar charts are displayed for each binary column: "
   ]
  },
  {
   "cell_type": "code",
   "execution_count": 7,
   "metadata": {},
   "outputs": [
    {
     "data": {
      "text/plain": [
       "<Axes: title={'center': 'Loan Approved'}, xlabel='LoanApproved'>"
      ]
     },
     "execution_count": 7,
     "metadata": {},
     "output_type": "execute_result"
    },
    {
     "data": {
      "image/png": "[encoded data removed]",
      "text/plain": [
       "<Figure size 1600x500 with 3 Axes>"
      ]
     },
     "metadata": {},
     "output_type": "display_data"
    }
   ],
   "source": [
    "fig, axes = plt.subplots(nrows=1, ncols=3, figsize=(16, 5))\n",
    "\n",
    "df[\"BankruptcyHistory\"].value_counts().plot(ax=axes[0], kind=\"bar\", title=\"Bankruptcy History\")\n",
    "df[\"PreviousLoanDefaults\"].value_counts().plot(ax=axes[1], kind=\"bar\", title=\"Previous Loan Defaults\")\n",
    "df[\"LoanApproved\"].value_counts().plot(ax=axes[2], kind=\"bar\", title=\"Loan Approved\")"
   ]
  },
  {
   "cell_type": "markdown",
   "metadata": {},
   "source": [
    "In each column, the 0s are far more prevelant than the 1s. The low number of 1s in the first two charts mean that most loan applicants have not had a history of bankruptcy and have not previously defaulted on loans. However, the third chart shows that the majority of loans have not been granted. \n",
    "\n",
    "This reinforces the low correlation between the LoanApproved and RiskScore seen above; as the risk score increases, the chance of loan approval drop. In general, the two variables move in opposite directions, so a low risk score is more likely to get loan approval than a high score. "
   ]
  },
  {
   "cell_type": "markdown",
   "metadata": {},
   "source": [
    "#### Floating Point Data\n",
    "\n",
    "The 9 floating point columns in the dataset can be split into 3 categories: \n",
    "* Money\n",
    "* Rates/ratios\n",
    "* Scoring (Risk Score only)\n",
    "\n",
    "The float columns are shown below: "
   ]
  },
  {
   "cell_type": "code",
   "execution_count": 8,
   "metadata": {},
   "outputs": [
    {
     "name": "stdout",
     "output_type": "stream",
     "text": [
      "Float Dataset Shape: (20000, 9)\n"
     ]
    },
    {
     "data": {
      "text/html": [
       "<div>\n",
       "<style scoped>\n",
       "    .dataframe tbody tr th:only-of-type {\n",
       "        vertical-align: middle;\n",
       "    }\n",
       "\n",
       "    .dataframe tbody tr th {\n",
       "        vertical-align: top;\n",
       "    }\n",
       "\n",
       "    .dataframe thead th {\n",
       "        text-align: right;\n",
       "    }\n",
       "</style>\n",
       "<table border=\"1\" class=\"dataframe\">\n",
       "  <thead>\n",
       "    <tr style=\"text-align: right;\">\n",
       "      <th></th>\n",
       "      <th>CreditCardUtilizationRate</th>\n",
       "      <th>DebtToIncomeRatio</th>\n",
       "      <th>MonthlyIncome</th>\n",
       "      <th>UtilityBillsPaymentHistory</th>\n",
       "      <th>BaseInterestRate</th>\n",
       "      <th>InterestRate</th>\n",
       "      <th>MonthlyLoanPayment</th>\n",
       "      <th>TotalDebtToIncomeRatio</th>\n",
       "      <th>RiskScore</th>\n",
       "    </tr>\n",
       "  </thead>\n",
       "  <tbody>\n",
       "    <tr>\n",
       "      <th>0</th>\n",
       "      <td>0.354418</td>\n",
       "      <td>0.358336</td>\n",
       "      <td>3329.000000</td>\n",
       "      <td>0.724972</td>\n",
       "      <td>0.199652</td>\n",
       "      <td>0.227590</td>\n",
       "      <td>419.805992</td>\n",
       "      <td>0.181077</td>\n",
       "      <td>49.0</td>\n",
       "    </tr>\n",
       "    <tr>\n",
       "      <th>1</th>\n",
       "      <td>0.087827</td>\n",
       "      <td>0.330274</td>\n",
       "      <td>3309.083333</td>\n",
       "      <td>0.935132</td>\n",
       "      <td>0.207045</td>\n",
       "      <td>0.201077</td>\n",
       "      <td>794.054238</td>\n",
       "      <td>0.389852</td>\n",
       "      <td>52.0</td>\n",
       "    </tr>\n",
       "    <tr>\n",
       "      <th>2</th>\n",
       "      <td>0.137414</td>\n",
       "      <td>0.244729</td>\n",
       "      <td>3393.666667</td>\n",
       "      <td>0.872241</td>\n",
       "      <td>0.217627</td>\n",
       "      <td>0.212548</td>\n",
       "      <td>666.406688</td>\n",
       "      <td>0.462157</td>\n",
       "      <td>52.0</td>\n",
       "    </tr>\n",
       "    <tr>\n",
       "      <th>3</th>\n",
       "      <td>0.267587</td>\n",
       "      <td>0.436244</td>\n",
       "      <td>5757.000000</td>\n",
       "      <td>0.896155</td>\n",
       "      <td>0.300398</td>\n",
       "      <td>0.300911</td>\n",
       "      <td>1047.506980</td>\n",
       "      <td>0.313098</td>\n",
       "      <td>54.0</td>\n",
       "    </tr>\n",
       "    <tr>\n",
       "      <th>4</th>\n",
       "      <td>0.320535</td>\n",
       "      <td>0.078884</td>\n",
       "      <td>8605.333333</td>\n",
       "      <td>0.941369</td>\n",
       "      <td>0.197184</td>\n",
       "      <td>0.175990</td>\n",
       "      <td>330.179140</td>\n",
       "      <td>0.070210</td>\n",
       "      <td>36.0</td>\n",
       "    </tr>\n",
       "  </tbody>\n",
       "</table>\n",
       "</div>"
      ],
      "text/plain": [
       "   CreditCardUtilizationRate  DebtToIncomeRatio  MonthlyIncome  \\\n",
       "0                   0.354418           0.358336    3329.000000   \n",
       "1                   0.087827           0.330274    3309.083333   \n",
       "2                   0.137414           0.244729    3393.666667   \n",
       "3                   0.267587           0.436244    5757.000000   \n",
       "4                   0.320535           0.078884    8605.333333   \n",
       "\n",
       "   UtilityBillsPaymentHistory  BaseInterestRate  InterestRate  \\\n",
       "0                    0.724972          0.199652      0.227590   \n",
       "1                    0.935132          0.207045      0.201077   \n",
       "2                    0.872241          0.217627      0.212548   \n",
       "3                    0.896155          0.300398      0.300911   \n",
       "4                    0.941369          0.197184      0.175990   \n",
       "\n",
       "   MonthlyLoanPayment  TotalDebtToIncomeRatio  RiskScore  \n",
       "0          419.805992                0.181077       49.0  \n",
       "1          794.054238                0.389852       52.0  \n",
       "2          666.406688                0.462157       52.0  \n",
       "3         1047.506980                0.313098       54.0  \n",
       "4          330.179140                0.070210       36.0  "
      ]
     },
     "execution_count": 8,
     "metadata": {},
     "output_type": "execute_result"
    }
   ],
   "source": [
    "float_df = df.select_dtypes([\"float\"])\n",
    "print(\"Float Dataset Shape:\", float_df.shape)\n",
    "float_df.head()"
   ]
  },
  {
   "cell_type": "markdown",
   "metadata": {},
   "source": [
    "Just looking at the first 5 rows, notice the different scales of each category:\n",
    "* The money columns can range anywhere from a few hundred to a few thousand\n",
    "* The ratio columns are between 0 and 1\n",
    "* The risk score column is between 30 and 80 (this was observed in the Risk Score section above)\n",
    "\n",
    "Simply inputting the data from these columns into a model as-is would cause issues because the weights the model assigns to each column would vary greatly. These columns (along with the integer columns) will be scaled in a later section to mitigate this issue. \n",
    "\n",
    "Moving on, the correlation matrix for the floating point datais shown below: "
   ]
  },
  {
   "cell_type": "code",
   "execution_count": 9,
   "metadata": {},
   "outputs": [
    {
     "data": {
      "text/plain": [
       "<Axes: >"
      ]
     },
     "execution_count": 9,
     "metadata": {},
     "output_type": "execute_result"
    },
    {
     "data": {
      "image/png": "[encoded data removed]",
      "text/plain": [
       "<Figure size 640x480 with 2 Axes>"
      ]
     },
     "metadata": {},
     "output_type": "display_data"
    }
   ],
   "source": [
    "sns.heatmap(pd.concat([float_df, df[[\"LoanApproved\"]]], axis=1).corr())"
   ]
  },
  {
   "cell_type": "markdown",
   "metadata": {},
   "source": [
    "Notice that the RiskScore column has a noticeable positive correlation with all of the ratio/rate columns except for CreditCardUtilizationRate. Also, MonthlyIncome strong negative correlation with TotalDebtToIncomeRatio and RiskScore. "
   ]
  },
  {
   "cell_type": "markdown",
   "metadata": {},
   "source": [
    "#### Text Data\n",
    "\n",
    "The string data consists of a date column and 5 categorical columns: "
   ]
  },
  {
   "cell_type": "code",
   "execution_count": 10,
   "metadata": {},
   "outputs": [
    {
     "name": "stdout",
     "output_type": "stream",
     "text": [
      "String Dataset Shape: (20000, 6)\n"
     ]
    },
    {
     "data": {
      "text/html": [
       "<div>\n",
       "<style scoped>\n",
       "    .dataframe tbody tr th:only-of-type {\n",
       "        vertical-align: middle;\n",
       "    }\n",
       "\n",
       "    .dataframe tbody tr th {\n",
       "        vertical-align: top;\n",
       "    }\n",
       "\n",
       "    .dataframe thead th {\n",
       "        text-align: right;\n",
       "    }\n",
       "</style>\n",
       "<table border=\"1\" class=\"dataframe\">\n",
       "  <thead>\n",
       "    <tr style=\"text-align: right;\">\n",
       "      <th></th>\n",
       "      <th>ApplicationDate</th>\n",
       "      <th>EmploymentStatus</th>\n",
       "      <th>EducationLevel</th>\n",
       "      <th>MaritalStatus</th>\n",
       "      <th>HomeOwnershipStatus</th>\n",
       "      <th>LoanPurpose</th>\n",
       "    </tr>\n",
       "  </thead>\n",
       "  <tbody>\n",
       "    <tr>\n",
       "      <th>0</th>\n",
       "      <td>2018-01-01</td>\n",
       "      <td>Employed</td>\n",
       "      <td>Master</td>\n",
       "      <td>Married</td>\n",
       "      <td>Own</td>\n",
       "      <td>Home</td>\n",
       "    </tr>\n",
       "    <tr>\n",
       "      <th>1</th>\n",
       "      <td>2018-01-02</td>\n",
       "      <td>Employed</td>\n",
       "      <td>Associate</td>\n",
       "      <td>Single</td>\n",
       "      <td>Mortgage</td>\n",
       "      <td>Debt Consolidation</td>\n",
       "    </tr>\n",
       "    <tr>\n",
       "      <th>2</th>\n",
       "      <td>2018-01-03</td>\n",
       "      <td>Employed</td>\n",
       "      <td>Bachelor</td>\n",
       "      <td>Married</td>\n",
       "      <td>Rent</td>\n",
       "      <td>Education</td>\n",
       "    </tr>\n",
       "    <tr>\n",
       "      <th>3</th>\n",
       "      <td>2018-01-04</td>\n",
       "      <td>Employed</td>\n",
       "      <td>High School</td>\n",
       "      <td>Single</td>\n",
       "      <td>Mortgage</td>\n",
       "      <td>Home</td>\n",
       "    </tr>\n",
       "    <tr>\n",
       "      <th>4</th>\n",
       "      <td>2018-01-05</td>\n",
       "      <td>Employed</td>\n",
       "      <td>Associate</td>\n",
       "      <td>Married</td>\n",
       "      <td>Mortgage</td>\n",
       "      <td>Debt Consolidation</td>\n",
       "    </tr>\n",
       "  </tbody>\n",
       "</table>\n",
       "</div>"
      ],
      "text/plain": [
       "  ApplicationDate EmploymentStatus EducationLevel MaritalStatus  \\\n",
       "0      2018-01-01         Employed         Master       Married   \n",
       "1      2018-01-02         Employed      Associate        Single   \n",
       "2      2018-01-03         Employed       Bachelor       Married   \n",
       "3      2018-01-04         Employed    High School        Single   \n",
       "4      2018-01-05         Employed      Associate       Married   \n",
       "\n",
       "  HomeOwnershipStatus         LoanPurpose  \n",
       "0                 Own                Home  \n",
       "1            Mortgage  Debt Consolidation  \n",
       "2                Rent           Education  \n",
       "3            Mortgage                Home  \n",
       "4            Mortgage  Debt Consolidation  "
      ]
     },
     "execution_count": 10,
     "metadata": {},
     "output_type": "execute_result"
    }
   ],
   "source": [
    "obj_df = df.select_dtypes([\"object\"])\n",
    "print(\"String Dataset Shape:\", obj_df.shape)\n",
    "obj_df.head()"
   ]
  },
  {
   "cell_type": "markdown",
   "metadata": {},
   "source": [
    "While the date column can scaled (like the numerical data), the categorical columns will need to be one-hot encoded in order for the models use them as inputs. Even though the ApplicationDate column is a string, it needs to be converted to a date type column as it will be treated differently from the categorical columns. "
   ]
  },
  {
   "cell_type": "markdown",
   "metadata": {},
   "source": [
    "## Preprocessing\n",
    "\n",
    "In the preprocessing step, data is augmented and transformed in order for it to be used as input to a machine learning model. While most of the topics covered in this sectino were briefly mentioned above, some new processes will be introduced in the section below.\n",
    "\n",
    "To begin preprocessing, the ApplicationDate columns is transformed to a date type and converted to a numerical value using the following formula for each record in the dataset:\n",
    "\n",
    "(Current Date - Minimum Date) / (Maximum Date - Minimum Date)\n",
    "\n",
    "This allows it to be treated like a number (as the date increases, the size of the number increases) while still retaining useful reference data about the date for each record. "
   ]
  },
  {
   "cell_type": "code",
   "execution_count": 11,
   "metadata": {},
   "outputs": [],
   "source": [
    "df[\"ApplicationDate\"] = pd.to_datetime(df[\"ApplicationDate\"]).dt.date # Converted to date\n",
    "df[\"ApplicationDate\"] = (df[\"ApplicationDate\"] - df[\"ApplicationDate\"].min()) / (df[\"ApplicationDate\"].max() - df[\"ApplicationDate\"].min())"
   ]
  },
  {
   "cell_type": "markdown",
   "metadata": {},
   "source": [
    "Now that the ApplicationDate column as been converted to a numeric representation, the data can be split into training, validation, and testing sets. \n",
    "\n",
    "> For further reading on [training, validation, and test data sets (Wikipedia).](https://en.wikipedia.org/wiki/Training,_validation,_and_test_data_sets)\n",
    "\n",
    "To begin, the columns in the data need to be separated into two categories: \n",
    "* Features: the items that are used as input into a model\n",
    "* Target: The output/prediction of the model\n",
    "\n",
    "Features are used by the mode to predict the label of a given record. The features and target are often refered to as the X data and y data, repectively. Below, the features (X) and label (y) are defined: "
   ]
  },
  {
   "cell_type": "code",
   "execution_count": 12,
   "metadata": {},
   "outputs": [],
   "source": [
    "X = df.drop(columns=[\"LoanApproved\", \"RiskScore\"])\n",
    "y = df[[\"RiskScore\"]]"
   ]
  },
  {
   "cell_type": "markdown",
   "metadata": {},
   "source": [
    "Now that the X and y are defined, the records themselves can be split into training, validation, and testing sets. The lengths for each set are: \n",
    "\n",
    "* Training: 80% of 20,000 (16,000)\n",
    "* Validation: 10% of 20,000 (2,000)\n",
    "* Testing: 10% of 20,000 (2,000)"
   ]
  },
  {
   "cell_type": "code",
   "execution_count": 13,
   "metadata": {},
   "outputs": [
    {
     "data": {
      "text/plain": [
       "((16000, 34), (16000, 1), (2000, 34), (2000, 1), (2000, 34), (2000, 1))"
      ]
     },
     "execution_count": 13,
     "metadata": {},
     "output_type": "execute_result"
    }
   ],
   "source": [
    "from sklearn.model_selection import train_test_split\n",
    "\n",
    "X_train, X_test, y_train, y_test = train_test_split(X, y, test_size=0.2, random_state=42)\n",
    "X_val, X_test, y_val, y_test = train_test_split(X_test, y_test, test_size=0.5, random_state=42)\n",
    "\n",
    "X_train.shape, y_train.shape, X_test.shape, y_test.shape, X_val.shape, y_val.shape"
   ]
  },
  {
   "cell_type": "markdown",
   "metadata": {},
   "source": [
    "With the data split, a pipeline can be made to facilitate the transformation of the datasets. Below, the data types are separated into groups: "
   ]
  },
  {
   "cell_type": "code",
   "execution_count": 14,
   "metadata": {},
   "outputs": [],
   "source": [
    "num_cols = list(X_train.select_dtypes([\"int\", \"float\"]).drop(\"ApplicationDate\", axis=1).columns)\n",
    "date_cols = [\"ApplicationDate\"]\n",
    "str_cols = list(X_train.select_dtypes([\"object\"]).columns)"
   ]
  },
  {
   "cell_type": "markdown",
   "metadata": {},
   "source": [
    "Now each type has a specific transormation applied to it. \n",
    "* Numerical Data: a standard scaler is used\n",
    "* Date Data: a min-max scaler is used\n",
    "* String Data: a one-hot encoder is used"
   ]
  },
  {
   "cell_type": "code",
   "execution_count": 15,
   "metadata": {},
   "outputs": [],
   "source": [
    "full_pipeline = ColumnTransformer([\n",
    "    (\"num\", StandardScaler(), num_cols),\n",
    "    (\"date\", MinMaxScaler(), date_cols),\n",
    "    (\"str\", OneHotEncoder(), str_cols)\n",
    "])"
   ]
  },
  {
   "cell_type": "markdown",
   "metadata": {},
   "source": [
    "The `full_pipeline` can now be fit using the X_train data. This is done because practice, only the training data would be available. This means that only the data that the model is exposed to during training will have an effect on the transformations that take place."
   ]
  },
  {
   "cell_type": "code",
   "execution_count": 16,
   "metadata": {
    "collapsed": true,
    "jupyter": {
     "outputs_hidden": true
    }
   },
   "outputs": [
    {
     "data": {
      "text/html": [
       "<style>#sk-container-id-1 {\n",
       "  /* Definition of color scheme common for light and dark mode */\n",
       "  --sklearn-color-text: black;\n",
       "  --sklearn-color-line: gray;\n",
       "  /* Definition of color scheme for unfitted estimators */\n",
       "  --sklearn-color-unfitted-level-0: #fff5e6;\n",
       "  --sklearn-color-unfitted-level-1: #f6e4d2;\n",
       "  --sklearn-color-unfitted-level-2: #ffe0b3;\n",
       "  --sklearn-color-unfitted-level-3: chocolate;\n",
       "  /* Definition of color scheme for fitted estimators */\n",
       "  --sklearn-color-fitted-level-0: #f0f8ff;\n",
       "  --sklearn-color-fitted-level-1: #d4ebff;\n",
       "  --sklearn-color-fitted-level-2: #b3dbfd;\n",
       "  --sklearn-color-fitted-level-3: cornflowerblue;\n",
       "\n",
       "  /* Specific color for light theme */\n",
       "  --sklearn-color-text-on-default-background: var(--sg-text-color, var(--theme-code-foreground, var(--jp-content-font-color1, black)));\n",
       "  --sklearn-color-background: var(--sg-background-color, var(--theme-background, var(--jp-layout-color0, white)));\n",
       "  --sklearn-color-border-box: var(--sg-text-color, var(--theme-code-foreground, var(--jp-content-font-color1, black)));\n",
       "  --sklearn-color-icon: #696969;\n",
       "\n",
       "  @media (prefers-color-scheme: dark) {\n",
       "    /* Redefinition of color scheme for dark theme */\n",
       "    --sklearn-color-text-on-default-background: var(--sg-text-color, var(--theme-code-foreground, var(--jp-content-font-color1, white)));\n",
       "    --sklearn-color-background: var(--sg-background-color, var(--theme-background, var(--jp-layout-color0, #111)));\n",
       "    --sklearn-color-border-box: var(--sg-text-color, var(--theme-code-foreground, var(--jp-content-font-color1, white)));\n",
       "    --sklearn-color-icon: #878787;\n",
       "  }\n",
       "}\n",
       "\n",
       "#sk-container-id-1 {\n",
       "  color: var(--sklearn-color-text);\n",
       "}\n",
       "\n",
       "#sk-container-id-1 pre {\n",
       "  padding: 0;\n",
       "}\n",
       "\n",
       "#sk-container-id-1 input.sk-hidden--visually {\n",
       "  border: 0;\n",
       "  clip: rect(1px 1px 1px 1px);\n",
       "  clip: rect(1px, 1px, 1px, 1px);\n",
       "  height: 1px;\n",
       "  margin: -1px;\n",
       "  overflow: hidden;\n",
       "  padding: 0;\n",
       "  position: absolute;\n",
       "  width: 1px;\n",
       "}\n",
       "\n",
       "#sk-container-id-1 div.sk-dashed-wrapped {\n",
       "  border: 1px dashed var(--sklearn-color-line);\n",
       "  margin: 0 0.4em 0.5em 0.4em;\n",
       "  box-sizing: border-box;\n",
       "  padding-bottom: 0.4em;\n",
       "  background-color: var(--sklearn-color-background);\n",
       "}\n",
       "\n",
       "#sk-container-id-1 div.sk-container {\n",
       "  /* jupyter's `normalize.less` sets `[hidden] { display: none; }`\n",
       "     but bootstrap.min.css set `[hidden] { display: none !important; }`\n",
       "     so we also need the `!important` here to be able to override the\n",
       "     default hidden behavior on the sphinx rendered scikit-learn.org.\n",
       "     See: https://github.com/scikit-learn/scikit-learn/issues/21755 */\n",
       "  display: inline-block !important;\n",
       "  position: relative;\n",
       "}\n",
       "\n",
       "#sk-container-id-1 div.sk-text-repr-fallback {\n",
       "  display: none;\n",
       "}\n",
       "\n",
       "div.sk-parallel-item,\n",
       "div.sk-serial,\n",
       "div.sk-item {\n",
       "  /* draw centered vertical line to link estimators */\n",
       "  background-image: linear-gradient(var(--sklearn-color-text-on-default-background), var(--sklearn-color-text-on-default-background));\n",
       "  background-size: 2px 100%;\n",
       "  background-repeat: no-repeat;\n",
       "  background-position: center center;\n",
       "}\n",
       "\n",
       "/* Parallel-specific style estimator block */\n",
       "\n",
       "#sk-container-id-1 div.sk-parallel-item::after {\n",
       "  content: \"\";\n",
       "  width: 100%;\n",
       "  border-bottom: 2px solid var(--sklearn-color-text-on-default-background);\n",
       "  flex-grow: 1;\n",
       "}\n",
       "\n",
       "#sk-container-id-1 div.sk-parallel {\n",
       "  display: flex;\n",
       "  align-items: stretch;\n",
       "  justify-content: center;\n",
       "  background-color: var(--sklearn-color-background);\n",
       "  position: relative;\n",
       "}\n",
       "\n",
       "#sk-container-id-1 div.sk-parallel-item {\n",
       "  display: flex;\n",
       "  flex-direction: column;\n",
       "}\n",
       "\n",
       "#sk-container-id-1 div.sk-parallel-item:first-child::after {\n",
       "  align-self: flex-end;\n",
       "  width: 50%;\n",
       "}\n",
       "\n",
       "#sk-container-id-1 div.sk-parallel-item:last-child::after {\n",
       "  align-self: flex-start;\n",
       "  width: 50%;\n",
       "}\n",
       "\n",
       "#sk-container-id-1 div.sk-parallel-item:only-child::after {\n",
       "  width: 0;\n",
       "}\n",
       "\n",
       "/* Serial-specific style estimator block */\n",
       "\n",
       "#sk-container-id-1 div.sk-serial {\n",
       "  display: flex;\n",
       "  flex-direction: column;\n",
       "  align-items: center;\n",
       "  background-color: var(--sklearn-color-background);\n",
       "  padding-right: 1em;\n",
       "  padding-left: 1em;\n",
       "}\n",
       "\n",
       "\n",
       "/* Toggleable style: style used for estimator/Pipeline/ColumnTransformer box that is\n",
       "clickable and can be expanded/collapsed.\n",
       "- Pipeline and ColumnTransformer use this feature and define the default style\n",
       "- Estimators will overwrite some part of the style using the `sk-estimator` class\n",
       "*/\n",
       "\n",
       "/* Pipeline and ColumnTransformer style (default) */\n",
       "\n",
       "#sk-container-id-1 div.sk-toggleable {\n",
       "  /* Default theme specific background. It is overwritten whether we have a\n",
       "  specific estimator or a Pipeline/ColumnTransformer */\n",
       "  background-color: var(--sklearn-color-background);\n",
       "}\n",
       "\n",
       "/* Toggleable label */\n",
       "#sk-container-id-1 label.sk-toggleable__label {\n",
       "  cursor: pointer;\n",
       "  display: block;\n",
       "  width: 100%;\n",
       "  margin-bottom: 0;\n",
       "  padding: 0.5em;\n",
       "  box-sizing: border-box;\n",
       "  text-align: center;\n",
       "}\n",
       "\n",
       "#sk-container-id-1 label.sk-toggleable__label-arrow:before {\n",
       "  /* Arrow on the left of the label */\n",
       "  content: \"▸\";\n",
       "  float: left;\n",
       "  margin-right: 0.25em;\n",
       "  color: var(--sklearn-color-icon);\n",
       "}\n",
       "\n",
       "#sk-container-id-1 label.sk-toggleable__label-arrow:hover:before {\n",
       "  color: var(--sklearn-color-text);\n",
       "}\n",
       "\n",
       "/* Toggleable content - dropdown */\n",
       "\n",
       "#sk-container-id-1 div.sk-toggleable__content {\n",
       "  max-height: 0;\n",
       "  max-width: 0;\n",
       "  overflow: hidden;\n",
       "  text-align: left;\n",
       "  /* unfitted */\n",
       "  background-color: var(--sklearn-color-unfitted-level-0);\n",
       "}\n",
       "\n",
       "#sk-container-id-1 div.sk-toggleable__content.fitted {\n",
       "  /* fitted */\n",
       "  background-color: var(--sklearn-color-fitted-level-0);\n",
       "}\n",
       "\n",
       "#sk-container-id-1 div.sk-toggleable__content pre {\n",
       "  margin: 0.2em;\n",
       "  border-radius: 0.25em;\n",
       "  color: var(--sklearn-color-text);\n",
       "  /* unfitted */\n",
       "  background-color: var(--sklearn-color-unfitted-level-0);\n",
       "}\n",
       "\n",
       "#sk-container-id-1 div.sk-toggleable__content.fitted pre {\n",
       "  /* unfitted */\n",
       "  background-color: var(--sklearn-color-fitted-level-0);\n",
       "}\n",
       "\n",
       "#sk-container-id-1 input.sk-toggleable__control:checked~div.sk-toggleable__content {\n",
       "  /* Expand drop-down */\n",
       "  max-height: 200px;\n",
       "  max-width: 100%;\n",
       "  overflow: auto;\n",
       "}\n",
       "\n",
       "#sk-container-id-1 input.sk-toggleable__control:checked~label.sk-toggleable__label-arrow:before {\n",
       "  content: \"▾\";\n",
       "}\n",
       "\n",
       "/* Pipeline/ColumnTransformer-specific style */\n",
       "\n",
       "#sk-container-id-1 div.sk-label input.sk-toggleable__control:checked~label.sk-toggleable__label {\n",
       "  color: var(--sklearn-color-text);\n",
       "  background-color: var(--sklearn-color-unfitted-level-2);\n",
       "}\n",
       "\n",
       "#sk-container-id-1 div.sk-label.fitted input.sk-toggleable__control:checked~label.sk-toggleable__label {\n",
       "  background-color: var(--sklearn-color-fitted-level-2);\n",
       "}\n",
       "\n",
       "/* Estimator-specific style */\n",
       "\n",
       "/* Colorize estimator box */\n",
       "#sk-container-id-1 div.sk-estimator input.sk-toggleable__control:checked~label.sk-toggleable__label {\n",
       "  /* unfitted */\n",
       "  background-color: var(--sklearn-color-unfitted-level-2);\n",
       "}\n",
       "\n",
       "#sk-container-id-1 div.sk-estimator.fitted input.sk-toggleable__control:checked~label.sk-toggleable__label {\n",
       "  /* fitted */\n",
       "  background-color: var(--sklearn-color-fitted-level-2);\n",
       "}\n",
       "\n",
       "#sk-container-id-1 div.sk-label label.sk-toggleable__label,\n",
       "#sk-container-id-1 div.sk-label label {\n",
       "  /* The background is the default theme color */\n",
       "  color: var(--sklearn-color-text-on-default-background);\n",
       "}\n",
       "\n",
       "/* On hover, darken the color of the background */\n",
       "#sk-container-id-1 div.sk-label:hover label.sk-toggleable__label {\n",
       "  color: var(--sklearn-color-text);\n",
       "  background-color: var(--sklearn-color-unfitted-level-2);\n",
       "}\n",
       "\n",
       "/* Label box, darken color on hover, fitted */\n",
       "#sk-container-id-1 div.sk-label.fitted:hover label.sk-toggleable__label.fitted {\n",
       "  color: var(--sklearn-color-text);\n",
       "  background-color: var(--sklearn-color-fitted-level-2);\n",
       "}\n",
       "\n",
       "/* Estimator label */\n",
       "\n",
       "#sk-container-id-1 div.sk-label label {\n",
       "  font-family: monospace;\n",
       "  font-weight: bold;\n",
       "  display: inline-block;\n",
       "  line-height: 1.2em;\n",
       "}\n",
       "\n",
       "#sk-container-id-1 div.sk-label-container {\n",
       "  text-align: center;\n",
       "}\n",
       "\n",
       "/* Estimator-specific */\n",
       "#sk-container-id-1 div.sk-estimator {\n",
       "  font-family: monospace;\n",
       "  border: 1px dotted var(--sklearn-color-border-box);\n",
       "  border-radius: 0.25em;\n",
       "  box-sizing: border-box;\n",
       "  margin-bottom: 0.5em;\n",
       "  /* unfitted */\n",
       "  background-color: var(--sklearn-color-unfitted-level-0);\n",
       "}\n",
       "\n",
       "#sk-container-id-1 div.sk-estimator.fitted {\n",
       "  /* fitted */\n",
       "  background-color: var(--sklearn-color-fitted-level-0);\n",
       "}\n",
       "\n",
       "/* on hover */\n",
       "#sk-container-id-1 div.sk-estimator:hover {\n",
       "  /* unfitted */\n",
       "  background-color: var(--sklearn-color-unfitted-level-2);\n",
       "}\n",
       "\n",
       "#sk-container-id-1 div.sk-estimator.fitted:hover {\n",
       "  /* fitted */\n",
       "  background-color: var(--sklearn-color-fitted-level-2);\n",
       "}\n",
       "\n",
       "/* Specification for estimator info (e.g. \"i\" and \"?\") */\n",
       "\n",
       "/* Common style for \"i\" and \"?\" */\n",
       "\n",
       ".sk-estimator-doc-link,\n",
       "a:link.sk-estimator-doc-link,\n",
       "a:visited.sk-estimator-doc-link {\n",
       "  float: right;\n",
       "  font-size: smaller;\n",
       "  line-height: 1em;\n",
       "  font-family: monospace;\n",
       "  background-color: var(--sklearn-color-background);\n",
       "  border-radius: 1em;\n",
       "  height: 1em;\n",
       "  width: 1em;\n",
       "  text-decoration: none !important;\n",
       "  margin-left: 1ex;\n",
       "  /* unfitted */\n",
       "  border: var(--sklearn-color-unfitted-level-1) 1pt solid;\n",
       "  color: var(--sklearn-color-unfitted-level-1);\n",
       "}\n",
       "\n",
       ".sk-estimator-doc-link.fitted,\n",
       "a:link.sk-estimator-doc-link.fitted,\n",
       "a:visited.sk-estimator-doc-link.fitted {\n",
       "  /* fitted */\n",
       "  border: var(--sklearn-color-fitted-level-1) 1pt solid;\n",
       "  color: var(--sklearn-color-fitted-level-1);\n",
       "}\n",
       "\n",
       "/* On hover */\n",
       "div.sk-estimator:hover .sk-estimator-doc-link:hover,\n",
       ".sk-estimator-doc-link:hover,\n",
       "div.sk-label-container:hover .sk-estimator-doc-link:hover,\n",
       ".sk-estimator-doc-link:hover {\n",
       "  /* unfitted */\n",
       "  background-color: var(--sklearn-color-unfitted-level-3);\n",
       "  color: var(--sklearn-color-background);\n",
       "  text-decoration: none;\n",
       "}\n",
       "\n",
       "div.sk-estimator.fitted:hover .sk-estimator-doc-link.fitted:hover,\n",
       ".sk-estimator-doc-link.fitted:hover,\n",
       "div.sk-label-container:hover .sk-estimator-doc-link.fitted:hover,\n",
       ".sk-estimator-doc-link.fitted:hover {\n",
       "  /* fitted */\n",
       "  background-color: var(--sklearn-color-fitted-level-3);\n",
       "  color: var(--sklearn-color-background);\n",
       "  text-decoration: none;\n",
       "}\n",
       "\n",
       "/* Span, style for the box shown on hovering the info icon */\n",
       ".sk-estimator-doc-link span {\n",
       "  display: none;\n",
       "  z-index: 9999;\n",
       "  position: relative;\n",
       "  font-weight: normal;\n",
       "  right: .2ex;\n",
       "  padding: .5ex;\n",
       "  margin: .5ex;\n",
       "  width: min-content;\n",
       "  min-width: 20ex;\n",
       "  max-width: 50ex;\n",
       "  color: var(--sklearn-color-text);\n",
       "  box-shadow: 2pt 2pt 4pt #999;\n",
       "  /* unfitted */\n",
       "  background: var(--sklearn-color-unfitted-level-0);\n",
       "  border: .5pt solid var(--sklearn-color-unfitted-level-3);\n",
       "}\n",
       "\n",
       ".sk-estimator-doc-link.fitted span {\n",
       "  /* fitted */\n",
       "  background: var(--sklearn-color-fitted-level-0);\n",
       "  border: var(--sklearn-color-fitted-level-3);\n",
       "}\n",
       "\n",
       ".sk-estimator-doc-link:hover span {\n",
       "  display: block;\n",
       "}\n",
       "\n",
       "/* \"?\"-specific style due to the `<a>` HTML tag */\n",
       "\n",
       "#sk-container-id-1 a.estimator_doc_link {\n",
       "  float: right;\n",
       "  font-size: 1rem;\n",
       "  line-height: 1em;\n",
       "  font-family: monospace;\n",
       "  background-color: var(--sklearn-color-background);\n",
       "  border-radius: 1rem;\n",
       "  height: 1rem;\n",
       "  width: 1rem;\n",
       "  text-decoration: none;\n",
       "  /* unfitted */\n",
       "  color: var(--sklearn-color-unfitted-level-1);\n",
       "  border: var(--sklearn-color-unfitted-level-1) 1pt solid;\n",
       "}\n",
       "\n",
       "#sk-container-id-1 a.estimator_doc_link.fitted {\n",
       "  /* fitted */\n",
       "  border: var(--sklearn-color-fitted-level-1) 1pt solid;\n",
       "  color: var(--sklearn-color-fitted-level-1);\n",
       "}\n",
       "\n",
       "/* On hover */\n",
       "#sk-container-id-1 a.estimator_doc_link:hover {\n",
       "  /* unfitted */\n",
       "  background-color: var(--sklearn-color-unfitted-level-3);\n",
       "  color: var(--sklearn-color-background);\n",
       "  text-decoration: none;\n",
       "}\n",
       "\n",
       "#sk-container-id-1 a.estimator_doc_link.fitted:hover {\n",
       "  /* fitted */\n",
       "  background-color: var(--sklearn-color-fitted-level-3);\n",
       "}\n",
       "</style><div id=\"sk-container-id-1\" class=\"sk-top-container\"><div class=\"sk-text-repr-fallback\"><pre>ColumnTransformer(transformers=[(&#x27;num&#x27;, StandardScaler(),\n",
       "                                 [&#x27;Age&#x27;, &#x27;AnnualIncome&#x27;, &#x27;CreditScore&#x27;,\n",
       "                                  &#x27;Experience&#x27;, &#x27;LoanAmount&#x27;, &#x27;LoanDuration&#x27;,\n",
       "                                  &#x27;NumberOfDependents&#x27;, &#x27;MonthlyDebtPayments&#x27;,\n",
       "                                  &#x27;CreditCardUtilizationRate&#x27;,\n",
       "                                  &#x27;NumberOfOpenCreditLines&#x27;,\n",
       "                                  &#x27;NumberOfCreditInquiries&#x27;,\n",
       "                                  &#x27;DebtToIncomeRatio&#x27;, &#x27;BankruptcyHistory&#x27;,\n",
       "                                  &#x27;PreviousLoanDefaults&#x27;, &#x27;PaymentHistory&#x27;,\n",
       "                                  &#x27;LengthOfCredi...\n",
       "                                  &#x27;CheckingAccountBalance&#x27;, &#x27;TotalAssets&#x27;,\n",
       "                                  &#x27;TotalLiabilities&#x27;, &#x27;MonthlyIncome&#x27;,\n",
       "                                  &#x27;UtilityBillsPaymentHistory&#x27;, &#x27;JobTenure&#x27;,\n",
       "                                  &#x27;NetWorth&#x27;, &#x27;BaseInterestRate&#x27;,\n",
       "                                  &#x27;InterestRate&#x27;, &#x27;MonthlyLoanPayment&#x27;,\n",
       "                                  &#x27;TotalDebtToIncomeRatio&#x27;]),\n",
       "                                (&#x27;date&#x27;, MinMaxScaler(), [&#x27;ApplicationDate&#x27;]),\n",
       "                                (&#x27;str&#x27;, OneHotEncoder(),\n",
       "                                 [&#x27;EmploymentStatus&#x27;, &#x27;EducationLevel&#x27;,\n",
       "                                  &#x27;MaritalStatus&#x27;, &#x27;HomeOwnershipStatus&#x27;,\n",
       "                                  &#x27;LoanPurpose&#x27;])])</pre><b>In a Jupyter environment, please rerun this cell to show the HTML representation or trust the notebook. <br />On GitHub, the HTML representation is unable to render, please try loading this page with nbviewer.org.</b></div><div class=\"sk-container\" hidden><div class=\"sk-item sk-dashed-wrapped\"><div class=\"sk-label-container\"><div class=\"sk-label fitted sk-toggleable\"><input class=\"sk-toggleable__control sk-hidden--visually\" id=\"sk-estimator-id-1\" type=\"checkbox\" ><label for=\"sk-estimator-id-1\" class=\"sk-toggleable__label fitted sk-toggleable__label-arrow fitted\">&nbsp;&nbsp;ColumnTransformer<a class=\"sk-estimator-doc-link fitted\" rel=\"noreferrer\" target=\"_blank\" href=\"https://scikit-learn.org/1.5/modules/generated/sklearn.compose.ColumnTransformer.html\">?<span>Documentation for ColumnTransformer</span></a><span class=\"sk-estimator-doc-link fitted\">i<span>Fitted</span></span></label><div class=\"sk-toggleable__content fitted\"><pre>ColumnTransformer(transformers=[(&#x27;num&#x27;, StandardScaler(),\n",
       "                                 [&#x27;Age&#x27;, &#x27;AnnualIncome&#x27;, &#x27;CreditScore&#x27;,\n",
       "                                  &#x27;Experience&#x27;, &#x27;LoanAmount&#x27;, &#x27;LoanDuration&#x27;,\n",
       "                                  &#x27;NumberOfDependents&#x27;, &#x27;MonthlyDebtPayments&#x27;,\n",
       "                                  &#x27;CreditCardUtilizationRate&#x27;,\n",
       "                                  &#x27;NumberOfOpenCreditLines&#x27;,\n",
       "                                  &#x27;NumberOfCreditInquiries&#x27;,\n",
       "                                  &#x27;DebtToIncomeRatio&#x27;, &#x27;BankruptcyHistory&#x27;,\n",
       "                                  &#x27;PreviousLoanDefaults&#x27;, &#x27;PaymentHistory&#x27;,\n",
       "                                  &#x27;LengthOfCredi...\n",
       "                                  &#x27;CheckingAccountBalance&#x27;, &#x27;TotalAssets&#x27;,\n",
       "                                  &#x27;TotalLiabilities&#x27;, &#x27;MonthlyIncome&#x27;,\n",
       "                                  &#x27;UtilityBillsPaymentHistory&#x27;, &#x27;JobTenure&#x27;,\n",
       "                                  &#x27;NetWorth&#x27;, &#x27;BaseInterestRate&#x27;,\n",
       "                                  &#x27;InterestRate&#x27;, &#x27;MonthlyLoanPayment&#x27;,\n",
       "                                  &#x27;TotalDebtToIncomeRatio&#x27;]),\n",
       "                                (&#x27;date&#x27;, MinMaxScaler(), [&#x27;ApplicationDate&#x27;]),\n",
       "                                (&#x27;str&#x27;, OneHotEncoder(),\n",
       "                                 [&#x27;EmploymentStatus&#x27;, &#x27;EducationLevel&#x27;,\n",
       "                                  &#x27;MaritalStatus&#x27;, &#x27;HomeOwnershipStatus&#x27;,\n",
       "                                  &#x27;LoanPurpose&#x27;])])</pre></div> </div></div><div class=\"sk-parallel\"><div class=\"sk-parallel-item\"><div class=\"sk-item\"><div class=\"sk-label-container\"><div class=\"sk-label fitted sk-toggleable\"><input class=\"sk-toggleable__control sk-hidden--visually\" id=\"sk-estimator-id-2\" type=\"checkbox\" ><label for=\"sk-estimator-id-2\" class=\"sk-toggleable__label fitted sk-toggleable__label-arrow fitted\">num</label><div class=\"sk-toggleable__content fitted\"><pre>[&#x27;Age&#x27;, &#x27;AnnualIncome&#x27;, &#x27;CreditScore&#x27;, &#x27;Experience&#x27;, &#x27;LoanAmount&#x27;, &#x27;LoanDuration&#x27;, &#x27;NumberOfDependents&#x27;, &#x27;MonthlyDebtPayments&#x27;, &#x27;CreditCardUtilizationRate&#x27;, &#x27;NumberOfOpenCreditLines&#x27;, &#x27;NumberOfCreditInquiries&#x27;, &#x27;DebtToIncomeRatio&#x27;, &#x27;BankruptcyHistory&#x27;, &#x27;PreviousLoanDefaults&#x27;, &#x27;PaymentHistory&#x27;, &#x27;LengthOfCreditHistory&#x27;, &#x27;SavingsAccountBalance&#x27;, &#x27;CheckingAccountBalance&#x27;, &#x27;TotalAssets&#x27;, &#x27;TotalLiabilities&#x27;, &#x27;MonthlyIncome&#x27;, &#x27;UtilityBillsPaymentHistory&#x27;, &#x27;JobTenure&#x27;, &#x27;NetWorth&#x27;, &#x27;BaseInterestRate&#x27;, &#x27;InterestRate&#x27;, &#x27;MonthlyLoanPayment&#x27;, &#x27;TotalDebtToIncomeRatio&#x27;]</pre></div> </div></div><div class=\"sk-serial\"><div class=\"sk-item\"><div class=\"sk-estimator fitted sk-toggleable\"><input class=\"sk-toggleable__control sk-hidden--visually\" id=\"sk-estimator-id-3\" type=\"checkbox\" ><label for=\"sk-estimator-id-3\" class=\"sk-toggleable__label fitted sk-toggleable__label-arrow fitted\">&nbsp;StandardScaler<a class=\"sk-estimator-doc-link fitted\" rel=\"noreferrer\" target=\"_blank\" href=\"https://scikit-learn.org/1.5/modules/generated/sklearn.preprocessing.StandardScaler.html\">?<span>Documentation for StandardScaler</span></a></label><div class=\"sk-toggleable__content fitted\"><pre>StandardScaler()</pre></div> </div></div></div></div></div><div class=\"sk-parallel-item\"><div class=\"sk-item\"><div class=\"sk-label-container\"><div class=\"sk-label fitted sk-toggleable\"><input class=\"sk-toggleable__control sk-hidden--visually\" id=\"sk-estimator-id-4\" type=\"checkbox\" ><label for=\"sk-estimator-id-4\" class=\"sk-toggleable__label fitted sk-toggleable__label-arrow fitted\">date</label><div class=\"sk-toggleable__content fitted\"><pre>[&#x27;ApplicationDate&#x27;]</pre></div> </div></div><div class=\"sk-serial\"><div class=\"sk-item\"><div class=\"sk-estimator fitted sk-toggleable\"><input class=\"sk-toggleable__control sk-hidden--visually\" id=\"sk-estimator-id-5\" type=\"checkbox\" ><label for=\"sk-estimator-id-5\" class=\"sk-toggleable__label fitted sk-toggleable__label-arrow fitted\">&nbsp;MinMaxScaler<a class=\"sk-estimator-doc-link fitted\" rel=\"noreferrer\" target=\"_blank\" href=\"https://scikit-learn.org/1.5/modules/generated/sklearn.preprocessing.MinMaxScaler.html\">?<span>Documentation for MinMaxScaler</span></a></label><div class=\"sk-toggleable__content fitted\"><pre>MinMaxScaler()</pre></div> </div></div></div></div></div><div class=\"sk-parallel-item\"><div class=\"sk-item\"><div class=\"sk-label-container\"><div class=\"sk-label fitted sk-toggleable\"><input class=\"sk-toggleable__control sk-hidden--visually\" id=\"sk-estimator-id-6\" type=\"checkbox\" ><label for=\"sk-estimator-id-6\" class=\"sk-toggleable__label fitted sk-toggleable__label-arrow fitted\">str</label><div class=\"sk-toggleable__content fitted\"><pre>[&#x27;EmploymentStatus&#x27;, &#x27;EducationLevel&#x27;, &#x27;MaritalStatus&#x27;, &#x27;HomeOwnershipStatus&#x27;, &#x27;LoanPurpose&#x27;]</pre></div> </div></div><div class=\"sk-serial\"><div class=\"sk-item\"><div class=\"sk-estimator fitted sk-toggleable\"><input class=\"sk-toggleable__control sk-hidden--visually\" id=\"sk-estimator-id-7\" type=\"checkbox\" ><label for=\"sk-estimator-id-7\" class=\"sk-toggleable__label fitted sk-toggleable__label-arrow fitted\">&nbsp;OneHotEncoder<a class=\"sk-estimator-doc-link fitted\" rel=\"noreferrer\" target=\"_blank\" href=\"https://scikit-learn.org/1.5/modules/generated/sklearn.preprocessing.OneHotEncoder.html\">?<span>Documentation for OneHotEncoder</span></a></label><div class=\"sk-toggleable__content fitted\"><pre>OneHotEncoder()</pre></div> </div></div></div></div></div></div></div></div></div>"
      ],
      "text/plain": [
       "ColumnTransformer(transformers=[('num', StandardScaler(),\n",
       "                                 ['Age', 'AnnualIncome', 'CreditScore',\n",
       "                                  'Experience', 'LoanAmount', 'LoanDuration',\n",
       "                                  'NumberOfDependents', 'MonthlyDebtPayments',\n",
       "                                  'CreditCardUtilizationRate',\n",
       "                                  'NumberOfOpenCreditLines',\n",
       "                                  'NumberOfCreditInquiries',\n",
       "                                  'DebtToIncomeRatio', 'BankruptcyHistory',\n",
       "                                  'PreviousLoanDefaults', 'PaymentHistory',\n",
       "                                  'LengthOfCredi...\n",
       "                                  'CheckingAccountBalance', 'TotalAssets',\n",
       "                                  'TotalLiabilities', 'MonthlyIncome',\n",
       "                                  'UtilityBillsPaymentHistory', 'JobTenure',\n",
       "                                  'NetWorth', 'BaseInterestRate',\n",
       "                                  'InterestRate', 'MonthlyLoanPayment',\n",
       "                                  'TotalDebtToIncomeRatio']),\n",
       "                                ('date', MinMaxScaler(), ['ApplicationDate']),\n",
       "                                ('str', OneHotEncoder(),\n",
       "                                 ['EmploymentStatus', 'EducationLevel',\n",
       "                                  'MaritalStatus', 'HomeOwnershipStatus',\n",
       "                                  'LoanPurpose'])])"
      ]
     },
     "execution_count": 16,
     "metadata": {},
     "output_type": "execute_result"
    }
   ],
   "source": [
    "full_pipeline.fit(X_train)"
   ]
  },
  {
   "cell_type": "markdown",
   "metadata": {},
   "source": [
    "The pipeline is now fitted to the training data and is used to transform the training, validation, and testing data: "
   ]
  },
  {
   "cell_type": "code",
   "execution_count": 17,
   "metadata": {},
   "outputs": [],
   "source": [
    "X_train = full_pipeline.transform(X_train)\n",
    "X_val = full_pipeline.transform(X_val)\n",
    "X_test = full_pipeline.transform(X_test)"
   ]
  },
  {
   "cell_type": "markdown",
   "metadata": {},
   "source": [
    "The data is now prepared for training neural networks. "
   ]
  },
  {
   "cell_type": "markdown",
   "metadata": {},
   "source": [
    "## Model Building\n",
    "\n",
    "To begin the model building, a baseline model is constructed. It consists of a single dense, 256-unit layer, followed by a batch normalization layer and a dropout layer. The dense layer uses RELU activation: "
   ]
  },
  {
   "cell_type": "code",
   "execution_count": 18,
   "metadata": {},
   "outputs": [
    {
     "data": {
      "text/html": [
       "<pre style=\"white-space:pre;overflow-x:auto;line-height:normal;font-family:Menlo,'DejaVu Sans Mono',consolas,'Courier New',monospace\"><span style=\"font-weight: bold\">Model: \"sequential\"</span>\n",
       "</pre>\n"
      ],
      "text/plain": [
       "\u001b[1mModel: \"sequential\"\u001b[0m\n"
      ]
     },
     "metadata": {},
     "output_type": "display_data"
    },
    {
     "data": {
      "text/html": [
       "<pre style=\"white-space:pre;overflow-x:auto;line-height:normal;font-family:Menlo,'DejaVu Sans Mono',consolas,'Courier New',monospace\">┏━━━━━━━━━━━━━━━━━━━━━━━━━━━━━━━━━┳━━━━━━━━━━━━━━━━━━━━━━━━┳━━━━━━━━━━━━━━━┓\n",
       "┃<span style=\"font-weight: bold\"> Layer (type)                    </span>┃<span style=\"font-weight: bold\"> Output Shape           </span>┃<span style=\"font-weight: bold\">       Param # </span>┃\n",
       "┡━━━━━━━━━━━━━━━━━━━━━━━━━━━━━━━━━╇━━━━━━━━━━━━━━━━━━━━━━━━╇━━━━━━━━━━━━━━━┩\n",
       "│ dense (<span style=\"color: #0087ff; text-decoration-color: #0087ff\">Dense</span>)                   │ (<span style=\"color: #00d7ff; text-decoration-color: #00d7ff\">None</span>, <span style=\"color: #00af00; text-decoration-color: #00af00\">256</span>)            │        <span style=\"color: #00af00; text-decoration-color: #00af00\">13,056</span> │\n",
       "├─────────────────────────────────┼────────────────────────┼───────────────┤\n",
       "│ batch_normalization             │ (<span style=\"color: #00d7ff; text-decoration-color: #00d7ff\">None</span>, <span style=\"color: #00af00; text-decoration-color: #00af00\">256</span>)            │         <span style=\"color: #00af00; text-decoration-color: #00af00\">1,024</span> │\n",
       "│ (<span style=\"color: #0087ff; text-decoration-color: #0087ff\">BatchNormalization</span>)            │                        │               │\n",
       "├─────────────────────────────────┼────────────────────────┼───────────────┤\n",
       "│ dropout (<span style=\"color: #0087ff; text-decoration-color: #0087ff\">Dropout</span>)               │ (<span style=\"color: #00d7ff; text-decoration-color: #00d7ff\">None</span>, <span style=\"color: #00af00; text-decoration-color: #00af00\">256</span>)            │             <span style=\"color: #00af00; text-decoration-color: #00af00\">0</span> │\n",
       "├─────────────────────────────────┼────────────────────────┼───────────────┤\n",
       "│ dense_1 (<span style=\"color: #0087ff; text-decoration-color: #0087ff\">Dense</span>)                 │ (<span style=\"color: #00d7ff; text-decoration-color: #00d7ff\">None</span>, <span style=\"color: #00af00; text-decoration-color: #00af00\">1</span>)              │           <span style=\"color: #00af00; text-decoration-color: #00af00\">257</span> │\n",
       "└─────────────────────────────────┴────────────────────────┴───────────────┘\n",
       "</pre>\n"
      ],
      "text/plain": [
       "┏━━━━━━━━━━━━━━━━━━━━━━━━━━━━━━━━━┳━━━━━━━━━━━━━━━━━━━━━━━━┳━━━━━━━━━━━━━━━┓\n",
       "┃\u001b[1m \u001b[0m\u001b[1mLayer (type)                   \u001b[0m\u001b[1m \u001b[0m┃\u001b[1m \u001b[0m\u001b[1mOutput Shape          \u001b[0m\u001b[1m \u001b[0m┃\u001b[1m \u001b[0m\u001b[1m      Param #\u001b[0m\u001b[1m \u001b[0m┃\n",
       "┡━━━━━━━━━━━━━━━━━━━━━━━━━━━━━━━━━╇━━━━━━━━━━━━━━━━━━━━━━━━╇━━━━━━━━━━━━━━━┩\n",
       "│ dense (\u001b[38;5;33mDense\u001b[0m)                   │ (\u001b[38;5;45mNone\u001b[0m, \u001b[38;5;34m256\u001b[0m)            │        \u001b[38;5;34m13,056\u001b[0m │\n",
       "├─────────────────────────────────┼────────────────────────┼───────────────┤\n",
       "│ batch_normalization             │ (\u001b[38;5;45mNone\u001b[0m, \u001b[38;5;34m256\u001b[0m)            │         \u001b[38;5;34m1,024\u001b[0m │\n",
       "│ (\u001b[38;5;33mBatchNormalization\u001b[0m)            │                        │               │\n",
       "├─────────────────────────────────┼────────────────────────┼───────────────┤\n",
       "│ dropout (\u001b[38;5;33mDropout\u001b[0m)               │ (\u001b[38;5;45mNone\u001b[0m, \u001b[38;5;34m256\u001b[0m)            │             \u001b[38;5;34m0\u001b[0m │\n",
       "├─────────────────────────────────┼────────────────────────┼───────────────┤\n",
       "│ dense_1 (\u001b[38;5;33mDense\u001b[0m)                 │ (\u001b[38;5;45mNone\u001b[0m, \u001b[38;5;34m1\u001b[0m)              │           \u001b[38;5;34m257\u001b[0m │\n",
       "└─────────────────────────────────┴────────────────────────┴───────────────┘\n"
      ]
     },
     "metadata": {},
     "output_type": "display_data"
    },
    {
     "data": {
      "text/html": [
       "<pre style=\"white-space:pre;overflow-x:auto;line-height:normal;font-family:Menlo,'DejaVu Sans Mono',consolas,'Courier New',monospace\"><span style=\"font-weight: bold\"> Total params: </span><span style=\"color: #00af00; text-decoration-color: #00af00\">14,337</span> (56.00 KB)\n",
       "</pre>\n"
      ],
      "text/plain": [
       "\u001b[1m Total params: \u001b[0m\u001b[38;5;34m14,337\u001b[0m (56.00 KB)\n"
      ]
     },
     "metadata": {},
     "output_type": "display_data"
    },
    {
     "data": {
      "text/html": [
       "<pre style=\"white-space:pre;overflow-x:auto;line-height:normal;font-family:Menlo,'DejaVu Sans Mono',consolas,'Courier New',monospace\"><span style=\"font-weight: bold\"> Trainable params: </span><span style=\"color: #00af00; text-decoration-color: #00af00\">13,825</span> (54.00 KB)\n",
       "</pre>\n"
      ],
      "text/plain": [
       "\u001b[1m Trainable params: \u001b[0m\u001b[38;5;34m13,825\u001b[0m (54.00 KB)\n"
      ]
     },
     "metadata": {},
     "output_type": "display_data"
    },
    {
     "data": {
      "text/html": [
       "<pre style=\"white-space:pre;overflow-x:auto;line-height:normal;font-family:Menlo,'DejaVu Sans Mono',consolas,'Courier New',monospace\"><span style=\"font-weight: bold\"> Non-trainable params: </span><span style=\"color: #00af00; text-decoration-color: #00af00\">512</span> (2.00 KB)\n",
       "</pre>\n"
      ],
      "text/plain": [
       "\u001b[1m Non-trainable params: \u001b[0m\u001b[38;5;34m512\u001b[0m (2.00 KB)\n"
      ]
     },
     "metadata": {},
     "output_type": "display_data"
    }
   ],
   "source": [
    "model1 = Sequential([\n",
    "\n",
    "    InputLayer(shape=X_train.shape[1:]),\n",
    "\n",
    "    Dense(256, activation=\"relu\"),\n",
    "    BatchNormalization(),\n",
    "    Dropout(0.25),\n",
    "\n",
    "    Dense(1, \"relu\")\n",
    "\n",
    "])\n",
    "\n",
    "model1.summary()"
   ]
  },
  {
   "cell_type": "markdown",
   "metadata": {},
   "source": [
    "The model is then compiled with the following the following parameters:\n",
    "* Loss: Mean Squared Error (MSE): \n",
    "* Optimizer: Stochastic Gradient Descent:\n",
    "* Metric: Mean Absolute Error (MAE):"
   ]
  },
  {
   "cell_type": "code",
   "execution_count": 19,
   "metadata": {},
   "outputs": [],
   "source": [
    "model1.compile(loss=MeanSquaredError(), optimizer=SGD(learning_rate=0.0001), metrics=[MeanAbsoluteError()])"
   ]
  },
  {
   "cell_type": "markdown",
   "metadata": {},
   "source": [
    "Finally, the model is fitted on the training data over 25 epochs: "
   ]
  },
  {
   "cell_type": "code",
   "execution_count": 20,
   "metadata": {},
   "outputs": [
    {
     "name": "stdout",
     "output_type": "stream",
     "text": [
      "\u001b[1m63/63\u001b[0m \u001b[32m━━━━━━━━━━━━━━━━━━━━\u001b[0m\u001b[37m\u001b[0m \u001b[1m0s\u001b[0m 1ms/step - loss: 9.3884 - mean_absolute_error: 2.2614 \n"
     ]
    },
    {
     "data": {
      "text/plain": [
       "[8.495150566101074, 2.2075443267822266]"
      ]
     },
     "execution_count": 20,
     "metadata": {},
     "output_type": "execute_result"
    }
   ],
   "source": [
    "model1.fit(X_train, y_train, verbose=0, epochs=25)\n",
    "model1.evaluate(X_val, y_val)"
   ]
  },
  {
   "cell_type": "markdown",
   "metadata": {},
   "source": [
    "The `model1` has a loss of 9.4 and a Mean Absolute Error of 2.3. Below, several more models are trained. Each will be built in the same process as above, but the code is all in one cell for each. \n",
    "\n",
    "The second model is similar to the first, but the dense layer, batch normalization, and dropout layers are duplicated for a total of four groups: "
   ]
  },
  {
   "cell_type": "code",
   "execution_count": 21,
   "metadata": {},
   "outputs": [
    {
     "name": "stdout",
     "output_type": "stream",
     "text": [
      "\u001b[1m63/63\u001b[0m \u001b[32m━━━━━━━━━━━━━━━━━━━━\u001b[0m\u001b[37m\u001b[0m \u001b[1m0s\u001b[0m 1ms/step - loss: 8.0231 - mean_absolute_error: 2.0510 \n"
     ]
    },
    {
     "data": {
      "text/plain": [
       "[7.7792134284973145, 2.0311553478240967]"
      ]
     },
     "execution_count": 21,
     "metadata": {},
     "output_type": "execute_result"
    }
   ],
   "source": [
    "model2 = Sequential([\n",
    "\n",
    "    InputLayer(shape=X_train.shape[1:]),\n",
    "\n",
    "    Dense(256, activation=\"relu\"),\n",
    "    BatchNormalization(),\n",
    "    Dropout(0.25),\n",
    "    \n",
    "    Dense(256, activation=\"relu\"),\n",
    "    BatchNormalization(),\n",
    "    Dropout(0.25),\n",
    "\n",
    "    Dense(256, activation=\"relu\"),\n",
    "    BatchNormalization(),\n",
    "    Dropout(0.25),\n",
    "    \n",
    "    Dense(256, activation=\"relu\"),\n",
    "    BatchNormalization(),\n",
    "    Dropout(0.25),\n",
    "\n",
    "    Dense(1, \"relu\")\n",
    "\n",
    "])\n",
    "\n",
    "model2.compile(loss=MeanSquaredError(), optimizer=SGD(learning_rate=0.0001), metrics=[MeanAbsoluteError()])\n",
    "model2.fit(X_train, y_train, verbose=0, epochs=25)\n",
    "model2.evaluate(X_val, y_val)"
   ]
  },
  {
   "cell_type": "markdown",
   "metadata": {},
   "source": [
    "Both the losss and MAE saw a decrease. It seems that adding more layers to the model improved the results, even its only a slight improvement. In the next model, there are still 4 groups, but each group halves the number of units in its dense layer (512, 256, 128, 64). Additionally, the dropout is reduced to 0.2. "
   ]
  },
  {
   "cell_type": "code",
   "execution_count": 22,
   "metadata": {},
   "outputs": [
    {
     "name": "stdout",
     "output_type": "stream",
     "text": [
      "\u001b[1m63/63\u001b[0m \u001b[32m━━━━━━━━━━━━━━━━━━━━\u001b[0m\u001b[37m\u001b[0m \u001b[1m0s\u001b[0m 1ms/step - loss: 7.6805 - mean_absolute_error: 2.0629  \n"
     ]
    },
    {
     "data": {
      "text/plain": [
       "[7.06935453414917, 2.0106699466705322]"
      ]
     },
     "execution_count": 22,
     "metadata": {},
     "output_type": "execute_result"
    }
   ],
   "source": [
    "model3 = Sequential([\n",
    "\n",
    "    InputLayer(shape=X_train.shape[1:]),\n",
    "\n",
    "    Dense(512, activation=\"relu\"),\n",
    "    BatchNormalization(),\n",
    "    Dropout(0.2),\n",
    "    \n",
    "    Dense(256, activation=\"relu\"),\n",
    "    BatchNormalization(),\n",
    "    Dropout(0.2),\n",
    "\n",
    "    Dense(128, activation=\"relu\"),\n",
    "    BatchNormalization(),\n",
    "    Dropout(0.2),\n",
    "    \n",
    "    Dense(64, activation=\"relu\"),\n",
    "    BatchNormalization(),\n",
    "    Dropout(0.2),\n",
    "\n",
    "    Dense(1, \"relu\")\n",
    "\n",
    "])\n",
    "\n",
    "model3.compile(loss=MeanSquaredError(), optimizer=SGD(learning_rate=0.0001), metrics=[MeanAbsoluteError()])\n",
    "model3.fit(X_train, y_train, verbose=0, epochs=25)\n",
    "model3.evaluate(X_val, y_val)"
   ]
  },
  {
   "cell_type": "markdown",
   "metadata": {},
   "source": [
    "Although this model's improvement is smaller than the previous, it was still able to beat `model2`'s loss score. \n",
    "\n",
    "The final 2 models will do something slighly different than the first 3; the use of SELU activation instead of RELU. SELU activation works particularly well when coupled with batch normalization, so the following models will utilize this activation. `model4` still consists of 4 groups, the first two with 512-unit dense layers and the second two with 256-unit layers. Dropout is increased to 0.25 once again: "
   ]
  },
  {
   "cell_type": "code",
   "execution_count": 23,
   "metadata": {},
   "outputs": [
    {
     "name": "stdout",
     "output_type": "stream",
     "text": [
      "\u001b[1m63/63\u001b[0m \u001b[32m━━━━━━━━━━━━━━━━━━━━\u001b[0m\u001b[37m\u001b[0m \u001b[1m0s\u001b[0m 2ms/step - loss: 4.7740 - mean_absolute_error: 1.5195 \n"
     ]
    },
    {
     "data": {
      "text/plain": [
       "[4.807595252990723, 1.5306907892227173]"
      ]
     },
     "execution_count": 23,
     "metadata": {},
     "output_type": "execute_result"
    }
   ],
   "source": [
    "model4 = Sequential([\n",
    "\n",
    "    InputLayer(shape=X_train.shape[1:]),\n",
    "\n",
    "    Dense(512, activation=\"selu\", kernel_initializer=\"lecun_normal\"),\n",
    "    BatchNormalization(),\n",
    "    Dropout(0.25),\n",
    "    \n",
    "    Dense(512, activation=\"selu\", kernel_initializer=\"lecun_normal\"),\n",
    "    BatchNormalization(),\n",
    "    Dropout(0.25),\n",
    "\n",
    "    Dense(256, activation=\"selu\", kernel_initializer=\"lecun_normal\"),\n",
    "    BatchNormalization(),\n",
    "    Dropout(0.25),\n",
    "    \n",
    "    Dense(256, activation=\"selu\", kernel_initializer=\"lecun_normal\"),\n",
    "    BatchNormalization(),\n",
    "    Dropout(0.25),\n",
    "\n",
    "    Dense(1, activation=\"selu\", kernel_initializer=\"lecun_normal\")\n",
    "\n",
    "])\n",
    "\n",
    "model4.compile(loss=MeanSquaredError(), optimizer=Adam(learning_rate=0.001), metrics=[MeanAbsoluteError()])\n",
    "model4.fit(X_train, y_train, verbose=0, epochs=25)\n",
    "model4.evaluate(X_val, y_val)"
   ]
  },
  {
   "cell_type": "markdown",
   "metadata": {},
   "source": [
    "With the utlization of SELU activation, `model4` saw a major decrease in both loss and MAE. While these results are a huge improvement, one more SELU model is trained below, with the units in each dense layer being halved after in each sequential group: "
   ]
  },
  {
   "cell_type": "code",
   "execution_count": 24,
   "metadata": {},
   "outputs": [
    {
     "name": "stdout",
     "output_type": "stream",
     "text": [
      "\u001b[1m63/63\u001b[0m \u001b[32m━━━━━━━━━━━━━━━━━━━━\u001b[0m\u001b[37m\u001b[0m \u001b[1m0s\u001b[0m 2ms/step - loss: 6.2996 - mean_absolute_error: 1.9228 \n"
     ]
    },
    {
     "data": {
      "text/plain": [
       "[6.22783899307251, 1.920954942703247]"
      ]
     },
     "execution_count": 24,
     "metadata": {},
     "output_type": "execute_result"
    }
   ],
   "source": [
    "model5 = Sequential([\n",
    "\n",
    "    InputLayer(shape=X_train.shape[1:]),\n",
    "\n",
    "    Dense(1028, activation=\"selu\", kernel_initializer=\"lecun_normal\"),\n",
    "    BatchNormalization(),\n",
    "    Dropout(0.25),\n",
    "    \n",
    "    Dense(512, activation=\"selu\", kernel_initializer=\"lecun_normal\"),\n",
    "    BatchNormalization(),\n",
    "    Dropout(0.25),\n",
    "\n",
    "    Dense(256, activation=\"selu\", kernel_initializer=\"lecun_normal\"),\n",
    "    BatchNormalization(),\n",
    "    Dropout(0.25),\n",
    "    \n",
    "    Dense(128, activation=\"selu\", kernel_initializer=\"lecun_normal\"),\n",
    "    BatchNormalization(),\n",
    "    Dropout(0.25),\n",
    "\n",
    "    Dense(1, activation=\"selu\", kernel_initializer=\"lecun_normal\")\n",
    "\n",
    "])\n",
    "\n",
    "model5.compile(loss=MeanSquaredError(), optimizer=Adam(learning_rate=0.001), metrics=[MeanAbsoluteError()])\n",
    "model5.fit(X_train, y_train, verbose=0, epochs=25)\n",
    "model5.evaluate(X_val, y_val)"
   ]
  },
  {
   "cell_type": "markdown",
   "metadata": {},
   "source": [
    "While a loss of 6.3 is still an improvement over the first 3 models, `model5` failed to beat the previous model's scores. The final loss for each model is displayed below: \n",
    "* `model1`: 9.3884\n",
    "* `model2`: 8.0231\n",
    "* `model3`: 7.6805\n",
    "* `model4`: 4.7740\n",
    "* `model5`: 6.2996\n",
    "\n",
    "Because the 4th and 5th models had the best scores, they will be trained further in an attempt to improve the losses."
   ]
  },
  {
   "cell_type": "markdown",
   "metadata": {},
   "source": [
    "### Choosing the Best Models\n",
    "\n",
    "The two best models were the SELU models, `model4` and `model5`. Since these models performed the best, both will be fitted for 100 more epochs and evaluated on the testing data. First, `model4` is trained once again: "
   ]
  },
  {
   "cell_type": "code",
   "execution_count": 27,
   "metadata": {},
   "outputs": [
    {
     "name": "stdout",
     "output_type": "stream",
     "text": [
      "\u001b[1m63/63\u001b[0m \u001b[32m━━━━━━━━━━━━━━━━━━━━\u001b[0m\u001b[37m\u001b[0m \u001b[1m0s\u001b[0m 2ms/step - loss: 5.4933 - mean_absolute_error: 1.6584\n"
     ]
    },
    {
     "data": {
      "text/plain": [
       "[6.03317403793335, 1.7332439422607422]"
      ]
     },
     "execution_count": 27,
     "metadata": {},
     "output_type": "execute_result"
    }
   ],
   "source": [
    "model4.fit(X_train, y_train, verbose=0, epochs=100)\n",
    "model4.evaluate(X_test, y_test)"
   ]
  },
  {
   "cell_type": "markdown",
   "metadata": {},
   "source": [
    "While the loss of `model4` did degrade, this is due to the randomness of the train-validation-test splits. There was most likely some data in the testing split that caused the model's predictions to be less accurate. While this is unfourtunate, it does help highlight the need for validation and testing; data in the real world may not fall perfectly in line with what the model saw during training, so testing the model on new data is required to simulate a real world use case.\n",
    "\n",
    "Now `model5` can be trained over 100 more epochs: "
   ]
  },
  {
   "cell_type": "code",
   "execution_count": 26,
   "metadata": {},
   "outputs": [
    {
     "name": "stdout",
     "output_type": "stream",
     "text": [
      "\u001b[1m63/63\u001b[0m \u001b[32m━━━━━━━━━━━━━━━━━━━━\u001b[0m\u001b[37m\u001b[0m \u001b[1m0s\u001b[0m 2ms/step - loss: 5.4382 - mean_absolute_error: 1.7300\n"
     ]
    },
    {
     "data": {
      "text/plain": [
       "[6.267294883728027, 1.8327852487564087]"
      ]
     },
     "execution_count": 26,
     "metadata": {},
     "output_type": "execute_result"
    }
   ],
   "source": [
    "model5.fit(X_train, y_train, verbose=0, epochs=100)\n",
    "model5.evaluate(X_test, y_test)"
   ]
  },
  {
   "cell_type": "markdown",
   "metadata": {},
   "source": [
    "In the end, `model5` had a better loss (5.44) than `model4` (5.49), meaning that this model will most likley do a better job of predicting risk scores for loan applicants. The MAE shows that the model will generally make predictions close to the actual values, but the MSE (loss) shows that some predictions may be far off. \n",
    "\n",
    "In order to use `model5` in a loan risk detection system, it needs to be exported as a `.keras` file which allows it to be called by other applications:"
   ]
  },
  {
   "cell_type": "code",
   "execution_count": 28,
   "metadata": {},
   "outputs": [],
   "source": [
    "model5.save(\"risk_model.keras\")"
   ]
  },
  {
   "cell_type": "markdown",
   "metadata": {},
   "source": [
    "Now that the model has been exported, it can be used to help lenders predict loan risk scores for potential borrowers."
   ]
  }
 ],
 "metadata": {
  "kernelspec": {
   "display_name": "Python 3 (ipykernel)",
   "language": "python",
   "name": "python3"
  },
  "language_info": {
   "codemirror_mode": {
    "name": "ipython",
    "version": 3
   },
   "file_extension": ".py",
   "mimetype": "text/x-python",
   "name": "python",
   "nbconvert_exporter": "python",
   "pygments_lexer": "ipython3",
   "version": "3.12.9"
  }
 },
 "nbformat": 4,
 "nbformat_minor": 4
}
