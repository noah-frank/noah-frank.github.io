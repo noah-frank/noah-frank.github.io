{
 "cells": [
  {
   "cell_type": "markdown",
   "metadata": {
    "editable": true,
    "slideshow": {
     "slide_type": ""
    },
    "tags": []
   },
   "source": [
    "# Detecting Credit Fraud\n",
    "\n",
    "Credit card fraud has become a major issue for consumers and financial institutions alike. While the data surrounding credit card transactions has been growing in recent years, data in itself cannot stop financial fraud. However, machine learning models can be used to detect fraud in real time and prevent losses for legitimate users. \n",
    "\n",
    "This notebook explores a credit card fraud dataset that records details from over 280,000 credit card transactions and the fraud status of each. This data is then used to create models that can help in detecting and preventing credit card fraud. \n",
    "\n",
    "The data set was posted on kaggle by [Machine Learning Group - ULB.](https://www.kaggle.com/datasets/mlg-ulb/creditcardfraud)"
   ]
  },
  {
   "cell_type": "markdown",
   "metadata": {},
   "source": [
    "## Importing the Data\n",
    "\n",
    "Below, the data is imported using the `kagglehub` library and stored in the `df` variable:"
   ]
  },
  {
   "cell_type": "code",
   "execution_count": 1,
   "metadata": {},
   "outputs": [
    {
     "name": "stdout",
     "output_type": "stream",
     "text": [
      "Warning: Looks like you're using an outdated `kagglehub` version, please consider updating (latest version: 0.3.10)\n"
     ]
    }
   ],
   "source": [
    "import kagglehub\n",
    "import pandas as pd\n",
    "import numpy as np\n",
    "\n",
    "from sklearn.preprocessing import StandardScaler\n",
    "from imblearn.over_sampling import RandomOverSampler\n",
    "from sklearn.model_selection import train_test_split\n",
    "\n",
    "import tensorflow as tf\n",
    "from tensorflow.keras.callbacks import Callback\n",
    "from tensorflow.keras.models import Sequential\n",
    "from tensorflow.keras.layers import InputLayer, Dense, BatchNormalization, Dropout\n",
    "from tensorflow.keras.losses import BinaryCrossentropy\n",
    "from tensorflow.keras.optimizers import SGD, Nadam\n",
    "\n",
    "path = kagglehub.dataset_download(\"mlg-ulb/creditcardfraud\")\n",
    "df = pd.read_csv(path + \"/creditcard.csv\")"
   ]
  },
  {
   "cell_type": "markdown",
   "metadata": {},
   "source": [
    "## Analysis\n",
    "\n",
    "Now that the data has been imported, some basic exploratory data analysis can be performed. \n",
    "\n",
    "> \"exploratory data analysis (EDA) is an approach of analyzing data sets to summarize their main characteristics, often using statistical graphics and other data visualization methods.\" [(Wikipedia)](https://en.wikipedia.org/wiki/Exploratory_data_analysis)\n",
    "\n",
    "Below, the first 5 rows of the dataset are shown: "
   ]
  },
  {
   "cell_type": "code",
   "execution_count": 2,
   "metadata": {
    "scrolled": true
   },
   "outputs": [
    {
     "data": {
      "text/html": [
       "<div>\n",
       "<style scoped>\n",
       "    .dataframe tbody tr th:only-of-type {\n",
       "        vertical-align: middle;\n",
       "    }\n",
       "\n",
       "    .dataframe tbody tr th {\n",
       "        vertical-align: top;\n",
       "    }\n",
       "\n",
       "    .dataframe thead th {\n",
       "        text-align: right;\n",
       "    }\n",
       "</style>\n",
       "<table border=\"1\" class=\"dataframe\">\n",
       "  <thead>\n",
       "    <tr style=\"text-align: right;\">\n",
       "      <th></th>\n",
       "      <th>Time</th>\n",
       "      <th>V1</th>\n",
       "      <th>V2</th>\n",
       "      <th>V3</th>\n",
       "      <th>V4</th>\n",
       "      <th>V5</th>\n",
       "      <th>V6</th>\n",
       "      <th>V7</th>\n",
       "      <th>V8</th>\n",
       "      <th>V9</th>\n",
       "      <th>...</th>\n",
       "      <th>V21</th>\n",
       "      <th>V22</th>\n",
       "      <th>V23</th>\n",
       "      <th>V24</th>\n",
       "      <th>V25</th>\n",
       "      <th>V26</th>\n",
       "      <th>V27</th>\n",
       "      <th>V28</th>\n",
       "      <th>Amount</th>\n",
       "      <th>Class</th>\n",
       "    </tr>\n",
       "  </thead>\n",
       "  <tbody>\n",
       "    <tr>\n",
       "      <th>0</th>\n",
       "      <td>0.0</td>\n",
       "      <td>-1.359807</td>\n",
       "      <td>-0.072781</td>\n",
       "      <td>2.536347</td>\n",
       "      <td>1.378155</td>\n",
       "      <td>-0.338321</td>\n",
       "      <td>0.462388</td>\n",
       "      <td>0.239599</td>\n",
       "      <td>0.098698</td>\n",
       "      <td>0.363787</td>\n",
       "      <td>...</td>\n",
       "      <td>-0.018307</td>\n",
       "      <td>0.277838</td>\n",
       "      <td>-0.110474</td>\n",
       "      <td>0.066928</td>\n",
       "      <td>0.128539</td>\n",
       "      <td>-0.189115</td>\n",
       "      <td>0.133558</td>\n",
       "      <td>-0.021053</td>\n",
       "      <td>149.62</td>\n",
       "      <td>0</td>\n",
       "    </tr>\n",
       "    <tr>\n",
       "      <th>1</th>\n",
       "      <td>0.0</td>\n",
       "      <td>1.191857</td>\n",
       "      <td>0.266151</td>\n",
       "      <td>0.166480</td>\n",
       "      <td>0.448154</td>\n",
       "      <td>0.060018</td>\n",
       "      <td>-0.082361</td>\n",
       "      <td>-0.078803</td>\n",
       "      <td>0.085102</td>\n",
       "      <td>-0.255425</td>\n",
       "      <td>...</td>\n",
       "      <td>-0.225775</td>\n",
       "      <td>-0.638672</td>\n",
       "      <td>0.101288</td>\n",
       "      <td>-0.339846</td>\n",
       "      <td>0.167170</td>\n",
       "      <td>0.125895</td>\n",
       "      <td>-0.008983</td>\n",
       "      <td>0.014724</td>\n",
       "      <td>2.69</td>\n",
       "      <td>0</td>\n",
       "    </tr>\n",
       "    <tr>\n",
       "      <th>2</th>\n",
       "      <td>1.0</td>\n",
       "      <td>-1.358354</td>\n",
       "      <td>-1.340163</td>\n",
       "      <td>1.773209</td>\n",
       "      <td>0.379780</td>\n",
       "      <td>-0.503198</td>\n",
       "      <td>1.800499</td>\n",
       "      <td>0.791461</td>\n",
       "      <td>0.247676</td>\n",
       "      <td>-1.514654</td>\n",
       "      <td>...</td>\n",
       "      <td>0.247998</td>\n",
       "      <td>0.771679</td>\n",
       "      <td>0.909412</td>\n",
       "      <td>-0.689281</td>\n",
       "      <td>-0.327642</td>\n",
       "      <td>-0.139097</td>\n",
       "      <td>-0.055353</td>\n",
       "      <td>-0.059752</td>\n",
       "      <td>378.66</td>\n",
       "      <td>0</td>\n",
       "    </tr>\n",
       "    <tr>\n",
       "      <th>3</th>\n",
       "      <td>1.0</td>\n",
       "      <td>-0.966272</td>\n",
       "      <td>-0.185226</td>\n",
       "      <td>1.792993</td>\n",
       "      <td>-0.863291</td>\n",
       "      <td>-0.010309</td>\n",
       "      <td>1.247203</td>\n",
       "      <td>0.237609</td>\n",
       "      <td>0.377436</td>\n",
       "      <td>-1.387024</td>\n",
       "      <td>...</td>\n",
       "      <td>-0.108300</td>\n",
       "      <td>0.005274</td>\n",
       "      <td>-0.190321</td>\n",
       "      <td>-1.175575</td>\n",
       "      <td>0.647376</td>\n",
       "      <td>-0.221929</td>\n",
       "      <td>0.062723</td>\n",
       "      <td>0.061458</td>\n",
       "      <td>123.50</td>\n",
       "      <td>0</td>\n",
       "    </tr>\n",
       "    <tr>\n",
       "      <th>4</th>\n",
       "      <td>2.0</td>\n",
       "      <td>-1.158233</td>\n",
       "      <td>0.877737</td>\n",
       "      <td>1.548718</td>\n",
       "      <td>0.403034</td>\n",
       "      <td>-0.407193</td>\n",
       "      <td>0.095921</td>\n",
       "      <td>0.592941</td>\n",
       "      <td>-0.270533</td>\n",
       "      <td>0.817739</td>\n",
       "      <td>...</td>\n",
       "      <td>-0.009431</td>\n",
       "      <td>0.798278</td>\n",
       "      <td>-0.137458</td>\n",
       "      <td>0.141267</td>\n",
       "      <td>-0.206010</td>\n",
       "      <td>0.502292</td>\n",
       "      <td>0.219422</td>\n",
       "      <td>0.215153</td>\n",
       "      <td>69.99</td>\n",
       "      <td>0</td>\n",
       "    </tr>\n",
       "  </tbody>\n",
       "</table>\n",
       "<p>5 rows × 31 columns</p>\n",
       "</div>"
      ],
      "text/plain": [
       "   Time        V1        V2        V3        V4        V5        V6        V7  \\\n",
       "0   0.0 -1.359807 -0.072781  2.536347  1.378155 -0.338321  0.462388  0.239599   \n",
       "1   0.0  1.191857  0.266151  0.166480  0.448154  0.060018 -0.082361 -0.078803   \n",
       "2   1.0 -1.358354 -1.340163  1.773209  0.379780 -0.503198  1.800499  0.791461   \n",
       "3   1.0 -0.966272 -0.185226  1.792993 -0.863291 -0.010309  1.247203  0.237609   \n",
       "4   2.0 -1.158233  0.877737  1.548718  0.403034 -0.407193  0.095921  0.592941   \n",
       "\n",
       "         V8        V9  ...       V21       V22       V23       V24       V25  \\\n",
       "0  0.098698  0.363787  ... -0.018307  0.277838 -0.110474  0.066928  0.128539   \n",
       "1  0.085102 -0.255425  ... -0.225775 -0.638672  0.101288 -0.339846  0.167170   \n",
       "2  0.247676 -1.514654  ...  0.247998  0.771679  0.909412 -0.689281 -0.327642   \n",
       "3  0.377436 -1.387024  ... -0.108300  0.005274 -0.190321 -1.175575  0.647376   \n",
       "4 -0.270533  0.817739  ... -0.009431  0.798278 -0.137458  0.141267 -0.206010   \n",
       "\n",
       "        V26       V27       V28  Amount  Class  \n",
       "0 -0.189115  0.133558 -0.021053  149.62      0  \n",
       "1  0.125895 -0.008983  0.014724    2.69      0  \n",
       "2 -0.139097 -0.055353 -0.059752  378.66      0  \n",
       "3 -0.221929  0.062723  0.061458  123.50      0  \n",
       "4  0.502292  0.219422  0.215153   69.99      0  \n",
       "\n",
       "[5 rows x 31 columns]"
      ]
     },
     "execution_count": 2,
     "metadata": {},
     "output_type": "execute_result"
    }
   ],
   "source": [
    "df.head()"
   ]
  },
  {
   "cell_type": "markdown",
   "metadata": {},
   "source": [
    "In total there are 31 rows, 30 features (Time, V1-V28, Amount) and one target (Class). The class is just a binary value, where 0 represents a legitimate transaction and 1 represents fraud. Below some information about each column is shown: "
   ]
  },
  {
   "cell_type": "code",
   "execution_count": 3,
   "metadata": {},
   "outputs": [
    {
     "name": "stdout",
     "output_type": "stream",
     "text": [
      "<class 'pandas.core.frame.DataFrame'>\n",
      "RangeIndex: 284807 entries, 0 to 284806\n",
      "Data columns (total 31 columns):\n",
      " #   Column  Non-Null Count   Dtype  \n",
      "---  ------  --------------   -----  \n",
      " 0   Time    284807 non-null  float64\n",
      " 1   V1      284807 non-null  float64\n",
      " 2   V2      284807 non-null  float64\n",
      " 3   V3      284807 non-null  float64\n",
      " 4   V4      284807 non-null  float64\n",
      " 5   V5      284807 non-null  float64\n",
      " 6   V6      284807 non-null  float64\n",
      " 7   V7      284807 non-null  float64\n",
      " 8   V8      284807 non-null  float64\n",
      " 9   V9      284807 non-null  float64\n",
      " 10  V10     284807 non-null  float64\n",
      " 11  V11     284807 non-null  float64\n",
      " 12  V12     284807 non-null  float64\n",
      " 13  V13     284807 non-null  float64\n",
      " 14  V14     284807 non-null  float64\n",
      " 15  V15     284807 non-null  float64\n",
      " 16  V16     284807 non-null  float64\n",
      " 17  V17     284807 non-null  float64\n",
      " 18  V18     284807 non-null  float64\n",
      " 19  V19     284807 non-null  float64\n",
      " 20  V20     284807 non-null  float64\n",
      " 21  V21     284807 non-null  float64\n",
      " 22  V22     284807 non-null  float64\n",
      " 23  V23     284807 non-null  float64\n",
      " 24  V24     284807 non-null  float64\n",
      " 25  V25     284807 non-null  float64\n",
      " 26  V26     284807 non-null  float64\n",
      " 27  V27     284807 non-null  float64\n",
      " 28  V28     284807 non-null  float64\n",
      " 29  Amount  284807 non-null  float64\n",
      " 30  Class   284807 non-null  int64  \n",
      "dtypes: float64(30), int64(1)\n",
      "memory usage: 67.4 MB\n"
     ]
    }
   ],
   "source": [
    "df.info()"
   ]
  },
  {
   "cell_type": "markdown",
   "metadata": {},
   "source": [
    "The are 284,000 non-null records in the dataset, with all features represented by floats and the target represented by an integer. "
   ]
  },
  {
   "cell_type": "markdown",
   "metadata": {},
   "source": [
    "### Plotting Variables\n",
    "\n",
    "In order to understand the dataset fully, several variables can be plotted."
   ]
  },
  {
   "cell_type": "markdown",
   "metadata": {},
   "source": [
    "#### Time\n",
    "\n",
    "The time column is a represenation of the time (in seconds) between the first transaction and the current transaction: "
   ]
  },
  {
   "cell_type": "code",
   "execution_count": 4,
   "metadata": {},
   "outputs": [
    {
     "data": {
      "text/plain": [
       "<Axes: >"
      ]
     },
     "execution_count": 4,
     "metadata": {},
     "output_type": "execute_result"
    },
    {
     "data": {
      "image/png": "[encoded data removed]",
      "text/plain": [
       "<Figure size 640x480 with 1 Axes>"
      ]
     },
     "metadata": {},
     "output_type": "display_data"
    }
   ],
   "source": [
    "df[\"Time\"].hist(bins=30)"
   ]
  },
  {
   "cell_type": "markdown",
   "metadata": {},
   "source": [
    "The reason two high frequency areas are shown is because this data was recorded over two days, so the two dips are most likely the early morning on each day, with the tops of the curves representing the highest frequency times during the day. \n",
    "\n",
    "Although the time is a good variable to include, it will need to be scaled in order to be more useful for training models. "
   ]
  },
  {
   "cell_type": "markdown",
   "metadata": {},
   "source": [
    "#### Amount\n",
    "\n",
    "The Amount column is simply the transaction amount. Below, the top 10 amounts are shown along with a histogram of the Amount column: "
   ]
  },
  {
   "cell_type": "code",
   "execution_count": 5,
   "metadata": {},
   "outputs": [
    {
     "name": "stdout",
     "output_type": "stream",
     "text": [
      "274771    25691.16\n",
      "58465     19656.53\n",
      "151296    18910.00\n",
      "46841     12910.93\n",
      "54018     11898.09\n",
      "169457    11789.84\n",
      "284249    10199.44\n",
      "227921    10000.00\n",
      "74699      8790.26\n",
      "245474     8787.00\n",
      "Name: Amount, dtype: float64\n"
     ]
    },
    {
     "data": {
      "text/plain": [
       "<Axes: >"
      ]
     },
     "execution_count": 5,
     "metadata": {},
     "output_type": "execute_result"
    },
    {
     "data": {
      "image/png": "[encoded data removed]",
      "text/plain": [
       "<Figure size 1200x600 with 1 Axes>"
      ]
     },
     "metadata": {},
     "output_type": "display_data"
    }
   ],
   "source": [
    "print(df[\"Amount\"].sort_values(ascending=False).head(10))\n",
    "\n",
    "df[\"Amount\"].hist(bins=100, figsize=(12, 6))"
   ]
  },
  {
   "cell_type": "markdown",
   "metadata": {},
   "source": [
    "The histogram above shows that the majority of transactions were relatively small amounts, with a few large transactions causing the chart to display large value along the X-axis. The 10 highest-amount transactions are shown above the chart, with the only 8 being 10,000 or greater. Scaling will help even out this features and counteract skewing of the model. "
   ]
  },
  {
   "cell_type": "markdown",
   "metadata": {},
   "source": [
    "#### Class\n",
    "\n",
    "The Class column represents the target. Below, a function is defined to plot the negative and positive classes: "
   ]
  },
  {
   "cell_type": "code",
   "execution_count": 6,
   "metadata": {},
   "outputs": [],
   "source": [
    "def plot_bin(y_in): # Function definition\n",
    "    # y_in = df[\"Class\"]\n",
    "    bin_count = np.bincount(y_in)\n",
    "    count_df = pd.DataFrame(data={\"0\": bin_count[0], \"1\": bin_count[1]}, index=[0])\n",
    "\n",
    "    count_df.plot(kind=\"bar\")\n",
    "    return count_df"
   ]
  },
  {
   "cell_type": "code",
   "execution_count": 7,
   "metadata": {},
   "outputs": [
    {
     "data": {
      "text/html": [
       "<div>\n",
       "<style scoped>\n",
       "    .dataframe tbody tr th:only-of-type {\n",
       "        vertical-align: middle;\n",
       "    }\n",
       "\n",
       "    .dataframe tbody tr th {\n",
       "        vertical-align: top;\n",
       "    }\n",
       "\n",
       "    .dataframe thead th {\n",
       "        text-align: right;\n",
       "    }\n",
       "</style>\n",
       "<table border=\"1\" class=\"dataframe\">\n",
       "  <thead>\n",
       "    <tr style=\"text-align: right;\">\n",
       "      <th></th>\n",
       "      <th>0</th>\n",
       "      <th>1</th>\n",
       "    </tr>\n",
       "  </thead>\n",
       "  <tbody>\n",
       "    <tr>\n",
       "      <th>0</th>\n",
       "      <td>284315</td>\n",
       "      <td>492</td>\n",
       "    </tr>\n",
       "  </tbody>\n",
       "</table>\n",
       "</div>"
      ],
      "text/plain": [
       "        0    1\n",
       "0  284315  492"
      ]
     },
     "execution_count": 7,
     "metadata": {},
     "output_type": "execute_result"
    },
    {
     "data": {
      "image/png": "[encoded data removed]",
      "text/plain": [
       "<Figure size 640x480 with 1 Axes>"
      ]
     },
     "metadata": {},
     "output_type": "display_data"
    }
   ],
   "source": [
    "plot_bin(df[\"Class\"]) # Function call"
   ]
  },
  {
   "cell_type": "markdown",
   "metadata": {},
   "source": [
    "In total, over 284,000 transactions were legitimate, with only 492 being fraudulent. While its good that so little fraud is happening proportionally to the overall number of transactions, this makes it much harder to train a model to detect fraud. This issue will be addressed in the preprocessing section.\n",
    "\n",
    "While features V1-V28 could be plotted, they have already been transformed and scaled to protect customer information, so they will be used as is going forward. "
   ]
  },
  {
   "cell_type": "markdown",
   "metadata": {},
   "source": [
    "## Preprocessing\n",
    "\n",
    "Below, some preprocessing steps are taken to prepare the data for use in a model. First, the features and target are defined: "
   ]
  },
  {
   "cell_type": "code",
   "execution_count": 8,
   "metadata": {},
   "outputs": [
    {
     "data": {
      "text/plain": [
       "((284807, 30), (284807,))"
      ]
     },
     "execution_count": 8,
     "metadata": {},
     "output_type": "execute_result"
    }
   ],
   "source": [
    "X, y = df.drop(\"Class\", axis=1), df[\"Class\"]\n",
    "\n",
    "X.shape, y.shape"
   ]
  },
  {
   "cell_type": "markdown",
   "metadata": {},
   "source": [
    "### Splitting\n",
    "\n",
    "While the majority of the data will be utilized by the model to learn the underlying patterns, some data needs to be set aside in order to similuate real world data. Below, an 80-10-10 train-validation-test split is performed: "
   ]
  },
  {
   "cell_type": "code",
   "execution_count": 9,
   "metadata": {},
   "outputs": [
    {
     "data": {
      "text/plain": [
       "((256326, 30), (14241, 30), (14240, 30), (256326,), (14240,), (14241,))"
      ]
     },
     "execution_count": 9,
     "metadata": {},
     "output_type": "execute_result"
    }
   ],
   "source": [
    "# 80% train\n",
    "# 10% validation\n",
    "# 10% test\n",
    "\n",
    "X_train, X_test, y_train, y_test = train_test_split(X, y, test_size=0.1, stratify=y, random_state=42) \n",
    "X_val, X_test, y_val, y_test = train_test_split(X_test, y_test, test_size=0.5, stratify=y_test, random_state=42) \n",
    "\n",
    "X_train.shape, X_test.shape, X_val.shape, y_train.shape, y_val.shape, y_test.shape"
   ]
  },
  {
   "cell_type": "markdown",
   "metadata": {},
   "source": [
    "### Scaling\n",
    "\n",
    "The Time and Amount columns are scaled so outlying data doesn't skew the model's predictions. This should help the models make more accurate predictions. "
   ]
  },
  {
   "cell_type": "code",
   "execution_count": 10,
   "metadata": {},
   "outputs": [],
   "source": [
    "scaler = StandardScaler()\n",
    "scaler.fit(X_train[[\"Time\", \"Amount\"]])\n",
    "\n",
    "X_train[[\"Time\", \"Amount\"]] = scaler.transform(X_train[[\"Time\", \"Amount\"]])\n",
    "X_val[[\"Time\", \"Amount\"]] = scaler.transform(X_val[[\"Time\", \"Amount\"]])\n",
    "X_test[[\"Time\", \"Amount\"]] = scaler.transform(X_test[[\"Time\", \"Amount\"]])"
   ]
  },
  {
   "cell_type": "markdown",
   "metadata": {},
   "source": [
    "### Oversampling\n",
    "\n",
    "Because the target contains a much greater number of negative instances, the training data needs to be oversampled in order for the models to learn the patterns when the fraud occurs. Below, random oversampling is used to transform the training dataset. \n",
    "\n",
    "> [Random Oversampling](https://en.wikipedia.org/wiki/Oversampling_and_undersampling_in_data_analysis) involves supplementing the training data with multiple copies of some of the minority classes."
   ]
  },
  {
   "cell_type": "code",
   "execution_count": 11,
   "metadata": {},
   "outputs": [],
   "source": [
    "ros = RandomOverSampler(random_state=42)\n",
    "X_train, y_train = ros.fit_resample(X_train, y_train)"
   ]
  },
  {
   "cell_type": "code",
   "execution_count": 12,
   "metadata": {},
   "outputs": [
    {
     "data": {
      "text/html": [
       "<div>\n",
       "<style scoped>\n",
       "    .dataframe tbody tr th:only-of-type {\n",
       "        vertical-align: middle;\n",
       "    }\n",
       "\n",
       "    .dataframe tbody tr th {\n",
       "        vertical-align: top;\n",
       "    }\n",
       "\n",
       "    .dataframe thead th {\n",
       "        text-align: right;\n",
       "    }\n",
       "</style>\n",
       "<table border=\"1\" class=\"dataframe\">\n",
       "  <thead>\n",
       "    <tr style=\"text-align: right;\">\n",
       "      <th></th>\n",
       "      <th>0</th>\n",
       "      <th>1</th>\n",
       "    </tr>\n",
       "  </thead>\n",
       "  <tbody>\n",
       "    <tr>\n",
       "      <th>0</th>\n",
       "      <td>255883</td>\n",
       "      <td>255883</td>\n",
       "    </tr>\n",
       "  </tbody>\n",
       "</table>\n",
       "</div>"
      ],
      "text/plain": [
       "        0       1\n",
       "0  255883  255883"
      ]
     },
     "execution_count": 12,
     "metadata": {},
     "output_type": "execute_result"
    },
    {
     "data": {
      "image/png": "[encoded data removed]",
      "text/plain": [
       "<Figure size 640x480 with 1 Axes>"
      ]
     },
     "metadata": {},
     "output_type": "display_data"
    }
   ],
   "source": [
    "plot_bin(y_train)"
   ]
  },
  {
   "cell_type": "markdown",
   "metadata": {},
   "source": [
    "After oversampling, there are an equal amount of negative and positive instances. \n",
    "\n",
    "Now that the data has been prepared, it can be used to train and test models. "
   ]
  },
  {
   "cell_type": "markdown",
   "metadata": {},
   "source": [
    "## Model Building\n",
    "\n",
    "In total 3 models will be built with slightly different compositions. All will incorporate multiple dense layers, with batch normalization and dropout. \n",
    "\n",
    "### Metrics\n",
    "\n",
    "Because this is a binary classification problem, some basic terminology is defined below: \n",
    "\n",
    "* True Positive (TP): the true instances that are correctly classified as true\n",
    "* False Positive (FP): the false instances that are incorrectly classified as true\n",
    "* True Negative (TN): the false instances that are correctly classified as false\n",
    "* False Negatives (FN): the true instances that are incorrectly classified as false\n",
    "\n",
    "The goal of classification is to classify all instances as either true positives or true negatives, while getting as few false positives and false negatives as possible. The metrics used in reaching this goal are defined below: \n",
    "* Accuracy: the overall percentage of instances that were correct: (TP + TN) / Total\n",
    "* Precision: the percentage of positive <i>predictions</i> that were correct: TP / (TP + FP)\n",
    "* Recall: the percentage of positive <i>instances</i> that were predicted to be positive: TP / (TP + FN)\n",
    "\n",
    "In each metric, a higher score is better. However, there are can be trade-offs between precision and recall. For the models below, a balance between precision and recall is the goal (along with high accuracy). \n",
    "\n",
    "Now that the background has been explained, the model building can begin. "
   ]
  },
  {
   "cell_type": "markdown",
   "metadata": {},
   "source": [
    "#### Model 1\n",
    "\n",
    "The first model contains two 256-unit dense layers with dropout layers of 0.35, which are fed to a dense 32-unit layer and onto the output. The Nadam optimizer is used with a learning rate of 0.0001."
   ]
  },
  {
   "cell_type": "code",
   "execution_count": 13,
   "metadata": {},
   "outputs": [
    {
     "name": "stdout",
     "output_type": "stream",
     "text": [
      "Epoch 1/100\n",
      "\u001b[1m15993/15993\u001b[0m \u001b[32m━━━━━━━━━━━━━━━━━━━━\u001b[0m\u001b[37m\u001b[0m \u001b[1m37s\u001b[0m 2ms/step - accuracy: 0.9522 - loss: 0.1186 - precision: 0.9661 - recall: 0.9366 - val_accuracy: 0.9934 - val_loss: 0.0206 - val_precision: 0.1875 - val_recall: 0.8750\n",
      "Epoch 2/100\n",
      "\u001b[1m15993/15993\u001b[0m \u001b[32m━━━━━━━━━━━━━━━━━━━━\u001b[0m\u001b[37m\u001b[0m \u001b[1m34s\u001b[0m 2ms/step - accuracy: 0.9931 - loss: 0.0210 - precision: 0.9913 - recall: 0.9951 - val_accuracy: 0.9966 - val_loss: 0.0138 - val_precision: 0.3134 - val_recall: 0.8750\n",
      "Epoch 3/100\n",
      "\u001b[1m15993/15993\u001b[0m \u001b[32m━━━━━━━━━━━━━━━━━━━━\u001b[0m\u001b[37m\u001b[0m \u001b[1m36s\u001b[0m 2ms/step - accuracy: 0.9964 - loss: 0.0118 - precision: 0.9951 - recall: 0.9977 - val_accuracy: 0.9971 - val_loss: 0.0124 - val_precision: 0.3559 - val_recall: 0.8750\n",
      "Epoch 4/100\n",
      "\u001b[1m15993/15993\u001b[0m \u001b[32m━━━━━━━━━━━━━━━━━━━━\u001b[0m\u001b[37m\u001b[0m \u001b[1m37s\u001b[0m 2ms/step - accuracy: 0.9977 - loss: 0.0084 - precision: 0.9967 - recall: 0.9987 - val_accuracy: 0.9976 - val_loss: 0.0107 - val_precision: 0.4038 - val_recall: 0.8750\n",
      "Epoch 5/100\n",
      "\u001b[1m15993/15993\u001b[0m \u001b[32m━━━━━━━━━━━━━━━━━━━━\u001b[0m\u001b[37m\u001b[0m \u001b[1m36s\u001b[0m 2ms/step - accuracy: 0.9982 - loss: 0.0066 - precision: 0.9975 - recall: 0.9989 - val_accuracy: 0.9984 - val_loss: 0.0092 - val_precision: 0.5122 - val_recall: 0.8750\n",
      "Epoch 6/100\n",
      "\u001b[1m15993/15993\u001b[0m \u001b[32m━━━━━━━━━━━━━━━━━━━━\u001b[0m\u001b[37m\u001b[0m \u001b[1m36s\u001b[0m 2ms/step - accuracy: 0.9985 - loss: 0.0054 - precision: 0.9979 - recall: 0.9991 - val_accuracy: 0.9984 - val_loss: 0.0092 - val_precision: 0.5122 - val_recall: 0.8750\n",
      "Epoch 7/100\n",
      "\u001b[1m15993/15993\u001b[0m \u001b[32m━━━━━━━━━━━━━━━━━━━━\u001b[0m\u001b[37m\u001b[0m \u001b[1m34s\u001b[0m 2ms/step - accuracy: 0.9988 - loss: 0.0047 - precision: 0.9983 - recall: 0.9993 - val_accuracy: 0.9984 - val_loss: 0.0086 - val_precision: 0.5122 - val_recall: 0.8750\n",
      "Epoch 8/100\n",
      "\u001b[1m15993/15993\u001b[0m \u001b[32m━━━━━━━━━━━━━━━━━━━━\u001b[0m\u001b[37m\u001b[0m \u001b[1m35s\u001b[0m 2ms/step - accuracy: 0.9989 - loss: 0.0043 - precision: 0.9984 - recall: 0.9994 - val_accuracy: 0.9987 - val_loss: 0.0083 - val_precision: 0.5676 - val_recall: 0.8750\n",
      "Epoch 9/100\n",
      "\u001b[1m15993/15993\u001b[0m \u001b[32m━━━━━━━━━━━━━━━━━━━━\u001b[0m\u001b[37m\u001b[0m \u001b[1m35s\u001b[0m 2ms/step - accuracy: 0.9990 - loss: 0.0039 - precision: 0.9986 - recall: 0.9995 - val_accuracy: 0.9989 - val_loss: 0.0076 - val_precision: 0.6176 - val_recall: 0.8750\n",
      "Epoch 10/100\n",
      "\u001b[1m15993/15993\u001b[0m \u001b[32m━━━━━━━━━━━━━━━━━━━━\u001b[0m\u001b[37m\u001b[0m \u001b[1m33s\u001b[0m 2ms/step - accuracy: 0.9991 - loss: 0.0036 - precision: 0.9987 - recall: 0.9995 - val_accuracy: 0.9990 - val_loss: 0.0077 - val_precision: 0.6562 - val_recall: 0.8750\n",
      "Epoch 11/100\n",
      "\u001b[1m15993/15993\u001b[0m \u001b[32m━━━━━━━━━━━━━━━━━━━━\u001b[0m\u001b[37m\u001b[0m \u001b[1m34s\u001b[0m 2ms/step - accuracy: 0.9992 - loss: 0.0032 - precision: 0.9988 - recall: 0.9997 - val_accuracy: 0.9988 - val_loss: 0.0073 - val_precision: 0.6061 - val_recall: 0.8333\n",
      "Epoch 12/100\n",
      "\u001b[1m15993/15993\u001b[0m \u001b[32m━━━━━━━━━━━━━━━━━━━━\u001b[0m\u001b[37m\u001b[0m \u001b[1m34s\u001b[0m 2ms/step - accuracy: 0.9992 - loss: 0.0031 - precision: 0.9989 - recall: 0.9996 - val_accuracy: 0.9987 - val_loss: 0.0078 - val_precision: 0.5882 - val_recall: 0.8333\n",
      "Epoch 13/100\n",
      "\u001b[1m15993/15993\u001b[0m \u001b[32m━━━━━━━━━━━━━━━━━━━━\u001b[0m\u001b[37m\u001b[0m \u001b[1m35s\u001b[0m 2ms/step - accuracy: 0.9993 - loss: 0.0028 - precision: 0.9990 - recall: 0.9996 - val_accuracy: 0.9990 - val_loss: 0.0075 - val_precision: 0.6667 - val_recall: 0.8333\n",
      "Epoch 14/100\n",
      "\u001b[1m15993/15993\u001b[0m \u001b[32m━━━━━━━━━━━━━━━━━━━━\u001b[0m\u001b[37m\u001b[0m \u001b[1m32s\u001b[0m 2ms/step - accuracy: 0.9993 - loss: 0.0030 - precision: 0.9989 - recall: 0.9997 - val_accuracy: 0.9989 - val_loss: 0.0074 - val_precision: 0.6250 - val_recall: 0.8333\n",
      "Epoch 15/100\n",
      "\u001b[1m15993/15993\u001b[0m \u001b[32m━━━━━━━━━━━━━━━━━━━━\u001b[0m\u001b[37m\u001b[0m \u001b[1m32s\u001b[0m 2ms/step - accuracy: 0.9993 - loss: 0.0028 - precision: 0.9990 - recall: 0.9997 - val_accuracy: 0.9990 - val_loss: 0.0072 - val_precision: 0.6667 - val_recall: 0.8333\n",
      "Epoch 16/100\n",
      "\u001b[1m15993/15993\u001b[0m \u001b[32m━━━━━━━━━━━━━━━━━━━━\u001b[0m\u001b[37m\u001b[0m \u001b[1m31s\u001b[0m 2ms/step - accuracy: 0.9994 - loss: 0.0025 - precision: 0.9991 - recall: 0.9997 - val_accuracy: 0.9993 - val_loss: 0.0070 - val_precision: 0.7692 - val_recall: 0.8333\n",
      "Epoch 17/100\n",
      "\u001b[1m15993/15993\u001b[0m \u001b[32m━━━━━━━━━━━━━━━━━━━━\u001b[0m\u001b[37m\u001b[0m \u001b[1m32s\u001b[0m 2ms/step - accuracy: 0.9994 - loss: 0.0022 - precision: 0.9992 - recall: 0.9996 - val_accuracy: 0.9991 - val_loss: 0.0072 - val_precision: 0.6897 - val_recall: 0.8333\n",
      "Epoch 18/100\n",
      "\u001b[1m15993/15993\u001b[0m \u001b[32m━━━━━━━━━━━━━━━━━━━━\u001b[0m\u001b[37m\u001b[0m \u001b[1m32s\u001b[0m 2ms/step - accuracy: 0.9994 - loss: 0.0022 - precision: 0.9992 - recall: 0.9997 - val_accuracy: 0.9993 - val_loss: 0.0069 - val_precision: 0.7692 - val_recall: 0.8333\n",
      "Epoch 19/100\n",
      "\u001b[1m15993/15993\u001b[0m \u001b[32m━━━━━━━━━━━━━━━━━━━━\u001b[0m\u001b[37m\u001b[0m \u001b[1m32s\u001b[0m 2ms/step - accuracy: 0.9994 - loss: 0.0022 - precision: 0.9992 - recall: 0.9997 - val_accuracy: 0.9993 - val_loss: 0.0068 - val_precision: 0.7692 - val_recall: 0.8333\n",
      "Epoch 20/100\n",
      "\u001b[1m15993/15993\u001b[0m \u001b[32m━━━━━━━━━━━━━━━━━━━━\u001b[0m\u001b[37m\u001b[0m \u001b[1m31s\u001b[0m 2ms/step - accuracy: 0.9995 - loss: 0.0021 - precision: 0.9993 - recall: 0.9998 - val_accuracy: 0.9992 - val_loss: 0.0072 - val_precision: 0.7143 - val_recall: 0.8333\n",
      "Epoch 21/100\n",
      "\u001b[1m15993/15993\u001b[0m \u001b[32m━━━━━━━━━━━━━━━━━━━━\u001b[0m\u001b[37m\u001b[0m \u001b[1m31s\u001b[0m 2ms/step - accuracy: 0.9995 - loss: 0.0021 - precision: 0.9993 - recall: 0.9997 - val_accuracy: 0.9992 - val_loss: 0.0069 - val_precision: 0.7407 - val_recall: 0.8333\n",
      "Epoch 22/100\n",
      "\u001b[1m15993/15993\u001b[0m \u001b[32m━━━━━━━━━━━━━━━━━━━━\u001b[0m\u001b[37m\u001b[0m \u001b[1m33s\u001b[0m 2ms/step - accuracy: 0.9995 - loss: 0.0021 - precision: 0.9993 - recall: 0.9997 - val_accuracy: 0.9992 - val_loss: 0.0068 - val_precision: 0.7143 - val_recall: 0.8333\n",
      "Epoch 23/100\n",
      "\u001b[1m15993/15993\u001b[0m \u001b[32m━━━━━━━━━━━━━━━━━━━━\u001b[0m\u001b[37m\u001b[0m \u001b[1m31s\u001b[0m 2ms/step - accuracy: 0.9995 - loss: 0.0019 - precision: 0.9993 - recall: 0.9998 - val_accuracy: 0.9994 - val_loss: 0.0066 - val_precision: 0.8000 - val_recall: 0.8333\n",
      "Epoch 24/100\n",
      "\u001b[1m15993/15993\u001b[0m \u001b[32m━━━━━━━━━━━━━━━━━━━━\u001b[0m\u001b[37m\u001b[0m \u001b[1m33s\u001b[0m 2ms/step - accuracy: 0.9995 - loss: 0.0018 - precision: 0.9993 - recall: 0.9998 - val_accuracy: 0.9991 - val_loss: 0.0078 - val_precision: 0.6897 - val_recall: 0.8333\n",
      "Epoch 25/100\n",
      "\u001b[1m15993/15993\u001b[0m \u001b[32m━━━━━━━━━━━━━━━━━━━━\u001b[0m\u001b[37m\u001b[0m \u001b[1m33s\u001b[0m 2ms/step - accuracy: 0.9996 - loss: 0.0019 - precision: 0.9994 - recall: 0.9998 - val_accuracy: 0.9993 - val_loss: 0.0072 - val_precision: 0.7692 - val_recall: 0.8333\n",
      "Epoch 26/100\n",
      "\u001b[1m15993/15993\u001b[0m \u001b[32m━━━━━━━━━━━━━━━━━━━━\u001b[0m\u001b[37m\u001b[0m \u001b[1m28s\u001b[0m 2ms/step - accuracy: 0.9996 - loss: 0.0018 - precision: 0.9994 - recall: 0.9998 - val_accuracy: 0.9993 - val_loss: 0.0074 - val_precision: 0.7692 - val_recall: 0.8333\n",
      "Epoch 27/100\n",
      "\u001b[1m15993/15993\u001b[0m \u001b[32m━━━━━━━━━━━━━━━━━━━━\u001b[0m\u001b[37m\u001b[0m \u001b[1m28s\u001b[0m 2ms/step - accuracy: 0.9995 - loss: 0.0017 - precision: 0.9994 - recall: 0.9997 - val_accuracy: 0.9992 - val_loss: 0.0072 - val_precision: 0.7407 - val_recall: 0.8333\n",
      "Epoch 28/100\n",
      "\u001b[1m15993/15993\u001b[0m \u001b[32m━━━━━━━━━━━━━━━━━━━━\u001b[0m\u001b[37m\u001b[0m \u001b[1m26s\u001b[0m 2ms/step - accuracy: 0.9996 - loss: 0.0015 - precision: 0.9994 - recall: 0.9998 - val_accuracy: 0.9994 - val_loss: 0.0069 - val_precision: 0.8000 - val_recall: 0.8333\n",
      "Epoch 29/100\n",
      "\u001b[1m15993/15993\u001b[0m \u001b[32m━━━━━━━━━━━━━━━━━━━━\u001b[0m\u001b[37m\u001b[0m \u001b[1m27s\u001b[0m 2ms/step - accuracy: 0.9996 - loss: 0.0016 - precision: 0.9994 - recall: 0.9998 - val_accuracy: 0.9993 - val_loss: 0.0071 - val_precision: 0.7692 - val_recall: 0.8333\n",
      "Epoch 30/100\n",
      "\u001b[1m15993/15993\u001b[0m \u001b[32m━━━━━━━━━━━━━━━━━━━━\u001b[0m\u001b[37m\u001b[0m \u001b[1m27s\u001b[0m 2ms/step - accuracy: 0.9996 - loss: 0.0017 - precision: 0.9994 - recall: 0.9997 - val_accuracy: 0.9994 - val_loss: 0.0072 - val_precision: 0.8333 - val_recall: 0.8333\n",
      "Epoch 31/100\n",
      "\u001b[1m15993/15993\u001b[0m \u001b[32m━━━━━━━━━━━━━━━━━━━━\u001b[0m\u001b[37m\u001b[0m \u001b[1m26s\u001b[0m 2ms/step - accuracy: 0.9995 - loss: 0.0017 - precision: 0.9994 - recall: 0.9997 - val_accuracy: 0.9991 - val_loss: 0.0069 - val_precision: 0.6897 - val_recall: 0.8333\n",
      "Epoch 32/100\n",
      "\u001b[1m15993/15993\u001b[0m \u001b[32m━━━━━━━━━━━━━━━━━━━━\u001b[0m\u001b[37m\u001b[0m \u001b[1m26s\u001b[0m 2ms/step - accuracy: 0.9996 - loss: 0.0016 - precision: 0.9994 - recall: 0.9999 - val_accuracy: 0.9993 - val_loss: 0.0069 - val_precision: 0.7692 - val_recall: 0.8333\n",
      "Epoch 33/100\n",
      "\u001b[1m15993/15993\u001b[0m \u001b[32m━━━━━━━━━━━━━━━━━━━━\u001b[0m\u001b[37m\u001b[0m \u001b[1m26s\u001b[0m 2ms/step - accuracy: 0.9996 - loss: 0.0015 - precision: 0.9995 - recall: 0.9998 - val_accuracy: 0.9992 - val_loss: 0.0074 - val_precision: 0.7407 - val_recall: 0.8333\n",
      "Epoch 34/100\n",
      "\u001b[1m15993/15993\u001b[0m \u001b[32m━━━━━━━━━━━━━━━━━━━━\u001b[0m\u001b[37m\u001b[0m \u001b[1m26s\u001b[0m 2ms/step - accuracy: 0.9996 - loss: 0.0016 - precision: 0.9994 - recall: 0.9998 - val_accuracy: 0.9994 - val_loss: 0.0066 - val_precision: 0.8000 - val_recall: 0.8333\n",
      "Epoch 35/100\n",
      "\u001b[1m15993/15993\u001b[0m \u001b[32m━━━━━━━━━━━━━━━━━━━━\u001b[0m\u001b[37m\u001b[0m \u001b[1m43s\u001b[0m 2ms/step - accuracy: 0.9996 - loss: 0.0016 - precision: 0.9995 - recall: 0.9997 - val_accuracy: 0.9994 - val_loss: 0.0067 - val_precision: 0.8000 - val_recall: 0.8333\n",
      "Epoch 36/100\n",
      "\u001b[1m15993/15993\u001b[0m \u001b[32m━━━━━━━━━━━━━━━━━━━━\u001b[0m\u001b[37m\u001b[0m \u001b[1m32s\u001b[0m 2ms/step - accuracy: 0.9997 - loss: 0.0012 - precision: 0.9995 - recall: 0.9999 - val_accuracy: 0.9994 - val_loss: 0.0066 - val_precision: 0.8000 - val_recall: 0.8333\n",
      "Epoch 37/100\n",
      "\u001b[1m15993/15993\u001b[0m \u001b[32m━━━━━━━━━━━━━━━━━━━━\u001b[0m\u001b[37m\u001b[0m \u001b[1m32s\u001b[0m 2ms/step - accuracy: 0.9996 - loss: 0.0015 - precision: 0.9994 - recall: 0.9998 - val_accuracy: 0.9992 - val_loss: 0.0069 - val_precision: 0.7407 - val_recall: 0.8333\n",
      "Epoch 38/100\n",
      "\u001b[1m15993/15993\u001b[0m \u001b[32m━━━━━━━━━━━━━━━━━━━━\u001b[0m\u001b[37m\u001b[0m \u001b[1m29s\u001b[0m 2ms/step - accuracy: 0.9997 - loss: 0.0014 - precision: 0.9995 - recall: 0.9998 - val_accuracy: 0.9994 - val_loss: 0.0071 - val_precision: 0.8000 - val_recall: 0.8333\n",
      "Epoch 39/100\n",
      "\u001b[1m15993/15993\u001b[0m \u001b[32m━━━━━━━━━━━━━━━━━━━━\u001b[0m\u001b[37m\u001b[0m \u001b[1m27s\u001b[0m 2ms/step - accuracy: 0.9997 - loss: 0.0013 - precision: 0.9995 - recall: 0.9998 - val_accuracy: 0.9993 - val_loss: 0.0070 - val_precision: 0.7692 - val_recall: 0.8333\n",
      "Epoch 40/100\n",
      "\u001b[1m15993/15993\u001b[0m \u001b[32m━━━━━━━━━━━━━━━━━━━━\u001b[0m\u001b[37m\u001b[0m \u001b[1m28s\u001b[0m 2ms/step - accuracy: 0.9996 - loss: 0.0015 - precision: 0.9995 - recall: 0.9997 - val_accuracy: 0.9994 - val_loss: 0.0065 - val_precision: 0.8000 - val_recall: 0.8333\n",
      "Epoch 41/100\n",
      "\u001b[1m15993/15993\u001b[0m \u001b[32m━━━━━━━━━━━━━━━━━━━━\u001b[0m\u001b[37m\u001b[0m \u001b[1m27s\u001b[0m 2ms/step - accuracy: 0.9997 - loss: 0.0014 - precision: 0.9995 - recall: 0.9998 - val_accuracy: 0.9993 - val_loss: 0.0066 - val_precision: 0.7692 - val_recall: 0.8333\n",
      "Epoch 42/100\n",
      "\u001b[1m15993/15993\u001b[0m \u001b[32m━━━━━━━━━━━━━━━━━━━━\u001b[0m\u001b[37m\u001b[0m \u001b[1m27s\u001b[0m 2ms/step - accuracy: 0.9997 - loss: 0.0013 - precision: 0.9995 - recall: 0.9998 - val_accuracy: 0.9994 - val_loss: 0.0068 - val_precision: 0.8000 - val_recall: 0.8333\n",
      "Epoch 43/100\n",
      "\u001b[1m15993/15993\u001b[0m \u001b[32m━━━━━━━━━━━━━━━━━━━━\u001b[0m\u001b[37m\u001b[0m \u001b[1m26s\u001b[0m 2ms/step - accuracy: 0.9996 - loss: 0.0016 - precision: 0.9995 - recall: 0.9997 - val_accuracy: 0.9994 - val_loss: 0.0064 - val_precision: 0.8000 - val_recall: 0.8333\n",
      "Epoch 44/100\n",
      "\u001b[1m15993/15993\u001b[0m \u001b[32m━━━━━━━━━━━━━━━━━━━━\u001b[0m\u001b[37m\u001b[0m \u001b[1m41s\u001b[0m 2ms/step - accuracy: 0.9996 - loss: 0.0015 - precision: 0.9994 - recall: 0.9997 - val_accuracy: 0.9992 - val_loss: 0.0067 - val_precision: 0.7407 - val_recall: 0.8333\n",
      "Epoch 45/100\n",
      "\u001b[1m15993/15993\u001b[0m \u001b[32m━━━━━━━━━━━━━━━━━━━━\u001b[0m\u001b[37m\u001b[0m \u001b[1m26s\u001b[0m 2ms/step - accuracy: 0.9997 - loss: 0.0014 - precision: 0.9995 - recall: 0.9999 - val_accuracy: 0.9994 - val_loss: 0.0067 - val_precision: 0.8000 - val_recall: 0.8333\n",
      "Epoch 46/100\n",
      "\u001b[1m15993/15993\u001b[0m \u001b[32m━━━━━━━━━━━━━━━━━━━━\u001b[0m\u001b[37m\u001b[0m \u001b[1m27s\u001b[0m 2ms/step - accuracy: 0.9997 - loss: 0.0012 - precision: 0.9996 - recall: 0.9998 - val_accuracy: 0.9994 - val_loss: 0.0066 - val_precision: 0.8000 - val_recall: 0.8333\n",
      "Epoch 47/100\n",
      "\u001b[1m15993/15993\u001b[0m \u001b[32m━━━━━━━━━━━━━━━━━━━━\u001b[0m\u001b[37m\u001b[0m \u001b[1m27s\u001b[0m 2ms/step - accuracy: 0.9997 - loss: 0.0012 - precision: 0.9996 - recall: 0.9998 - val_accuracy: 0.9994 - val_loss: 0.0069 - val_precision: 0.8333 - val_recall: 0.8333\n",
      "Epoch 48/100\n",
      "\u001b[1m15993/15993\u001b[0m \u001b[32m━━━━━━━━━━━━━━━━━━━━\u001b[0m\u001b[37m\u001b[0m \u001b[1m27s\u001b[0m 2ms/step - accuracy: 0.9996 - loss: 0.0014 - precision: 0.9995 - recall: 0.9998 - val_accuracy: 0.9994 - val_loss: 0.0064 - val_precision: 0.8333 - val_recall: 0.8333\n",
      "Epoch 49/100\n",
      "\u001b[1m15993/15993\u001b[0m \u001b[32m━━━━━━━━━━━━━━━━━━━━\u001b[0m\u001b[37m\u001b[0m \u001b[1m26s\u001b[0m 2ms/step - accuracy: 0.9996 - loss: 0.0012 - precision: 0.9995 - recall: 0.9998 - val_accuracy: 0.9995 - val_loss: 0.0067 - val_precision: 0.8696 - val_recall: 0.8333\n",
      "Epoch 50/100\n",
      "\u001b[1m15993/15993\u001b[0m \u001b[32m━━━━━━━━━━━━━━━━━━━━\u001b[0m\u001b[37m\u001b[0m \u001b[1m27s\u001b[0m 2ms/step - accuracy: 0.9997 - loss: 0.0014 - precision: 0.9995 - recall: 0.9998 - val_accuracy: 0.9994 - val_loss: 0.0069 - val_precision: 0.8000 - val_recall: 0.8333\n",
      "Epoch 51/100\n",
      "\u001b[1m15993/15993\u001b[0m \u001b[32m━━━━━━━━━━━━━━━━━━━━\u001b[0m\u001b[37m\u001b[0m \u001b[1m26s\u001b[0m 2ms/step - accuracy: 0.9997 - loss: 0.0013 - precision: 0.9996 - recall: 0.9998 - val_accuracy: 0.9993 - val_loss: 0.0067 - val_precision: 0.7692 - val_recall: 0.8333\n",
      "Epoch 52/100\n",
      "\u001b[1m15993/15993\u001b[0m \u001b[32m━━━━━━━━━━━━━━━━━━━━\u001b[0m\u001b[37m\u001b[0m \u001b[1m27s\u001b[0m 2ms/step - accuracy: 0.9997 - loss: 0.0012 - precision: 0.9996 - recall: 0.9999 - val_accuracy: 0.9995 - val_loss: 0.0065 - val_precision: 0.8696 - val_recall: 0.8333\n",
      "Epoch 53/100\n",
      "\u001b[1m15993/15993\u001b[0m \u001b[32m━━━━━━━━━━━━━━━━━━━━\u001b[0m\u001b[37m\u001b[0m \u001b[1m27s\u001b[0m 2ms/step - accuracy: 0.9997 - loss: 0.0013 - precision: 0.9996 - recall: 0.9998 - val_accuracy: 0.9994 - val_loss: 0.0067 - val_precision: 0.8000 - val_recall: 0.8333\n",
      "Epoch 54/100\n",
      "\u001b[1m15993/15993\u001b[0m \u001b[32m━━━━━━━━━━━━━━━━━━━━\u001b[0m\u001b[37m\u001b[0m \u001b[1m30s\u001b[0m 2ms/step - accuracy: 0.9997 - loss: 0.0013 - precision: 0.9996 - recall: 0.9998 - val_accuracy: 0.9993 - val_loss: 0.0065 - val_precision: 0.7692 - val_recall: 0.8333\n",
      "Epoch 55/100\n",
      "\u001b[1m15993/15993\u001b[0m \u001b[32m━━━━━━━━━━━━━━━━━━━━\u001b[0m\u001b[37m\u001b[0m \u001b[1m31s\u001b[0m 2ms/step - accuracy: 0.9997 - loss: 0.0012 - precision: 0.9996 - recall: 0.9999 - val_accuracy: 0.9995 - val_loss: 0.0065 - val_precision: 0.8696 - val_recall: 0.8333\n",
      "Epoch 56/100\n",
      "\u001b[1m15993/15993\u001b[0m \u001b[32m━━━━━━━━━━━━━━━━━━━━\u001b[0m\u001b[37m\u001b[0m \u001b[1m31s\u001b[0m 2ms/step - accuracy: 0.9997 - loss: 0.0011 - precision: 0.9997 - recall: 0.9998 - val_accuracy: 0.9994 - val_loss: 0.0065 - val_precision: 0.8333 - val_recall: 0.8333\n",
      "Epoch 57/100\n",
      "\u001b[1m15993/15993\u001b[0m \u001b[32m━━━━━━━━━━━━━━━━━━━━\u001b[0m\u001b[37m\u001b[0m \u001b[1m27s\u001b[0m 2ms/step - accuracy: 0.9997 - loss: 0.0011 - precision: 0.9995 - recall: 0.9998 - val_accuracy: 0.9995 - val_loss: 0.0067 - val_precision: 0.8696 - val_recall: 0.8333\n",
      "Epoch 58/100\n",
      "\u001b[1m15993/15993\u001b[0m \u001b[32m━━━━━━━━━━━━━━━━━━━━\u001b[0m\u001b[37m\u001b[0m \u001b[1m27s\u001b[0m 2ms/step - accuracy: 0.9997 - loss: 0.0013 - precision: 0.9995 - recall: 0.9998 - val_accuracy: 0.9995 - val_loss: 0.0068 - val_precision: 0.8696 - val_recall: 0.8333\n",
      "Epoch 59/100\n",
      "\u001b[1m15993/15993\u001b[0m \u001b[32m━━━━━━━━━━━━━━━━━━━━\u001b[0m\u001b[37m\u001b[0m \u001b[1m27s\u001b[0m 2ms/step - accuracy: 0.9997 - loss: 0.0013 - precision: 0.9996 - recall: 0.9998 - val_accuracy: 0.9995 - val_loss: 0.0064 - val_precision: 0.8696 - val_recall: 0.8333\n",
      "Epoch 60/100\n",
      "\u001b[1m15993/15993\u001b[0m \u001b[32m━━━━━━━━━━━━━━━━━━━━\u001b[0m\u001b[37m\u001b[0m \u001b[1m27s\u001b[0m 2ms/step - accuracy: 0.9997 - loss: 0.0011 - precision: 0.9996 - recall: 0.9999 - val_accuracy: 0.9994 - val_loss: 0.0072 - val_precision: 0.8333 - val_recall: 0.8333\n",
      "Epoch 61/100\n",
      "\u001b[1m15993/15993\u001b[0m \u001b[32m━━━━━━━━━━━━━━━━━━━━\u001b[0m\u001b[37m\u001b[0m \u001b[1m27s\u001b[0m 2ms/step - accuracy: 0.9996 - loss: 0.0013 - precision: 0.9995 - recall: 0.9998 - val_accuracy: 0.9994 - val_loss: 0.0069 - val_precision: 0.8333 - val_recall: 0.8333\n",
      "Epoch 62/100\n",
      "\u001b[1m15993/15993\u001b[0m \u001b[32m━━━━━━━━━━━━━━━━━━━━\u001b[0m\u001b[37m\u001b[0m \u001b[1m27s\u001b[0m 2ms/step - accuracy: 0.9997 - loss: 0.0012 - precision: 0.9996 - recall: 0.9998 - val_accuracy: 0.9994 - val_loss: 0.0063 - val_precision: 0.8333 - val_recall: 0.8333\n",
      "Epoch 63/100\n",
      "\u001b[1m15993/15993\u001b[0m \u001b[32m━━━━━━━━━━━━━━━━━━━━\u001b[0m\u001b[37m\u001b[0m \u001b[1m41s\u001b[0m 2ms/step - accuracy: 0.9997 - loss: 0.0011 - precision: 0.9996 - recall: 0.9998 - val_accuracy: 0.9994 - val_loss: 0.0064 - val_precision: 0.8333 - val_recall: 0.8333\n",
      "Epoch 64/100\n",
      "\u001b[1m15993/15993\u001b[0m \u001b[32m━━━━━━━━━━━━━━━━━━━━\u001b[0m\u001b[37m\u001b[0m \u001b[1m26s\u001b[0m 2ms/step - accuracy: 0.9997 - loss: 0.0011 - precision: 0.9996 - recall: 0.9998 - val_accuracy: 0.9995 - val_loss: 0.0063 - val_precision: 0.8696 - val_recall: 0.8333\n",
      "Epoch 65/100\n",
      "\u001b[1m15993/15993\u001b[0m \u001b[32m━━━━━━━━━━━━━━━━━━━━\u001b[0m\u001b[37m\u001b[0m \u001b[1m27s\u001b[0m 2ms/step - accuracy: 0.9997 - loss: 0.0010 - precision: 0.9997 - recall: 0.9998 - val_accuracy: 0.9994 - val_loss: 0.0063 - val_precision: 0.8333 - val_recall: 0.8333\n",
      "Epoch 66/100\n",
      "\u001b[1m15993/15993\u001b[0m \u001b[32m━━━━━━━━━━━━━━━━━━━━\u001b[0m\u001b[37m\u001b[0m \u001b[1m27s\u001b[0m 2ms/step - accuracy: 0.9997 - loss: 0.0012 - precision: 0.9996 - recall: 0.9998 - val_accuracy: 0.9995 - val_loss: 0.0063 - val_precision: 0.8696 - val_recall: 0.8333\n",
      "Epoch 67/100\n",
      "\u001b[1m15993/15993\u001b[0m \u001b[32m━━━━━━━━━━━━━━━━━━━━\u001b[0m\u001b[37m\u001b[0m \u001b[1m27s\u001b[0m 2ms/step - accuracy: 0.9997 - loss: 0.0011 - precision: 0.9996 - recall: 0.9999 - val_accuracy: 0.9995 - val_loss: 0.0064 - val_precision: 0.8696 - val_recall: 0.8333\n",
      "Epoch 68/100\n",
      "\u001b[1m15993/15993\u001b[0m \u001b[32m━━━━━━━━━━━━━━━━━━━━\u001b[0m\u001b[37m\u001b[0m \u001b[1m27s\u001b[0m 2ms/step - accuracy: 0.9997 - loss: 0.0012 - precision: 0.9996 - recall: 0.9999 - val_accuracy: 0.9995 - val_loss: 0.0063 - val_precision: 0.8696 - val_recall: 0.8333\n",
      "Epoch 69/100\n",
      "\u001b[1m15993/15993\u001b[0m \u001b[32m━━━━━━━━━━━━━━━━━━━━\u001b[0m\u001b[37m\u001b[0m \u001b[1m27s\u001b[0m 2ms/step - accuracy: 0.9997 - loss: 0.0011 - precision: 0.9996 - recall: 0.9998 - val_accuracy: 0.9994 - val_loss: 0.0069 - val_precision: 0.8333 - val_recall: 0.8333\n",
      "Epoch 70/100\n",
      "\u001b[1m15993/15993\u001b[0m \u001b[32m━━━━━━━━━━━━━━━━━━━━\u001b[0m\u001b[37m\u001b[0m \u001b[1m27s\u001b[0m 2ms/step - accuracy: 0.9997 - loss: 0.0011 - precision: 0.9996 - recall: 0.9998 - val_accuracy: 0.9994 - val_loss: 0.0068 - val_precision: 0.8000 - val_recall: 0.8333\n",
      "Epoch 71/100\n",
      "\u001b[1m15993/15993\u001b[0m \u001b[32m━━━━━━━━━━━━━━━━━━━━\u001b[0m\u001b[37m\u001b[0m \u001b[1m26s\u001b[0m 2ms/step - accuracy: 0.9998 - loss: 9.9832e-04 - precision: 0.9996 - recall: 0.9999 - val_accuracy: 0.9994 - val_loss: 0.0070 - val_precision: 0.8333 - val_recall: 0.8333\n",
      "Epoch 72/100\n",
      "\u001b[1m15993/15993\u001b[0m \u001b[32m━━━━━━━━━━━━━━━━━━━━\u001b[0m\u001b[37m\u001b[0m \u001b[1m27s\u001b[0m 2ms/step - accuracy: 0.9998 - loss: 9.2155e-04 - precision: 0.9997 - recall: 0.9998 - val_accuracy: 0.9993 - val_loss: 0.0068 - val_precision: 0.7692 - val_recall: 0.8333\n",
      "Epoch 73/100\n",
      "\u001b[1m15993/15993\u001b[0m \u001b[32m━━━━━━━━━━━━━━━━━━━━\u001b[0m\u001b[37m\u001b[0m \u001b[1m27s\u001b[0m 2ms/step - accuracy: 0.9997 - loss: 0.0012 - precision: 0.9996 - recall: 0.9999 - val_accuracy: 0.9995 - val_loss: 0.0066 - val_precision: 0.8696 - val_recall: 0.8333\n",
      "Epoch 74/100\n",
      "\u001b[1m15993/15993\u001b[0m \u001b[32m━━━━━━━━━━━━━━━━━━━━\u001b[0m\u001b[37m\u001b[0m \u001b[1m27s\u001b[0m 2ms/step - accuracy: 0.9997 - loss: 0.0011 - precision: 0.9996 - recall: 0.9998 - val_accuracy: 0.9995 - val_loss: 0.0075 - val_precision: 0.8696 - val_recall: 0.8333\n",
      "Epoch 75/100\n",
      "\u001b[1m15993/15993\u001b[0m \u001b[32m━━━━━━━━━━━━━━━━━━━━\u001b[0m\u001b[37m\u001b[0m \u001b[1m27s\u001b[0m 2ms/step - accuracy: 0.9997 - loss: 0.0010 - precision: 0.9996 - recall: 0.9998 - val_accuracy: 0.9996 - val_loss: 0.0069 - val_precision: 0.9091 - val_recall: 0.8333\n",
      "Epoch 76/100\n",
      "\u001b[1m15993/15993\u001b[0m \u001b[32m━━━━━━━━━━━━━━━━━━━━\u001b[0m\u001b[37m\u001b[0m \u001b[1m45s\u001b[0m 2ms/step - accuracy: 0.9997 - loss: 9.6756e-04 - precision: 0.9996 - recall: 0.9999 - val_accuracy: 0.9995 - val_loss: 0.0074 - val_precision: 0.8696 - val_recall: 0.8333\n",
      "Epoch 77/100\n",
      "\u001b[1m15993/15993\u001b[0m \u001b[32m━━━━━━━━━━━━━━━━━━━━\u001b[0m\u001b[37m\u001b[0m \u001b[1m30s\u001b[0m 2ms/step - accuracy: 0.9997 - loss: 0.0011 - precision: 0.9997 - recall: 0.9998 - val_accuracy: 0.9994 - val_loss: 0.0072 - val_precision: 0.8000 - val_recall: 0.8333\n",
      "Epoch 78/100\n",
      "\u001b[1m15993/15993\u001b[0m \u001b[32m━━━━━━━━━━━━━━━━━━━━\u001b[0m\u001b[37m\u001b[0m \u001b[1m31s\u001b[0m 2ms/step - accuracy: 0.9997 - loss: 9.3845e-04 - precision: 0.9996 - recall: 0.9998 - val_accuracy: 0.9995 - val_loss: 0.0066 - val_precision: 0.8696 - val_recall: 0.8333\n",
      "Epoch 79/100\n",
      "\u001b[1m15993/15993\u001b[0m \u001b[32m━━━━━━━━━━━━━━━━━━━━\u001b[0m\u001b[37m\u001b[0m \u001b[1m31s\u001b[0m 2ms/step - accuracy: 0.9997 - loss: 9.2617e-04 - precision: 0.9996 - recall: 0.9999 - val_accuracy: 0.9994 - val_loss: 0.0068 - val_precision: 0.8333 - val_recall: 0.8333\n",
      "Epoch 80/100\n",
      "\u001b[1m15993/15993\u001b[0m \u001b[32m━━━━━━━━━━━━━━━━━━━━\u001b[0m\u001b[37m\u001b[0m \u001b[1m30s\u001b[0m 2ms/step - accuracy: 0.9997 - loss: 0.0012 - precision: 0.9996 - recall: 0.9999 - val_accuracy: 0.9994 - val_loss: 0.0073 - val_precision: 0.8333 - val_recall: 0.8333\n",
      "Epoch 81/100\n",
      "\u001b[1m15993/15993\u001b[0m \u001b[32m━━━━━━━━━━━━━━━━━━━━\u001b[0m\u001b[37m\u001b[0m \u001b[1m31s\u001b[0m 2ms/step - accuracy: 0.9998 - loss: 8.8162e-04 - precision: 0.9997 - recall: 0.9999 - val_accuracy: 0.9995 - val_loss: 0.0074 - val_precision: 0.8696 - val_recall: 0.8333\n",
      "Epoch 82/100\n",
      "\u001b[1m15993/15993\u001b[0m \u001b[32m━━━━━━━━━━━━━━━━━━━━\u001b[0m\u001b[37m\u001b[0m \u001b[1m31s\u001b[0m 2ms/step - accuracy: 0.9997 - loss: 0.0010 - precision: 0.9996 - recall: 0.9998 - val_accuracy: 0.9995 - val_loss: 0.0071 - val_precision: 0.8696 - val_recall: 0.8333\n",
      "Epoch 83/100\n",
      "\u001b[1m15993/15993\u001b[0m \u001b[32m━━━━━━━━━━━━━━━━━━━━\u001b[0m\u001b[37m\u001b[0m \u001b[1m31s\u001b[0m 2ms/step - accuracy: 0.9998 - loss: 0.0010 - precision: 0.9996 - recall: 0.9999 - val_accuracy: 0.9995 - val_loss: 0.0069 - val_precision: 0.8696 - val_recall: 0.8333\n",
      "Epoch 84/100\n",
      "\u001b[1m15993/15993\u001b[0m \u001b[32m━━━━━━━━━━━━━━━━━━━━\u001b[0m\u001b[37m\u001b[0m \u001b[1m32s\u001b[0m 2ms/step - accuracy: 0.9997 - loss: 0.0011 - precision: 0.9996 - recall: 0.9998 - val_accuracy: 0.9994 - val_loss: 0.0068 - val_precision: 0.8333 - val_recall: 0.8333\n",
      "Epoch 85/100\n",
      "\u001b[1m15993/15993\u001b[0m \u001b[32m━━━━━━━━━━━━━━━━━━━━\u001b[0m\u001b[37m\u001b[0m \u001b[1m33s\u001b[0m 2ms/step - accuracy: 0.9997 - loss: 0.0010 - precision: 0.9996 - recall: 0.9999 - val_accuracy: 0.9995 - val_loss: 0.0065 - val_precision: 0.8696 - val_recall: 0.8333\n",
      "Epoch 86/100\n",
      "\u001b[1m15993/15993\u001b[0m \u001b[32m━━━━━━━━━━━━━━━━━━━━\u001b[0m\u001b[37m\u001b[0m \u001b[1m33s\u001b[0m 2ms/step - accuracy: 0.9998 - loss: 0.0010 - precision: 0.9997 - recall: 0.9999 - val_accuracy: 0.9995 - val_loss: 0.0070 - val_precision: 0.8696 - val_recall: 0.8333\n",
      "Epoch 87/100\n",
      "\u001b[1m15993/15993\u001b[0m \u001b[32m━━━━━━━━━━━━━━━━━━━━\u001b[0m\u001b[37m\u001b[0m \u001b[1m33s\u001b[0m 2ms/step - accuracy: 0.9998 - loss: 9.9105e-04 - precision: 0.9997 - recall: 0.9998 - val_accuracy: 0.9995 - val_loss: 0.0067 - val_precision: 0.8696 - val_recall: 0.8333\n",
      "Epoch 88/100\n",
      "\u001b[1m15993/15993\u001b[0m \u001b[32m━━━━━━━━━━━━━━━━━━━━\u001b[0m\u001b[37m\u001b[0m \u001b[1m30s\u001b[0m 2ms/step - accuracy: 0.9997 - loss: 0.0010 - precision: 0.9996 - recall: 0.9998 - val_accuracy: 0.9995 - val_loss: 0.0072 - val_precision: 0.8696 - val_recall: 0.8333\n",
      "Epoch 89/100\n",
      "\u001b[1m15993/15993\u001b[0m \u001b[32m━━━━━━━━━━━━━━━━━━━━\u001b[0m\u001b[37m\u001b[0m \u001b[1m30s\u001b[0m 2ms/step - accuracy: 0.9998 - loss: 9.3822e-04 - precision: 0.9997 - recall: 0.9998 - val_accuracy: 0.9995 - val_loss: 0.0069 - val_precision: 0.8696 - val_recall: 0.8333\n",
      "Epoch 90/100\n",
      "\u001b[1m15993/15993\u001b[0m \u001b[32m━━━━━━━━━━━━━━━━━━━━\u001b[0m\u001b[37m\u001b[0m \u001b[1m31s\u001b[0m 2ms/step - accuracy: 0.9998 - loss: 0.0010 - precision: 0.9997 - recall: 0.9998 - val_accuracy: 0.9995 - val_loss: 0.0071 - val_precision: 0.8696 - val_recall: 0.8333\n",
      "Epoch 91/100\n",
      "\u001b[1m15993/15993\u001b[0m \u001b[32m━━━━━━━━━━━━━━━━━━━━\u001b[0m\u001b[37m\u001b[0m \u001b[1m31s\u001b[0m 2ms/step - accuracy: 0.9998 - loss: 8.3030e-04 - precision: 0.9997 - recall: 0.9999 - val_accuracy: 0.9995 - val_loss: 0.0074 - val_precision: 0.8696 - val_recall: 0.8333\n",
      "Epoch 92/100\n",
      "\u001b[1m15993/15993\u001b[0m \u001b[32m━━━━━━━━━━━━━━━━━━━━\u001b[0m\u001b[37m\u001b[0m \u001b[1m31s\u001b[0m 2ms/step - accuracy: 0.9998 - loss: 9.5979e-04 - precision: 0.9997 - recall: 0.9998 - val_accuracy: 0.9995 - val_loss: 0.0075 - val_precision: 0.8696 - val_recall: 0.8333\n",
      "Epoch 93/100\n",
      "\u001b[1m15993/15993\u001b[0m \u001b[32m━━━━━━━━━━━━━━━━━━━━\u001b[0m\u001b[37m\u001b[0m \u001b[1m30s\u001b[0m 2ms/step - accuracy: 0.9998 - loss: 8.7412e-04 - precision: 0.9997 - recall: 0.9999 - val_accuracy: 0.9994 - val_loss: 0.0074 - val_precision: 0.8000 - val_recall: 0.8333\n",
      "Epoch 94/100\n",
      "\u001b[1m15993/15993\u001b[0m \u001b[32m━━━━━━━━━━━━━━━━━━━━\u001b[0m\u001b[37m\u001b[0m \u001b[1m30s\u001b[0m 2ms/step - accuracy: 0.9998 - loss: 9.3179e-04 - precision: 0.9997 - recall: 0.9998 - val_accuracy: 0.9995 - val_loss: 0.0070 - val_precision: 0.8696 - val_recall: 0.8333\n",
      "Epoch 95/100\n",
      "\u001b[1m15993/15993\u001b[0m \u001b[32m━━━━━━━━━━━━━━━━━━━━\u001b[0m\u001b[37m\u001b[0m \u001b[1m31s\u001b[0m 2ms/step - accuracy: 0.9998 - loss: 9.5059e-04 - precision: 0.9997 - recall: 0.9999 - val_accuracy: 0.9995 - val_loss: 0.0074 - val_precision: 0.8696 - val_recall: 0.8333\n",
      "Epoch 96/100\n",
      "\u001b[1m15993/15993\u001b[0m \u001b[32m━━━━━━━━━━━━━━━━━━━━\u001b[0m\u001b[37m\u001b[0m \u001b[1m30s\u001b[0m 2ms/step - accuracy: 0.9997 - loss: 9.7914e-04 - precision: 0.9996 - recall: 0.9998 - val_accuracy: 0.9995 - val_loss: 0.0073 - val_precision: 0.8696 - val_recall: 0.8333\n",
      "Epoch 97/100\n",
      "\u001b[1m15993/15993\u001b[0m \u001b[32m━━━━━━━━━━━━━━━━━━━━\u001b[0m\u001b[37m\u001b[0m \u001b[1m31s\u001b[0m 2ms/step - accuracy: 0.9998 - loss: 8.5427e-04 - precision: 0.9997 - recall: 0.9999 - val_accuracy: 0.9995 - val_loss: 0.0070 - val_precision: 0.8696 - val_recall: 0.8333\n",
      "Epoch 98/100\n",
      "\u001b[1m15993/15993\u001b[0m \u001b[32m━━━━━━━━━━━━━━━━━━━━\u001b[0m\u001b[37m\u001b[0m \u001b[1m30s\u001b[0m 2ms/step - accuracy: 0.9997 - loss: 0.0010 - precision: 0.9996 - recall: 0.9998 - val_accuracy: 0.9995 - val_loss: 0.0070 - val_precision: 0.8696 - val_recall: 0.8333\n",
      "Epoch 99/100\n",
      "\u001b[1m15993/15993\u001b[0m \u001b[32m━━━━━━━━━━━━━━━━━━━━\u001b[0m\u001b[37m\u001b[0m \u001b[1m31s\u001b[0m 2ms/step - accuracy: 0.9998 - loss: 7.8055e-04 - precision: 0.9996 - recall: 0.9999 - val_accuracy: 0.9995 - val_loss: 0.0070 - val_precision: 0.8696 - val_recall: 0.8333\n",
      "Epoch 100/100\n",
      "\u001b[1m15993/15993\u001b[0m \u001b[32m━━━━━━━━━━━━━━━━━━━━\u001b[0m\u001b[37m\u001b[0m \u001b[1m31s\u001b[0m 2ms/step - accuracy: 0.9998 - loss: 7.9046e-04 - precision: 0.9997 - recall: 0.9999 - val_accuracy: 0.9995 - val_loss: 0.0073 - val_precision: 0.8696 - val_recall: 0.8333\n"
     ]
    },
    {
     "data": {
      "text/plain": [
       "<keras.src.callbacks.history.History at 0x206698ba9f0>"
      ]
     },
     "execution_count": 13,
     "metadata": {},
     "output_type": "execute_result"
    }
   ],
   "source": [
    "tf.random.set_seed(42)\n",
    "np.random.seed(42)\n",
    "\n",
    "model1 = Sequential([\n",
    "\n",
    "    InputLayer(X_train.shape[1:]),\n",
    "    \n",
    "    Dense(256, activation=\"relu\"),\n",
    "    BatchNormalization(),\n",
    "    Dropout(0.35),\n",
    "\n",
    "    Dense(256, activation=\"relu\"),\n",
    "    BatchNormalization(),\n",
    "    Dropout(0.35),\n",
    "    \n",
    "    Dense(32, activation=\"relu\"),\n",
    "    Dense(1, activation=\"sigmoid\")\n",
    "])\n",
    "\n",
    "model1.compile(loss=BinaryCrossentropy(), optimizer=Nadam(learning_rate=0.0001), metrics=[\"accuracy\", \"precision\", \"recall\"])\n",
    "model1.fit(X_train, y_train, validation_data=(X_val, y_val), epochs=100)"
   ]
  },
  {
   "cell_type": "markdown",
   "metadata": {},
   "source": [
    "The final validation metrics for `model1` were: \n",
    "* Accuracy: 0.99\n",
    "* Precision: 0.86\n",
    "* Recall: 0.83\n",
    "\n",
    "Below, `model1` is scored on the testing set: "
   ]
  },
  {
   "cell_type": "code",
   "execution_count": 14,
   "metadata": {},
   "outputs": [
    {
     "name": "stdout",
     "output_type": "stream",
     "text": [
      "\u001b[1m446/446\u001b[0m \u001b[32m━━━━━━━━━━━━━━━━━━━━\u001b[0m\u001b[37m\u001b[0m \u001b[1m1s\u001b[0m 937us/step - accuracy: 0.9993 - loss: 0.0123 - precision: 0.7828 - recall: 0.8533       \n"
     ]
    },
    {
     "data": {
      "text/plain": [
       "[0.0062684593722224236,\n",
       " 0.9995084404945374,\n",
       " 0.8214285969734192,\n",
       " 0.9200000166893005]"
      ]
     },
     "execution_count": 14,
     "metadata": {},
     "output_type": "execute_result"
    }
   ],
   "source": [
    "model1.evaluate(X_test, y_test)"
   ]
  },
  {
   "cell_type": "markdown",
   "metadata": {},
   "source": [
    "The accuracy was near perfect, but precision and recall were not quite as good. Although the latter two metrics are not ideal, the model did fairly well on the testing data. "
   ]
  },
  {
   "cell_type": "markdown",
   "metadata": {},
   "source": [
    "#### Model 2\n",
    "\n",
    "The second model contains four 256-unit dense layers with dropout layers of 0.35, which are fed to a dense 32-unit layer and onto the output. Once again, the Nadam optimizer is used, but with a learning rate of 0.001 instead of 0.0001. The larget network should hopefully be able to learn more complex relationships in the data. "
   ]
  },
  {
   "cell_type": "code",
   "execution_count": 15,
   "metadata": {},
   "outputs": [
    {
     "name": "stdout",
     "output_type": "stream",
     "text": [
      "Epoch 1/100\n",
      "\u001b[1m15993/15993\u001b[0m \u001b[32m━━━━━━━━━━━━━━━━━━━━\u001b[0m\u001b[37m\u001b[0m \u001b[1m45s\u001b[0m 3ms/step - accuracy: 0.9713 - loss: 0.0735 - precision: 0.9718 - recall: 0.9708 - val_accuracy: 0.9952 - val_loss: 0.0147 - val_precision: 0.2442 - val_recall: 0.8750\n",
      "Epoch 2/100\n",
      "\u001b[1m15993/15993\u001b[0m \u001b[32m━━━━━━━━━━━━━━━━━━━━\u001b[0m\u001b[37m\u001b[0m \u001b[1m43s\u001b[0m 3ms/step - accuracy: 0.9954 - loss: 0.0159 - precision: 0.9940 - recall: 0.9969 - val_accuracy: 0.9968 - val_loss: 0.0116 - val_precision: 0.3226 - val_recall: 0.8333\n",
      "Epoch 3/100\n",
      "\u001b[1m15993/15993\u001b[0m \u001b[32m━━━━━━━━━━━━━━━━━━━━\u001b[0m\u001b[37m\u001b[0m \u001b[1m43s\u001b[0m 3ms/step - accuracy: 0.9969 - loss: 0.0111 - precision: 0.9958 - recall: 0.9981 - val_accuracy: 0.9980 - val_loss: 0.0085 - val_precision: 0.4468 - val_recall: 0.8750\n",
      "Epoch 4/100\n",
      "\u001b[1m15993/15993\u001b[0m \u001b[32m━━━━━━━━━━━━━━━━━━━━\u001b[0m\u001b[37m\u001b[0m \u001b[1m43s\u001b[0m 3ms/step - accuracy: 0.9977 - loss: 0.0090 - precision: 0.9967 - recall: 0.9987 - val_accuracy: 0.9980 - val_loss: 0.0082 - val_precision: 0.4565 - val_recall: 0.8750\n",
      "Epoch 5/100\n",
      "\u001b[1m15993/15993\u001b[0m \u001b[32m━━━━━━━━━━━━━━━━━━━━\u001b[0m\u001b[37m\u001b[0m \u001b[1m46s\u001b[0m 3ms/step - accuracy: 0.9980 - loss: 0.0078 - precision: 0.9973 - recall: 0.9988 - val_accuracy: 0.9978 - val_loss: 0.0099 - val_precision: 0.4286 - val_recall: 0.8750\n",
      "Epoch 6/100\n",
      "\u001b[1m15993/15993\u001b[0m \u001b[32m━━━━━━━━━━━━━━━━━━━━\u001b[0m\u001b[37m\u001b[0m \u001b[1m46s\u001b[0m 3ms/step - accuracy: 0.9982 - loss: 0.0071 - precision: 0.9974 - recall: 0.9990 - val_accuracy: 0.9983 - val_loss: 0.0071 - val_precision: 0.5000 - val_recall: 0.8750\n",
      "Epoch 7/100\n",
      "\u001b[1m15993/15993\u001b[0m \u001b[32m━━━━━━━━━━━━━━━━━━━━\u001b[0m\u001b[37m\u001b[0m \u001b[1m46s\u001b[0m 3ms/step - accuracy: 0.9983 - loss: 0.0066 - precision: 0.9977 - recall: 0.9990 - val_accuracy: 0.9977 - val_loss: 0.0094 - val_precision: 0.4118 - val_recall: 0.8750\n",
      "Epoch 8/100\n",
      "\u001b[1m15993/15993\u001b[0m \u001b[32m━━━━━━━━━━━━━━━━━━━━\u001b[0m\u001b[37m\u001b[0m \u001b[1m46s\u001b[0m 3ms/step - accuracy: 0.9985 - loss: 0.0059 - precision: 0.9979 - recall: 0.9992 - val_accuracy: 0.9985 - val_loss: 0.0079 - val_precision: 0.5250 - val_recall: 0.8750\n",
      "Epoch 9/100\n",
      "\u001b[1m15993/15993\u001b[0m \u001b[32m━━━━━━━━━━━━━━━━━━━━\u001b[0m\u001b[37m\u001b[0m \u001b[1m85s\u001b[0m 3ms/step - accuracy: 0.9988 - loss: 0.0052 - precision: 0.9982 - recall: 0.9994 - val_accuracy: 0.9989 - val_loss: 0.0068 - val_precision: 0.6176 - val_recall: 0.8750\n",
      "Epoch 10/100\n",
      "\u001b[1m15993/15993\u001b[0m \u001b[32m━━━━━━━━━━━━━━━━━━━━\u001b[0m\u001b[37m\u001b[0m \u001b[1m47s\u001b[0m 3ms/step - accuracy: 0.9987 - loss: 0.0056 - precision: 0.9981 - recall: 0.9993 - val_accuracy: 0.9989 - val_loss: 0.0063 - val_precision: 0.6452 - val_recall: 0.8333\n",
      "Epoch 11/100\n",
      "\u001b[1m15993/15993\u001b[0m \u001b[32m━━━━━━━━━━━━━━━━━━━━\u001b[0m\u001b[37m\u001b[0m \u001b[1m46s\u001b[0m 3ms/step - accuracy: 0.9989 - loss: 0.0049 - precision: 0.9983 - recall: 0.9994 - val_accuracy: 0.9987 - val_loss: 0.0064 - val_precision: 0.5882 - val_recall: 0.8333\n",
      "Epoch 12/100\n",
      "\u001b[1m15993/15993\u001b[0m \u001b[32m━━━━━━━━━━━━━━━━━━━━\u001b[0m\u001b[37m\u001b[0m \u001b[1m45s\u001b[0m 3ms/step - accuracy: 0.9989 - loss: 0.0048 - precision: 0.9984 - recall: 0.9993 - val_accuracy: 0.9984 - val_loss: 0.0081 - val_precision: 0.5122 - val_recall: 0.8750\n",
      "Epoch 13/100\n",
      "\u001b[1m15993/15993\u001b[0m \u001b[32m━━━━━━━━━━━━━━━━━━━━\u001b[0m\u001b[37m\u001b[0m \u001b[1m46s\u001b[0m 3ms/step - accuracy: 0.9990 - loss: 0.0043 - precision: 0.9985 - recall: 0.9995 - val_accuracy: 0.9987 - val_loss: 0.0068 - val_precision: 0.5833 - val_recall: 0.8750\n",
      "Epoch 14/100\n",
      "\u001b[1m15993/15993\u001b[0m \u001b[32m━━━━━━━━━━━━━━━━━━━━\u001b[0m\u001b[37m\u001b[0m \u001b[1m45s\u001b[0m 3ms/step - accuracy: 0.9990 - loss: 0.0044 - precision: 0.9986 - recall: 0.9994 - val_accuracy: 0.9989 - val_loss: 0.0073 - val_precision: 0.6176 - val_recall: 0.8750\n",
      "Epoch 15/100\n",
      "\u001b[1m15993/15993\u001b[0m \u001b[32m━━━━━━━━━━━━━━━━━━━━\u001b[0m\u001b[37m\u001b[0m \u001b[1m47s\u001b[0m 3ms/step - accuracy: 0.9991 - loss: 0.0043 - precision: 0.9987 - recall: 0.9994 - val_accuracy: 0.9987 - val_loss: 0.0084 - val_precision: 0.5676 - val_recall: 0.8750\n",
      "Epoch 16/100\n",
      "\u001b[1m15993/15993\u001b[0m \u001b[32m━━━━━━━━━━━━━━━━━━━━\u001b[0m\u001b[37m\u001b[0m \u001b[1m47s\u001b[0m 3ms/step - accuracy: 0.9992 - loss: 0.0040 - precision: 0.9987 - recall: 0.9996 - val_accuracy: 0.9987 - val_loss: 0.0082 - val_precision: 0.5833 - val_recall: 0.8750\n",
      "Epoch 17/100\n",
      "\u001b[1m15993/15993\u001b[0m \u001b[32m━━━━━━━━━━━━━━━━━━━━\u001b[0m\u001b[37m\u001b[0m \u001b[1m80s\u001b[0m 3ms/step - accuracy: 0.9990 - loss: 0.0043 - precision: 0.9985 - recall: 0.9995 - val_accuracy: 0.9991 - val_loss: 0.0063 - val_precision: 0.6897 - val_recall: 0.8333\n",
      "Epoch 18/100\n",
      "\u001b[1m15993/15993\u001b[0m \u001b[32m━━━━━━━━━━━━━━━━━━━━\u001b[0m\u001b[37m\u001b[0m \u001b[1m46s\u001b[0m 3ms/step - accuracy: 0.9991 - loss: 0.0039 - precision: 0.9988 - recall: 0.9995 - val_accuracy: 0.9989 - val_loss: 0.0063 - val_precision: 0.6364 - val_recall: 0.8750\n",
      "Epoch 19/100\n",
      "\u001b[1m15993/15993\u001b[0m \u001b[32m━━━━━━━━━━━━━━━━━━━━\u001b[0m\u001b[37m\u001b[0m \u001b[1m45s\u001b[0m 3ms/step - accuracy: 0.9992 - loss: 0.0039 - precision: 0.9988 - recall: 0.9995 - val_accuracy: 0.9989 - val_loss: 0.0071 - val_precision: 0.6364 - val_recall: 0.8750\n",
      "Epoch 20/100\n",
      "\u001b[1m15993/15993\u001b[0m \u001b[32m━━━━━━━━━━━━━━━━━━━━\u001b[0m\u001b[37m\u001b[0m \u001b[1m82s\u001b[0m 3ms/step - accuracy: 0.9991 - loss: 0.0042 - precision: 0.9987 - recall: 0.9995 - val_accuracy: 0.9991 - val_loss: 0.0069 - val_precision: 0.6897 - val_recall: 0.8333\n",
      "Epoch 21/100\n",
      "\u001b[1m15993/15993\u001b[0m \u001b[32m━━━━━━━━━━━━━━━━━━━━\u001b[0m\u001b[37m\u001b[0m \u001b[1m45s\u001b[0m 3ms/step - accuracy: 0.9992 - loss: 0.0034 - precision: 0.9988 - recall: 0.9996 - val_accuracy: 0.9988 - val_loss: 0.0071 - val_precision: 0.6000 - val_recall: 0.8750\n",
      "Epoch 22/100\n",
      "\u001b[1m15993/15993\u001b[0m \u001b[32m━━━━━━━━━━━━━━━━━━━━\u001b[0m\u001b[37m\u001b[0m \u001b[1m72s\u001b[0m 4ms/step - accuracy: 0.9992 - loss: 0.0036 - precision: 0.9988 - recall: 0.9995 - val_accuracy: 0.9990 - val_loss: 0.0071 - val_precision: 0.6562 - val_recall: 0.8750\n",
      "Epoch 23/100\n",
      "\u001b[1m15993/15993\u001b[0m \u001b[32m━━━━━━━━━━━━━━━━━━━━\u001b[0m\u001b[37m\u001b[0m \u001b[1m89s\u001b[0m 5ms/step - accuracy: 0.9991 - loss: 0.0039 - precision: 0.9987 - recall: 0.9995 - val_accuracy: 0.9993 - val_loss: 0.0058 - val_precision: 0.7692 - val_recall: 0.8333\n",
      "Epoch 24/100\n",
      "\u001b[1m15993/15993\u001b[0m \u001b[32m━━━━━━━━━━━━━━━━━━━━\u001b[0m\u001b[37m\u001b[0m \u001b[1m46s\u001b[0m 3ms/step - accuracy: 0.9993 - loss: 0.0033 - precision: 0.9990 - recall: 0.9996 - val_accuracy: 0.9989 - val_loss: 0.0068 - val_precision: 0.6364 - val_recall: 0.8750\n",
      "Epoch 25/100\n",
      "\u001b[1m15993/15993\u001b[0m \u001b[32m━━━━━━━━━━━━━━━━━━━━\u001b[0m\u001b[37m\u001b[0m \u001b[1m47s\u001b[0m 3ms/step - accuracy: 0.9992 - loss: 0.0035 - precision: 0.9989 - recall: 0.9996 - val_accuracy: 0.9993 - val_loss: 0.0058 - val_precision: 0.7692 - val_recall: 0.8333\n",
      "Epoch 26/100\n",
      "\u001b[1m15993/15993\u001b[0m \u001b[32m━━━━━━━━━━━━━━━━━━━━\u001b[0m\u001b[37m\u001b[0m \u001b[1m48s\u001b[0m 3ms/step - accuracy: 0.9994 - loss: 0.0030 - precision: 0.9991 - recall: 0.9997 - val_accuracy: 0.9992 - val_loss: 0.0068 - val_precision: 0.7000 - val_recall: 0.8750\n",
      "Epoch 27/100\n",
      "\u001b[1m15993/15993\u001b[0m \u001b[32m━━━━━━━━━━━━━━━━━━━━\u001b[0m\u001b[37m\u001b[0m \u001b[1m47s\u001b[0m 3ms/step - accuracy: 0.9993 - loss: 0.0033 - precision: 0.9989 - recall: 0.9996 - val_accuracy: 0.9989 - val_loss: 0.0086 - val_precision: 0.6364 - val_recall: 0.8750\n",
      "Epoch 28/100\n",
      "\u001b[1m15993/15993\u001b[0m \u001b[32m━━━━━━━━━━━━━━━━━━━━\u001b[0m\u001b[37m\u001b[0m \u001b[1m46s\u001b[0m 3ms/step - accuracy: 0.9993 - loss: 0.0034 - precision: 0.9990 - recall: 0.9996 - val_accuracy: 0.9990 - val_loss: 0.0100 - val_precision: 0.6667 - val_recall: 0.8333\n",
      "Epoch 29/100\n",
      "\u001b[1m15993/15993\u001b[0m \u001b[32m━━━━━━━━━━━━━━━━━━━━\u001b[0m\u001b[37m\u001b[0m \u001b[1m47s\u001b[0m 3ms/step - accuracy: 0.9993 - loss: 0.0033 - precision: 0.9990 - recall: 0.9997 - val_accuracy: 0.9992 - val_loss: 0.0086 - val_precision: 0.7407 - val_recall: 0.8333\n",
      "Epoch 30/100\n",
      "\u001b[1m15993/15993\u001b[0m \u001b[32m━━━━━━━━━━━━━━━━━━━━\u001b[0m\u001b[37m\u001b[0m \u001b[1m46s\u001b[0m 3ms/step - accuracy: 0.9993 - loss: 0.0032 - precision: 0.9990 - recall: 0.9997 - val_accuracy: 0.9992 - val_loss: 0.0066 - val_precision: 0.7143 - val_recall: 0.8333\n",
      "Epoch 31/100\n",
      "\u001b[1m15993/15993\u001b[0m \u001b[32m━━━━━━━━━━━━━━━━━━━━\u001b[0m\u001b[37m\u001b[0m \u001b[1m46s\u001b[0m 3ms/step - accuracy: 0.9994 - loss: 0.0031 - precision: 0.9990 - recall: 0.9997 - val_accuracy: 0.9989 - val_loss: 0.0078 - val_precision: 0.6452 - val_recall: 0.8333\n",
      "Epoch 32/100\n",
      "\u001b[1m15993/15993\u001b[0m \u001b[32m━━━━━━━━━━━━━━━━━━━━\u001b[0m\u001b[37m\u001b[0m \u001b[1m48s\u001b[0m 3ms/step - accuracy: 0.9992 - loss: 0.0037 - precision: 0.9989 - recall: 0.9995 - val_accuracy: 0.9989 - val_loss: 0.0055 - val_precision: 0.6452 - val_recall: 0.8333\n",
      "Epoch 33/100\n",
      "\u001b[1m15993/15993\u001b[0m \u001b[32m━━━━━━━━━━━━━━━━━━━━\u001b[0m\u001b[37m\u001b[0m \u001b[1m46s\u001b[0m 3ms/step - accuracy: 0.9993 - loss: 0.0030 - precision: 0.9990 - recall: 0.9996 - val_accuracy: 0.9987 - val_loss: 0.0078 - val_precision: 0.5938 - val_recall: 0.7917\n",
      "Epoch 34/100\n",
      "\u001b[1m15993/15993\u001b[0m \u001b[32m━━━━━━━━━━━━━━━━━━━━\u001b[0m\u001b[37m\u001b[0m \u001b[1m46s\u001b[0m 3ms/step - accuracy: 0.9994 - loss: 0.0029 - precision: 0.9990 - recall: 0.9997 - val_accuracy: 0.9989 - val_loss: 0.0067 - val_precision: 0.6176 - val_recall: 0.8750\n",
      "Epoch 35/100\n",
      "\u001b[1m15993/15993\u001b[0m \u001b[32m━━━━━━━━━━━━━━━━━━━━\u001b[0m\u001b[37m\u001b[0m \u001b[1m80s\u001b[0m 3ms/step - accuracy: 0.9994 - loss: 0.0030 - precision: 0.9990 - recall: 0.9997 - val_accuracy: 0.9990 - val_loss: 0.0063 - val_precision: 0.6667 - val_recall: 0.8333\n",
      "Epoch 36/100\n",
      "\u001b[1m15993/15993\u001b[0m \u001b[32m━━━━━━━━━━━━━━━━━━━━\u001b[0m\u001b[37m\u001b[0m \u001b[1m80s\u001b[0m 3ms/step - accuracy: 0.9994 - loss: 0.0030 - precision: 0.9992 - recall: 0.9997 - val_accuracy: 0.9992 - val_loss: 0.0060 - val_precision: 0.7407 - val_recall: 0.8333\n",
      "Epoch 37/100\n",
      "\u001b[1m15993/15993\u001b[0m \u001b[32m━━━━━━━━━━━━━━━━━━━━\u001b[0m\u001b[37m\u001b[0m \u001b[1m42s\u001b[0m 3ms/step - accuracy: 0.9994 - loss: 0.0028 - precision: 0.9991 - recall: 0.9996 - val_accuracy: 0.9993 - val_loss: 0.0071 - val_precision: 0.7692 - val_recall: 0.8333\n",
      "Epoch 38/100\n",
      "\u001b[1m15993/15993\u001b[0m \u001b[32m━━━━━━━━━━━━━━━━━━━━\u001b[0m\u001b[37m\u001b[0m \u001b[1m83s\u001b[0m 3ms/step - accuracy: 0.9993 - loss: 0.0031 - precision: 0.9990 - recall: 0.9997 - val_accuracy: 0.9993 - val_loss: 0.0068 - val_precision: 0.7500 - val_recall: 0.8750\n",
      "Epoch 39/100\n",
      "\u001b[1m15993/15993\u001b[0m \u001b[32m━━━━━━━━━━━━━━━━━━━━\u001b[0m\u001b[37m\u001b[0m \u001b[1m41s\u001b[0m 3ms/step - accuracy: 0.9993 - loss: 0.0030 - precision: 0.9991 - recall: 0.9996 - val_accuracy: 0.9992 - val_loss: 0.0067 - val_precision: 0.7143 - val_recall: 0.8333\n",
      "Epoch 40/100\n",
      "\u001b[1m15993/15993\u001b[0m \u001b[32m━━━━━━━━━━━━━━━━━━━━\u001b[0m\u001b[37m\u001b[0m \u001b[1m42s\u001b[0m 3ms/step - accuracy: 0.9994 - loss: 0.0029 - precision: 0.9991 - recall: 0.9997 - val_accuracy: 0.9991 - val_loss: 0.0068 - val_precision: 0.6897 - val_recall: 0.8333\n",
      "Epoch 41/100\n",
      "\u001b[1m15993/15993\u001b[0m \u001b[32m━━━━━━━━━━━━━━━━━━━━\u001b[0m\u001b[37m\u001b[0m \u001b[1m42s\u001b[0m 3ms/step - accuracy: 0.9994 - loss: 0.0027 - precision: 0.9992 - recall: 0.9997 - val_accuracy: 0.9992 - val_loss: 0.0076 - val_precision: 0.7143 - val_recall: 0.8333\n",
      "Epoch 42/100\n",
      "\u001b[1m15993/15993\u001b[0m \u001b[32m━━━━━━━━━━━━━━━━━━━━\u001b[0m\u001b[37m\u001b[0m \u001b[1m41s\u001b[0m 3ms/step - accuracy: 0.9995 - loss: 0.0028 - precision: 0.9992 - recall: 0.9997 - val_accuracy: 0.9992 - val_loss: 0.0078 - val_precision: 0.7407 - val_recall: 0.8333\n",
      "Epoch 43/100\n",
      "\u001b[1m15993/15993\u001b[0m \u001b[32m━━━━━━━━━━━━━━━━━━━━\u001b[0m\u001b[37m\u001b[0m \u001b[1m44s\u001b[0m 3ms/step - accuracy: 0.9994 - loss: 0.0029 - precision: 0.9991 - recall: 0.9997 - val_accuracy: 0.9990 - val_loss: 0.0066 - val_precision: 0.6667 - val_recall: 0.8333\n",
      "Epoch 44/100\n",
      "\u001b[1m15993/15993\u001b[0m \u001b[32m━━━━━━━━━━━━━━━━━━━━\u001b[0m\u001b[37m\u001b[0m \u001b[1m46s\u001b[0m 3ms/step - accuracy: 0.9994 - loss: 0.0030 - precision: 0.9991 - recall: 0.9997 - val_accuracy: 0.9992 - val_loss: 0.0056 - val_precision: 0.7407 - val_recall: 0.8333\n",
      "Epoch 45/100\n",
      "\u001b[1m15993/15993\u001b[0m \u001b[32m━━━━━━━━━━━━━━━━━━━━\u001b[0m\u001b[37m\u001b[0m \u001b[1m77s\u001b[0m 3ms/step - accuracy: 0.9994 - loss: 0.0027 - precision: 0.9991 - recall: 0.9997 - val_accuracy: 0.9992 - val_loss: 0.0066 - val_precision: 0.7143 - val_recall: 0.8333\n",
      "Epoch 46/100\n",
      "\u001b[1m15993/15993\u001b[0m \u001b[32m━━━━━━━━━━━━━━━━━━━━\u001b[0m\u001b[37m\u001b[0m \u001b[1m42s\u001b[0m 3ms/step - accuracy: 0.9994 - loss: 0.0027 - precision: 0.9991 - recall: 0.9997 - val_accuracy: 0.9989 - val_loss: 0.0070 - val_precision: 0.6250 - val_recall: 0.8333\n",
      "Epoch 47/100\n",
      "\u001b[1m15993/15993\u001b[0m \u001b[32m━━━━━━━━━━━━━━━━━━━━\u001b[0m\u001b[37m\u001b[0m \u001b[1m42s\u001b[0m 3ms/step - accuracy: 0.9995 - loss: 0.0026 - precision: 0.9992 - recall: 0.9997 - val_accuracy: 0.9989 - val_loss: 0.0063 - val_precision: 0.6452 - val_recall: 0.8333\n",
      "Epoch 48/100\n",
      "\u001b[1m15993/15993\u001b[0m \u001b[32m━━━━━━━━━━━━━━━━━━━━\u001b[0m\u001b[37m\u001b[0m \u001b[1m41s\u001b[0m 3ms/step - accuracy: 0.9995 - loss: 0.0026 - precision: 0.9992 - recall: 0.9997 - val_accuracy: 0.9993 - val_loss: 0.0052 - val_precision: 0.7692 - val_recall: 0.8333\n",
      "Epoch 49/100\n",
      "\u001b[1m15993/15993\u001b[0m \u001b[32m━━━━━━━━━━━━━━━━━━━━\u001b[0m\u001b[37m\u001b[0m \u001b[1m42s\u001b[0m 3ms/step - accuracy: 0.9994 - loss: 0.0028 - precision: 0.9991 - recall: 0.9997 - val_accuracy: 0.9989 - val_loss: 0.0074 - val_precision: 0.6552 - val_recall: 0.7917\n",
      "Epoch 50/100\n",
      "\u001b[1m15993/15993\u001b[0m \u001b[32m━━━━━━━━━━━━━━━━━━━━\u001b[0m\u001b[37m\u001b[0m \u001b[1m42s\u001b[0m 3ms/step - accuracy: 0.9995 - loss: 0.0026 - precision: 0.9992 - recall: 0.9998 - val_accuracy: 0.9990 - val_loss: 0.0077 - val_precision: 0.6667 - val_recall: 0.8333\n",
      "Epoch 51/100\n",
      "\u001b[1m15993/15993\u001b[0m \u001b[32m━━━━━━━━━━━━━━━━━━━━\u001b[0m\u001b[37m\u001b[0m \u001b[1m42s\u001b[0m 3ms/step - accuracy: 0.9995 - loss: 0.0025 - precision: 0.9992 - recall: 0.9998 - val_accuracy: 0.9989 - val_loss: 0.0069 - val_precision: 0.6552 - val_recall: 0.7917\n",
      "Epoch 52/100\n",
      "\u001b[1m15993/15993\u001b[0m \u001b[32m━━━━━━━━━━━━━━━━━━━━\u001b[0m\u001b[37m\u001b[0m \u001b[1m44s\u001b[0m 3ms/step - accuracy: 0.9995 - loss: 0.0026 - precision: 0.9992 - recall: 0.9998 - val_accuracy: 0.9991 - val_loss: 0.0063 - val_precision: 0.6897 - val_recall: 0.8333\n",
      "Epoch 53/100\n",
      "\u001b[1m15993/15993\u001b[0m \u001b[32m━━━━━━━━━━━━━━━━━━━━\u001b[0m\u001b[37m\u001b[0m \u001b[1m85s\u001b[0m 3ms/step - accuracy: 0.9996 - loss: 0.0023 - precision: 0.9993 - recall: 0.9998 - val_accuracy: 0.9988 - val_loss: 0.0067 - val_precision: 0.6000 - val_recall: 0.8750\n",
      "Epoch 54/100\n",
      "\u001b[1m15993/15993\u001b[0m \u001b[32m━━━━━━━━━━━━━━━━━━━━\u001b[0m\u001b[37m\u001b[0m \u001b[1m48s\u001b[0m 3ms/step - accuracy: 0.9995 - loss: 0.0025 - precision: 0.9992 - recall: 0.9998 - val_accuracy: 0.9989 - val_loss: 0.0065 - val_precision: 0.6333 - val_recall: 0.7917\n",
      "Epoch 55/100\n",
      "\u001b[1m15993/15993\u001b[0m \u001b[32m━━━━━━━━━━━━━━━━━━━━\u001b[0m\u001b[37m\u001b[0m \u001b[1m47s\u001b[0m 3ms/step - accuracy: 0.9995 - loss: 0.0025 - precision: 0.9992 - recall: 0.9998 - val_accuracy: 0.9992 - val_loss: 0.0074 - val_precision: 0.7407 - val_recall: 0.8333\n",
      "Epoch 56/100\n",
      "\u001b[1m15993/15993\u001b[0m \u001b[32m━━━━━━━━━━━━━━━━━━━━\u001b[0m\u001b[37m\u001b[0m \u001b[1m47s\u001b[0m 3ms/step - accuracy: 0.9995 - loss: 0.0026 - precision: 0.9992 - recall: 0.9997 - val_accuracy: 0.9992 - val_loss: 0.0085 - val_precision: 0.7143 - val_recall: 0.8333\n",
      "Epoch 57/100\n",
      "\u001b[1m15993/15993\u001b[0m \u001b[32m━━━━━━━━━━━━━━━━━━━━\u001b[0m\u001b[37m\u001b[0m \u001b[1m47s\u001b[0m 3ms/step - accuracy: 0.9995 - loss: 0.0028 - precision: 0.9992 - recall: 0.9998 - val_accuracy: 0.9989 - val_loss: 0.0066 - val_precision: 0.6250 - val_recall: 0.8333\n",
      "Epoch 58/100\n",
      "\u001b[1m15993/15993\u001b[0m \u001b[32m━━━━━━━━━━━━━━━━━━━━\u001b[0m\u001b[37m\u001b[0m \u001b[1m46s\u001b[0m 3ms/step - accuracy: 0.9994 - loss: 0.0025 - precision: 0.9992 - recall: 0.9997 - val_accuracy: 0.9994 - val_loss: 0.0074 - val_precision: 0.8000 - val_recall: 0.8333\n",
      "Epoch 59/100\n",
      "\u001b[1m15993/15993\u001b[0m \u001b[32m━━━━━━━━━━━━━━━━━━━━\u001b[0m\u001b[37m\u001b[0m \u001b[1m83s\u001b[0m 3ms/step - accuracy: 0.9995 - loss: 0.0022 - precision: 0.9993 - recall: 0.9998 - val_accuracy: 0.9990 - val_loss: 0.0068 - val_precision: 0.6667 - val_recall: 0.8333\n",
      "Epoch 60/100\n",
      "\u001b[1m15993/15993\u001b[0m \u001b[32m━━━━━━━━━━━━━━━━━━━━\u001b[0m\u001b[37m\u001b[0m \u001b[1m47s\u001b[0m 3ms/step - accuracy: 0.9995 - loss: 0.0023 - precision: 0.9993 - recall: 0.9998 - val_accuracy: 0.9994 - val_loss: 0.0056 - val_precision: 0.8000 - val_recall: 0.8333\n",
      "Epoch 61/100\n",
      "\u001b[1m15993/15993\u001b[0m \u001b[32m━━━━━━━━━━━━━━━━━━━━\u001b[0m\u001b[37m\u001b[0m \u001b[1m49s\u001b[0m 3ms/step - accuracy: 0.9995 - loss: 0.0024 - precision: 0.9993 - recall: 0.9997 - val_accuracy: 0.9992 - val_loss: 0.0051 - val_precision: 0.7600 - val_recall: 0.7917\n",
      "Epoch 62/100\n",
      "\u001b[1m15993/15993\u001b[0m \u001b[32m━━━━━━━━━━━━━━━━━━━━\u001b[0m\u001b[37m\u001b[0m \u001b[1m51s\u001b[0m 3ms/step - accuracy: 0.9995 - loss: 0.0023 - precision: 0.9993 - recall: 0.9998 - val_accuracy: 0.9992 - val_loss: 0.0072 - val_precision: 0.7143 - val_recall: 0.8333\n",
      "Epoch 63/100\n",
      "\u001b[1m15993/15993\u001b[0m \u001b[32m━━━━━━━━━━━━━━━━━━━━\u001b[0m\u001b[37m\u001b[0m \u001b[1m49s\u001b[0m 3ms/step - accuracy: 0.9995 - loss: 0.0024 - precision: 0.9993 - recall: 0.9997 - val_accuracy: 0.9990 - val_loss: 0.0056 - val_precision: 0.6667 - val_recall: 0.8333\n",
      "Epoch 64/100\n",
      "\u001b[1m15993/15993\u001b[0m \u001b[32m━━━━━━━━━━━━━━━━━━━━\u001b[0m\u001b[37m\u001b[0m \u001b[1m47s\u001b[0m 3ms/step - accuracy: 0.9994 - loss: 0.0026 - precision: 0.9992 - recall: 0.9997 - val_accuracy: 0.9992 - val_loss: 0.0078 - val_precision: 0.7143 - val_recall: 0.8333\n",
      "Epoch 65/100\n",
      "\u001b[1m15993/15993\u001b[0m \u001b[32m━━━━━━━━━━━━━━━━━━━━\u001b[0m\u001b[37m\u001b[0m \u001b[1m81s\u001b[0m 3ms/step - accuracy: 0.9995 - loss: 0.0023 - precision: 0.9993 - recall: 0.9998 - val_accuracy: 0.9990 - val_loss: 0.0066 - val_precision: 0.6786 - val_recall: 0.7917\n",
      "Epoch 66/100\n",
      "\u001b[1m15993/15993\u001b[0m \u001b[32m━━━━━━━━━━━━━━━━━━━━\u001b[0m\u001b[37m\u001b[0m \u001b[1m47s\u001b[0m 3ms/step - accuracy: 0.9996 - loss: 0.0024 - precision: 0.9994 - recall: 0.9998 - val_accuracy: 0.9992 - val_loss: 0.0057 - val_precision: 0.7407 - val_recall: 0.8333\n",
      "Epoch 67/100\n",
      "\u001b[1m15993/15993\u001b[0m \u001b[32m━━━━━━━━━━━━━━━━━━━━\u001b[0m\u001b[37m\u001b[0m \u001b[1m46s\u001b[0m 3ms/step - accuracy: 0.9995 - loss: 0.0021 - precision: 0.9993 - recall: 0.9998 - val_accuracy: 0.9992 - val_loss: 0.0081 - val_precision: 0.7407 - val_recall: 0.8333\n",
      "Epoch 68/100\n",
      "\u001b[1m15993/15993\u001b[0m \u001b[32m━━━━━━━━━━━━━━━━━━━━\u001b[0m\u001b[37m\u001b[0m \u001b[1m47s\u001b[0m 3ms/step - accuracy: 0.9995 - loss: 0.0024 - precision: 0.9993 - recall: 0.9998 - val_accuracy: 0.9992 - val_loss: 0.0084 - val_precision: 0.7143 - val_recall: 0.8333\n",
      "Epoch 69/100\n",
      "\u001b[1m15993/15993\u001b[0m \u001b[32m━━━━━━━━━━━━━━━━━━━━\u001b[0m\u001b[37m\u001b[0m \u001b[1m48s\u001b[0m 3ms/step - accuracy: 0.9994 - loss: 0.0024 - precision: 0.9991 - recall: 0.9997 - val_accuracy: 0.9992 - val_loss: 0.0071 - val_precision: 0.7407 - val_recall: 0.8333\n",
      "Epoch 70/100\n",
      "\u001b[1m15993/15993\u001b[0m \u001b[32m━━━━━━━━━━━━━━━━━━━━\u001b[0m\u001b[37m\u001b[0m \u001b[1m47s\u001b[0m 3ms/step - accuracy: 0.9996 - loss: 0.0022 - precision: 0.9993 - recall: 0.9998 - val_accuracy: 0.9991 - val_loss: 0.0076 - val_precision: 0.6897 - val_recall: 0.8333\n",
      "Epoch 71/100\n",
      "\u001b[1m15993/15993\u001b[0m \u001b[32m━━━━━━━━━━━━━━━━━━━━\u001b[0m\u001b[37m\u001b[0m \u001b[1m47s\u001b[0m 3ms/step - accuracy: 0.9995 - loss: 0.0023 - precision: 0.9993 - recall: 0.9997 - val_accuracy: 0.9989 - val_loss: 0.0090 - val_precision: 0.6452 - val_recall: 0.8333\n",
      "Epoch 72/100\n",
      "\u001b[1m15993/15993\u001b[0m \u001b[32m━━━━━━━━━━━━━━━━━━━━\u001b[0m\u001b[37m\u001b[0m \u001b[1m82s\u001b[0m 3ms/step - accuracy: 0.9996 - loss: 0.0024 - precision: 0.9993 - recall: 0.9998 - val_accuracy: 0.9991 - val_loss: 0.0084 - val_precision: 0.6897 - val_recall: 0.8333\n",
      "Epoch 73/100\n",
      "\u001b[1m15993/15993\u001b[0m \u001b[32m━━━━━━━━━━━━━━━━━━━━\u001b[0m\u001b[37m\u001b[0m \u001b[1m47s\u001b[0m 3ms/step - accuracy: 0.9996 - loss: 0.0021 - precision: 0.9994 - recall: 0.9998 - val_accuracy: 0.9992 - val_loss: 0.0095 - val_precision: 0.7143 - val_recall: 0.8333\n",
      "Epoch 74/100\n",
      "\u001b[1m15993/15993\u001b[0m \u001b[32m━━━━━━━━━━━━━━━━━━━━\u001b[0m\u001b[37m\u001b[0m \u001b[1m48s\u001b[0m 3ms/step - accuracy: 0.9996 - loss: 0.0021 - precision: 0.9993 - recall: 0.9998 - val_accuracy: 0.9991 - val_loss: 0.0110 - val_precision: 0.6897 - val_recall: 0.8333\n",
      "Epoch 75/100\n",
      "\u001b[1m15993/15993\u001b[0m \u001b[32m━━━━━━━━━━━━━━━━━━━━\u001b[0m\u001b[37m\u001b[0m \u001b[1m47s\u001b[0m 3ms/step - accuracy: 0.9995 - loss: 0.0022 - precision: 0.9993 - recall: 0.9998 - val_accuracy: 0.9994 - val_loss: 0.0079 - val_precision: 0.8333 - val_recall: 0.8333\n",
      "Epoch 76/100\n",
      "\u001b[1m15993/15993\u001b[0m \u001b[32m━━━━━━━━━━━━━━━━━━━━\u001b[0m\u001b[37m\u001b[0m \u001b[1m48s\u001b[0m 3ms/step - accuracy: 0.9996 - loss: 0.0020 - precision: 0.9994 - recall: 0.9997 - val_accuracy: 0.9994 - val_loss: 0.0072 - val_precision: 0.8000 - val_recall: 0.8333\n",
      "Epoch 77/100\n",
      "\u001b[1m15993/15993\u001b[0m \u001b[32m━━━━━━━━━━━━━━━━━━━━\u001b[0m\u001b[37m\u001b[0m \u001b[1m47s\u001b[0m 3ms/step - accuracy: 0.9995 - loss: 0.0022 - precision: 0.9993 - recall: 0.9997 - val_accuracy: 0.9994 - val_loss: 0.0095 - val_precision: 0.8000 - val_recall: 0.8333\n",
      "Epoch 78/100\n",
      "\u001b[1m15993/15993\u001b[0m \u001b[32m━━━━━━━━━━━━━━━━━━━━\u001b[0m\u001b[37m\u001b[0m \u001b[1m48s\u001b[0m 3ms/step - accuracy: 0.9996 - loss: 0.0020 - precision: 0.9994 - recall: 0.9998 - val_accuracy: 0.9990 - val_loss: 0.0120 - val_precision: 0.6667 - val_recall: 0.8333\n",
      "Epoch 79/100\n",
      "\u001b[1m15993/15993\u001b[0m \u001b[32m━━━━━━━━━━━━━━━━━━━━\u001b[0m\u001b[37m\u001b[0m \u001b[1m50s\u001b[0m 3ms/step - accuracy: 0.9996 - loss: 0.0020 - precision: 0.9993 - recall: 0.9998 - val_accuracy: 0.9994 - val_loss: 0.0106 - val_precision: 0.8000 - val_recall: 0.8333\n",
      "Epoch 80/100\n",
      "\u001b[1m15993/15993\u001b[0m \u001b[32m━━━━━━━━━━━━━━━━━━━━\u001b[0m\u001b[37m\u001b[0m \u001b[1m44s\u001b[0m 3ms/step - accuracy: 0.9996 - loss: 0.0021 - precision: 0.9993 - recall: 0.9998 - val_accuracy: 0.9990 - val_loss: 0.0076 - val_precision: 0.6667 - val_recall: 0.8333\n",
      "Epoch 81/100\n",
      "\u001b[1m15993/15993\u001b[0m \u001b[32m━━━━━━━━━━━━━━━━━━━━\u001b[0m\u001b[37m\u001b[0m \u001b[1m42s\u001b[0m 3ms/step - accuracy: 0.9996 - loss: 0.0020 - precision: 0.9994 - recall: 0.9998 - val_accuracy: 0.9994 - val_loss: 0.0085 - val_precision: 0.8000 - val_recall: 0.8333\n",
      "Epoch 82/100\n",
      "\u001b[1m15993/15993\u001b[0m \u001b[32m━━━━━━━━━━━━━━━━━━━━\u001b[0m\u001b[37m\u001b[0m \u001b[1m42s\u001b[0m 3ms/step - accuracy: 0.9996 - loss: 0.0022 - precision: 0.9994 - recall: 0.9998 - val_accuracy: 0.9992 - val_loss: 0.0090 - val_precision: 0.7407 - val_recall: 0.8333\n",
      "Epoch 83/100\n",
      "\u001b[1m15993/15993\u001b[0m \u001b[32m━━━━━━━━━━━━━━━━━━━━\u001b[0m\u001b[37m\u001b[0m \u001b[1m43s\u001b[0m 3ms/step - accuracy: 0.9996 - loss: 0.0023 - precision: 0.9993 - recall: 0.9998 - val_accuracy: 0.9989 - val_loss: 0.0065 - val_precision: 0.6452 - val_recall: 0.8333\n",
      "Epoch 84/100\n",
      "\u001b[1m15993/15993\u001b[0m \u001b[32m━━━━━━━━━━━━━━━━━━━━\u001b[0m\u001b[37m\u001b[0m \u001b[1m42s\u001b[0m 3ms/step - accuracy: 0.9996 - loss: 0.0022 - precision: 0.9993 - recall: 0.9998 - val_accuracy: 0.9992 - val_loss: 0.0086 - val_precision: 0.7143 - val_recall: 0.8333\n",
      "Epoch 85/100\n",
      "\u001b[1m15993/15993\u001b[0m \u001b[32m━━━━━━━━━━━━━━━━━━━━\u001b[0m\u001b[37m\u001b[0m \u001b[1m43s\u001b[0m 3ms/step - accuracy: 0.9996 - loss: 0.0019 - precision: 0.9994 - recall: 0.9998 - val_accuracy: 0.9992 - val_loss: 0.0098 - val_precision: 0.7407 - val_recall: 0.8333\n",
      "Epoch 86/100\n",
      "\u001b[1m15993/15993\u001b[0m \u001b[32m━━━━━━━━━━━━━━━━━━━━\u001b[0m\u001b[37m\u001b[0m \u001b[1m80s\u001b[0m 3ms/step - accuracy: 0.9996 - loss: 0.0020 - precision: 0.9994 - recall: 0.9998 - val_accuracy: 0.9994 - val_loss: 0.0091 - val_precision: 0.8333 - val_recall: 0.8333\n",
      "Epoch 87/100\n",
      "\u001b[1m15993/15993\u001b[0m \u001b[32m━━━━━━━━━━━━━━━━━━━━\u001b[0m\u001b[37m\u001b[0m \u001b[1m43s\u001b[0m 3ms/step - accuracy: 0.9996 - loss: 0.0023 - precision: 0.9994 - recall: 0.9998 - val_accuracy: 0.9992 - val_loss: 0.0058 - val_precision: 0.7407 - val_recall: 0.8333\n",
      "Epoch 88/100\n",
      "\u001b[1m15993/15993\u001b[0m \u001b[32m━━━━━━━━━━━━━━━━━━━━\u001b[0m\u001b[37m\u001b[0m \u001b[1m42s\u001b[0m 3ms/step - accuracy: 0.9996 - loss: 0.0021 - precision: 0.9994 - recall: 0.9998 - val_accuracy: 0.9994 - val_loss: 0.0064 - val_precision: 0.8000 - val_recall: 0.8333\n",
      "Epoch 89/100\n",
      "\u001b[1m15993/15993\u001b[0m \u001b[32m━━━━━━━━━━━━━━━━━━━━\u001b[0m\u001b[37m\u001b[0m \u001b[1m42s\u001b[0m 3ms/step - accuracy: 0.9996 - loss: 0.0020 - precision: 0.9994 - recall: 0.9998 - val_accuracy: 0.9994 - val_loss: 0.0070 - val_precision: 0.8000 - val_recall: 0.8333\n",
      "Epoch 90/100\n",
      "\u001b[1m15993/15993\u001b[0m \u001b[32m━━━━━━━━━━━━━━━━━━━━\u001b[0m\u001b[37m\u001b[0m \u001b[1m43s\u001b[0m 3ms/step - accuracy: 0.9996 - loss: 0.0019 - precision: 0.9994 - recall: 0.9998 - val_accuracy: 0.9993 - val_loss: 0.0078 - val_precision: 0.7692 - val_recall: 0.8333\n",
      "Epoch 91/100\n",
      "\u001b[1m15993/15993\u001b[0m \u001b[32m━━━━━━━━━━━━━━━━━━━━\u001b[0m\u001b[37m\u001b[0m \u001b[1m42s\u001b[0m 3ms/step - accuracy: 0.9996 - loss: 0.0021 - precision: 0.9993 - recall: 0.9998 - val_accuracy: 0.9991 - val_loss: 0.0068 - val_precision: 0.6897 - val_recall: 0.8333\n",
      "Epoch 92/100\n",
      "\u001b[1m15993/15993\u001b[0m \u001b[32m━━━━━━━━━━━━━━━━━━━━\u001b[0m\u001b[37m\u001b[0m \u001b[1m42s\u001b[0m 3ms/step - accuracy: 0.9996 - loss: 0.0020 - precision: 0.9994 - recall: 0.9998 - val_accuracy: 0.9994 - val_loss: 0.0100 - val_precision: 0.8000 - val_recall: 0.8333\n",
      "Epoch 93/100\n",
      "\u001b[1m15993/15993\u001b[0m \u001b[32m━━━━━━━━━━━━━━━━━━━━\u001b[0m\u001b[37m\u001b[0m \u001b[1m43s\u001b[0m 3ms/step - accuracy: 0.9996 - loss: 0.0019 - precision: 0.9993 - recall: 0.9998 - val_accuracy: 0.9991 - val_loss: 0.0100 - val_precision: 0.6897 - val_recall: 0.8333\n",
      "Epoch 94/100\n",
      "\u001b[1m15993/15993\u001b[0m \u001b[32m━━━━━━━━━━━━━━━━━━━━\u001b[0m\u001b[37m\u001b[0m \u001b[1m42s\u001b[0m 3ms/step - accuracy: 0.9996 - loss: 0.0019 - precision: 0.9994 - recall: 0.9998 - val_accuracy: 0.9990 - val_loss: 0.0069 - val_precision: 0.6667 - val_recall: 0.8333\n",
      "Epoch 95/100\n",
      "\u001b[1m15993/15993\u001b[0m \u001b[32m━━━━━━━━━━━━━━━━━━━━\u001b[0m\u001b[37m\u001b[0m \u001b[1m42s\u001b[0m 3ms/step - accuracy: 0.9995 - loss: 0.0021 - precision: 0.9993 - recall: 0.9998 - val_accuracy: 0.9993 - val_loss: 0.0085 - val_precision: 0.7692 - val_recall: 0.8333\n",
      "Epoch 96/100\n",
      "\u001b[1m15993/15993\u001b[0m \u001b[32m━━━━━━━━━━━━━━━━━━━━\u001b[0m\u001b[37m\u001b[0m \u001b[1m43s\u001b[0m 3ms/step - accuracy: 0.9996 - loss: 0.0019 - precision: 0.9994 - recall: 0.9998 - val_accuracy: 0.9992 - val_loss: 0.0082 - val_precision: 0.7407 - val_recall: 0.8333\n",
      "Epoch 97/100\n",
      "\u001b[1m15993/15993\u001b[0m \u001b[32m━━━━━━━━━━━━━━━━━━━━\u001b[0m\u001b[37m\u001b[0m \u001b[1m82s\u001b[0m 3ms/step - accuracy: 0.9996 - loss: 0.0021 - precision: 0.9994 - recall: 0.9998 - val_accuracy: 0.9992 - val_loss: 0.0092 - val_precision: 0.7143 - val_recall: 0.8333\n",
      "Epoch 98/100\n",
      "\u001b[1m15993/15993\u001b[0m \u001b[32m━━━━━━━━━━━━━━━━━━━━\u001b[0m\u001b[37m\u001b[0m \u001b[1m47s\u001b[0m 3ms/step - accuracy: 0.9996 - loss: 0.0020 - precision: 0.9995 - recall: 0.9998 - val_accuracy: 0.9992 - val_loss: 0.0091 - val_precision: 0.7407 - val_recall: 0.8333\n",
      "Epoch 99/100\n",
      "\u001b[1m15993/15993\u001b[0m \u001b[32m━━━━━━━━━━━━━━━━━━━━\u001b[0m\u001b[37m\u001b[0m \u001b[1m45s\u001b[0m 3ms/step - accuracy: 0.9996 - loss: 0.0019 - precision: 0.9994 - recall: 0.9998 - val_accuracy: 0.9994 - val_loss: 0.0118 - val_precision: 0.8000 - val_recall: 0.8333\n",
      "Epoch 100/100\n",
      "\u001b[1m15993/15993\u001b[0m \u001b[32m━━━━━━━━━━━━━━━━━━━━\u001b[0m\u001b[37m\u001b[0m \u001b[1m42s\u001b[0m 3ms/step - accuracy: 0.9996 - loss: 0.0023 - precision: 0.9993 - recall: 0.9998 - val_accuracy: 0.9992 - val_loss: 0.0103 - val_precision: 0.7143 - val_recall: 0.8333\n"
     ]
    },
    {
     "data": {
      "text/plain": [
       "<keras.src.callbacks.history.History at 0x206031a6390>"
      ]
     },
     "execution_count": 15,
     "metadata": {},
     "output_type": "execute_result"
    }
   ],
   "source": [
    "tf.random.set_seed(42)\n",
    "np.random.seed(42)\n",
    "\n",
    "model2 = Sequential([\n",
    "\n",
    "    InputLayer(X_train.shape[1:]),\n",
    "    \n",
    "    Dense(256, activation=\"relu\"),\n",
    "    BatchNormalization(),\n",
    "    Dropout(0.35),\n",
    "\n",
    "    Dense(256, activation=\"relu\"),\n",
    "    BatchNormalization(),\n",
    "    Dropout(0.35),\n",
    "\n",
    "    Dense(256, activation=\"relu\"),\n",
    "    BatchNormalization(),\n",
    "    Dropout(0.35),\n",
    "\n",
    "    Dense(256, activation=\"relu\"),\n",
    "    BatchNormalization(),\n",
    "    Dropout(0.35),\n",
    "\n",
    "    Dense(32, activation=\"relu\"),\n",
    "    Dense(1, activation=\"sigmoid\")\n",
    "])\n",
    "\n",
    "model2.compile(loss=BinaryCrossentropy(), optimizer=Nadam(learning_rate=0.001), metrics=[\"accuracy\", \"precision\", \"recall\"])\n",
    "model2.fit(X_train, y_train, validation_data=(X_val, y_val), epochs=100)"
   ]
  },
  {
   "cell_type": "markdown",
   "metadata": {},
   "source": [
    "The final validation metrics for `model2` were: \n",
    "* Accuracy: 0.99\n",
    "* Precision: 0.71 \n",
    "* Recall: 0.83  \n",
    "\n",
    "Below, `model2` is scored on the testing set: "
   ]
  },
  {
   "cell_type": "code",
   "execution_count": 16,
   "metadata": {},
   "outputs": [
    {
     "name": "stdout",
     "output_type": "stream",
     "text": [
      "\u001b[1m446/446\u001b[0m \u001b[32m━━━━━━━━━━━━━━━━━━━━\u001b[0m\u001b[37m\u001b[0m \u001b[1m1s\u001b[0m 1ms/step - accuracy: 0.9993 - loss: 0.0116 - precision: 0.7670 - recall: 0.8533     \n"
     ]
    },
    {
     "data": {
      "text/plain": [
       "[0.016008902341127396,\n",
       " 0.9992977976799011,\n",
       " 0.7419354915618896,\n",
       " 0.9200000166893005]"
      ]
     },
     "execution_count": 16,
     "metadata": {},
     "output_type": "execute_result"
    }
   ],
   "source": [
    "model2.evaluate(X_test, y_test)"
   ]
  },
  {
   "cell_type": "markdown",
   "metadata": {},
   "source": [
    "Once again, the accuracy was nearly perfect, with precision dropping and recall remaining the same. Its still not a bad model, but not quite as good as `model1`. "
   ]
  },
  {
   "cell_type": "markdown",
   "metadata": {},
   "source": [
    "#### Model 3\n",
    "\n",
    "The third and final model once again contains four 256-unit dense layers which are fed to a dense 32-unit layer and onto the output. However, this time the dropout layers are reduced slightly to 0.3. The SGD optimizer is used in place of Nadam, but the learning rate of 0.001 is maintained."
   ]
  },
  {
   "cell_type": "code",
   "execution_count": 17,
   "metadata": {},
   "outputs": [
    {
     "name": "stdout",
     "output_type": "stream",
     "text": [
      "Epoch 1/100\n",
      "\u001b[1m15993/15993\u001b[0m \u001b[32m━━━━━━━━━━━━━━━━━━━━\u001b[0m\u001b[37m\u001b[0m \u001b[1m42s\u001b[0m 3ms/step - accuracy: 0.8933 - loss: 0.2603 - precision: 0.9301 - recall: 0.8480 - val_accuracy: 0.9837 - val_loss: 0.0591 - val_precision: 0.0873 - val_recall: 0.9167\n",
      "Epoch 2/100\n",
      "\u001b[1m15993/15993\u001b[0m \u001b[32m━━━━━━━━━━━━━━━━━━━━\u001b[0m\u001b[37m\u001b[0m \u001b[1m32s\u001b[0m 2ms/step - accuracy: 0.9523 - loss: 0.1200 - precision: 0.9601 - recall: 0.9438 - val_accuracy: 0.9821 - val_loss: 0.0493 - val_precision: 0.0800 - val_recall: 0.9167\n",
      "Epoch 3/100\n",
      "\u001b[1m15993/15993\u001b[0m \u001b[32m━━━━━━━━━━━━━━━━━━━━\u001b[0m\u001b[37m\u001b[0m \u001b[1m31s\u001b[0m 2ms/step - accuracy: 0.9631 - loss: 0.0924 - precision: 0.9662 - recall: 0.9600 - val_accuracy: 0.9840 - val_loss: 0.0398 - val_precision: 0.0887 - val_recall: 0.9167\n",
      "Epoch 4/100\n",
      "\u001b[1m15993/15993\u001b[0m \u001b[32m━━━━━━━━━━━━━━━━━━━━\u001b[0m\u001b[37m\u001b[0m \u001b[1m32s\u001b[0m 2ms/step - accuracy: 0.9703 - loss: 0.0761 - precision: 0.9708 - recall: 0.9699 - val_accuracy: 0.9851 - val_loss: 0.0340 - val_precision: 0.0913 - val_recall: 0.8750\n",
      "Epoch 5/100\n",
      "\u001b[1m15993/15993\u001b[0m \u001b[32m━━━━━━━━━━━━━━━━━━━━\u001b[0m\u001b[37m\u001b[0m \u001b[1m32s\u001b[0m 2ms/step - accuracy: 0.9747 - loss: 0.0649 - precision: 0.9733 - recall: 0.9762 - val_accuracy: 0.9889 - val_loss: 0.0280 - val_precision: 0.1193 - val_recall: 0.8750\n",
      "Epoch 6/100\n",
      "\u001b[1m15993/15993\u001b[0m \u001b[32m━━━━━━━━━━━━━━━━━━━━\u001b[0m\u001b[37m\u001b[0m \u001b[1m31s\u001b[0m 2ms/step - accuracy: 0.9788 - loss: 0.0555 - precision: 0.9769 - recall: 0.9808 - val_accuracy: 0.9902 - val_loss: 0.0247 - val_precision: 0.1338 - val_recall: 0.8750\n",
      "Epoch 7/100\n",
      "\u001b[1m15993/15993\u001b[0m \u001b[32m━━━━━━━━━━━━━━━━━━━━\u001b[0m\u001b[37m\u001b[0m \u001b[1m30s\u001b[0m 2ms/step - accuracy: 0.9816 - loss: 0.0491 - precision: 0.9793 - recall: 0.9840 - val_accuracy: 0.9923 - val_loss: 0.0215 - val_precision: 0.1654 - val_recall: 0.8750\n",
      "Epoch 8/100\n",
      "\u001b[1m15993/15993\u001b[0m \u001b[32m━━━━━━━━━━━━━━━━━━━━\u001b[0m\u001b[37m\u001b[0m \u001b[1m45s\u001b[0m 2ms/step - accuracy: 0.9840 - loss: 0.0438 - precision: 0.9812 - recall: 0.9868 - val_accuracy: 0.9933 - val_loss: 0.0195 - val_precision: 0.1858 - val_recall: 0.8750\n",
      "Epoch 9/100\n",
      "\u001b[1m15993/15993\u001b[0m \u001b[32m━━━━━━━━━━━━━━━━━━━━\u001b[0m\u001b[37m\u001b[0m \u001b[1m31s\u001b[0m 2ms/step - accuracy: 0.9858 - loss: 0.0387 - precision: 0.9830 - recall: 0.9887 - val_accuracy: 0.9937 - val_loss: 0.0175 - val_precision: 0.1963 - val_recall: 0.8750\n",
      "Epoch 10/100\n",
      "\u001b[1m15993/15993\u001b[0m \u001b[32m━━━━━━━━━━━━━━━━━━━━\u001b[0m\u001b[37m\u001b[0m \u001b[1m31s\u001b[0m 2ms/step - accuracy: 0.9876 - loss: 0.0352 - precision: 0.9848 - recall: 0.9905 - val_accuracy: 0.9953 - val_loss: 0.0146 - val_precision: 0.2471 - val_recall: 0.8750\n",
      "Epoch 11/100\n",
      "\u001b[1m15993/15993\u001b[0m \u001b[32m━━━━━━━━━━━━━━━━━━━━\u001b[0m\u001b[37m\u001b[0m \u001b[1m31s\u001b[0m 2ms/step - accuracy: 0.9892 - loss: 0.0316 - precision: 0.9870 - recall: 0.9916 - val_accuracy: 0.9959 - val_loss: 0.0133 - val_precision: 0.2763 - val_recall: 0.8750\n",
      "Epoch 12/100\n",
      "\u001b[1m15993/15993\u001b[0m \u001b[32m━━━━━━━━━━━━━━━━━━━━\u001b[0m\u001b[37m\u001b[0m \u001b[1m31s\u001b[0m 2ms/step - accuracy: 0.9902 - loss: 0.0289 - precision: 0.9879 - recall: 0.9926 - val_accuracy: 0.9963 - val_loss: 0.0116 - val_precision: 0.3000 - val_recall: 0.8750\n",
      "Epoch 13/100\n",
      "\u001b[1m15993/15993\u001b[0m \u001b[32m━━━━━━━━━━━━━━━━━━━━\u001b[0m\u001b[37m\u001b[0m \u001b[1m31s\u001b[0m 2ms/step - accuracy: 0.9911 - loss: 0.0265 - precision: 0.9891 - recall: 0.9931 - val_accuracy: 0.9965 - val_loss: 0.0114 - val_precision: 0.3088 - val_recall: 0.8750\n",
      "Epoch 14/100\n",
      "\u001b[1m15993/15993\u001b[0m \u001b[32m━━━━━━━━━━━━━━━━━━━━\u001b[0m\u001b[37m\u001b[0m \u001b[1m31s\u001b[0m 2ms/step - accuracy: 0.9915 - loss: 0.0249 - precision: 0.9895 - recall: 0.9937 - val_accuracy: 0.9965 - val_loss: 0.0115 - val_precision: 0.3088 - val_recall: 0.8750\n",
      "Epoch 15/100\n",
      "\u001b[1m15993/15993\u001b[0m \u001b[32m━━━━━━━━━━━━━━━━━━━━\u001b[0m\u001b[37m\u001b[0m \u001b[1m31s\u001b[0m 2ms/step - accuracy: 0.9923 - loss: 0.0236 - precision: 0.9901 - recall: 0.9945 - val_accuracy: 0.9971 - val_loss: 0.0109 - val_precision: 0.3559 - val_recall: 0.8750\n",
      "Epoch 16/100\n",
      "\u001b[1m15993/15993\u001b[0m \u001b[32m━━━━━━━━━━━━━━━━━━━━\u001b[0m\u001b[37m\u001b[0m \u001b[1m31s\u001b[0m 2ms/step - accuracy: 0.9924 - loss: 0.0230 - precision: 0.9904 - recall: 0.9943 - val_accuracy: 0.9971 - val_loss: 0.0106 - val_precision: 0.3500 - val_recall: 0.8750\n",
      "Epoch 17/100\n",
      "\u001b[1m15993/15993\u001b[0m \u001b[32m━━━━━━━━━━━━━━━━━━━━\u001b[0m\u001b[37m\u001b[0m \u001b[1m34s\u001b[0m 2ms/step - accuracy: 0.9931 - loss: 0.0211 - precision: 0.9911 - recall: 0.9951 - val_accuracy: 0.9972 - val_loss: 0.0100 - val_precision: 0.3621 - val_recall: 0.8750\n",
      "Epoch 18/100\n",
      "\u001b[1m15993/15993\u001b[0m \u001b[32m━━━━━━━━━━━━━━━━━━━━\u001b[0m\u001b[37m\u001b[0m \u001b[1m31s\u001b[0m 2ms/step - accuracy: 0.9936 - loss: 0.0202 - precision: 0.9919 - recall: 0.9952 - val_accuracy: 0.9976 - val_loss: 0.0098 - val_precision: 0.4038 - val_recall: 0.8750\n",
      "Epoch 19/100\n",
      "\u001b[1m15993/15993\u001b[0m \u001b[32m━━━━━━━━━━━━━━━━━━━━\u001b[0m\u001b[37m\u001b[0m \u001b[1m35s\u001b[0m 2ms/step - accuracy: 0.9939 - loss: 0.0193 - precision: 0.9922 - recall: 0.9956 - val_accuracy: 0.9976 - val_loss: 0.0093 - val_precision: 0.4038 - val_recall: 0.8750\n",
      "Epoch 20/100\n",
      "\u001b[1m15993/15993\u001b[0m \u001b[32m━━━━━━━━━━━━━━━━━━━━\u001b[0m\u001b[37m\u001b[0m \u001b[1m40s\u001b[0m 3ms/step - accuracy: 0.9941 - loss: 0.0182 - precision: 0.9924 - recall: 0.9959 - val_accuracy: 0.9976 - val_loss: 0.0094 - val_precision: 0.4038 - val_recall: 0.8750\n",
      "Epoch 21/100\n",
      "\u001b[1m15993/15993\u001b[0m \u001b[32m━━━━━━━━━━━━━━━━━━━━\u001b[0m\u001b[37m\u001b[0m \u001b[1m31s\u001b[0m 2ms/step - accuracy: 0.9945 - loss: 0.0175 - precision: 0.9929 - recall: 0.9961 - val_accuracy: 0.9976 - val_loss: 0.0093 - val_precision: 0.4038 - val_recall: 0.8750\n",
      "Epoch 22/100\n",
      "\u001b[1m15993/15993\u001b[0m \u001b[32m━━━━━━━━━━━━━━━━━━━━\u001b[0m\u001b[37m\u001b[0m \u001b[1m28s\u001b[0m 2ms/step - accuracy: 0.9949 - loss: 0.0165 - precision: 0.9935 - recall: 0.9964 - val_accuracy: 0.9977 - val_loss: 0.0094 - val_precision: 0.4118 - val_recall: 0.8750\n",
      "Epoch 23/100\n",
      "\u001b[1m15993/15993\u001b[0m \u001b[32m━━━━━━━━━━━━━━━━━━━━\u001b[0m\u001b[37m\u001b[0m \u001b[1m28s\u001b[0m 2ms/step - accuracy: 0.9949 - loss: 0.0158 - precision: 0.9934 - recall: 0.9964 - val_accuracy: 0.9977 - val_loss: 0.0089 - val_precision: 0.4118 - val_recall: 0.8750\n",
      "Epoch 24/100\n",
      "\u001b[1m15993/15993\u001b[0m \u001b[32m━━━━━━━━━━━━━━━━━━━━\u001b[0m\u001b[37m\u001b[0m \u001b[1m27s\u001b[0m 2ms/step - accuracy: 0.9952 - loss: 0.0154 - precision: 0.9938 - recall: 0.9966 - val_accuracy: 0.9978 - val_loss: 0.0089 - val_precision: 0.4286 - val_recall: 0.8750\n",
      "Epoch 25/100\n",
      "\u001b[1m15993/15993\u001b[0m \u001b[32m━━━━━━━━━━━━━━━━━━━━\u001b[0m\u001b[37m\u001b[0m \u001b[1m27s\u001b[0m 2ms/step - accuracy: 0.9954 - loss: 0.0148 - precision: 0.9941 - recall: 0.9968 - val_accuracy: 0.9979 - val_loss: 0.0089 - val_precision: 0.4375 - val_recall: 0.8750\n",
      "Epoch 26/100\n",
      "\u001b[1m15993/15993\u001b[0m \u001b[32m━━━━━━━━━━━━━━━━━━━━\u001b[0m\u001b[37m\u001b[0m \u001b[1m27s\u001b[0m 2ms/step - accuracy: 0.9956 - loss: 0.0147 - precision: 0.9943 - recall: 0.9969 - val_accuracy: 0.9979 - val_loss: 0.0087 - val_precision: 0.4375 - val_recall: 0.8750\n",
      "Epoch 27/100\n",
      "\u001b[1m15993/15993\u001b[0m \u001b[32m━━━━━━━━━━━━━━━━━━━━\u001b[0m\u001b[37m\u001b[0m \u001b[1m28s\u001b[0m 2ms/step - accuracy: 0.9957 - loss: 0.0138 - precision: 0.9944 - recall: 0.9971 - val_accuracy: 0.9978 - val_loss: 0.0093 - val_precision: 0.4200 - val_recall: 0.8750\n",
      "Epoch 28/100\n",
      "\u001b[1m15993/15993\u001b[0m \u001b[32m━━━━━━━━━━━━━━━━━━━━\u001b[0m\u001b[37m\u001b[0m \u001b[1m28s\u001b[0m 2ms/step - accuracy: 0.9959 - loss: 0.0135 - precision: 0.9945 - recall: 0.9973 - val_accuracy: 0.9981 - val_loss: 0.0084 - val_precision: 0.4651 - val_recall: 0.8333\n",
      "Epoch 29/100\n",
      "\u001b[1m15993/15993\u001b[0m \u001b[32m━━━━━━━━━━━━━━━━━━━━\u001b[0m\u001b[37m\u001b[0m \u001b[1m30s\u001b[0m 2ms/step - accuracy: 0.9962 - loss: 0.0129 - precision: 0.9950 - recall: 0.9974 - val_accuracy: 0.9980 - val_loss: 0.0084 - val_precision: 0.4468 - val_recall: 0.8750\n",
      "Epoch 30/100\n",
      "\u001b[1m15993/15993\u001b[0m \u001b[32m━━━━━━━━━━━━━━━━━━━━\u001b[0m\u001b[37m\u001b[0m \u001b[1m28s\u001b[0m 2ms/step - accuracy: 0.9963 - loss: 0.0124 - precision: 0.9951 - recall: 0.9975 - val_accuracy: 0.9981 - val_loss: 0.0081 - val_precision: 0.4651 - val_recall: 0.8333\n",
      "Epoch 31/100\n",
      "\u001b[1m15993/15993\u001b[0m \u001b[32m━━━━━━━━━━━━━━━━━━━━\u001b[0m\u001b[37m\u001b[0m \u001b[1m28s\u001b[0m 2ms/step - accuracy: 0.9963 - loss: 0.0126 - precision: 0.9950 - recall: 0.9975 - val_accuracy: 0.9982 - val_loss: 0.0079 - val_precision: 0.4878 - val_recall: 0.8333\n",
      "Epoch 32/100\n",
      "\u001b[1m15993/15993\u001b[0m \u001b[32m━━━━━━━━━━━━━━━━━━━━\u001b[0m\u001b[37m\u001b[0m \u001b[1m27s\u001b[0m 2ms/step - accuracy: 0.9964 - loss: 0.0122 - precision: 0.9954 - recall: 0.9975 - val_accuracy: 0.9985 - val_loss: 0.0080 - val_precision: 0.5263 - val_recall: 0.8333\n",
      "Epoch 33/100\n",
      "\u001b[1m15993/15993\u001b[0m \u001b[32m━━━━━━━━━━━━━━━━━━━━\u001b[0m\u001b[37m\u001b[0m \u001b[1m28s\u001b[0m 2ms/step - accuracy: 0.9965 - loss: 0.0117 - precision: 0.9956 - recall: 0.9975 - val_accuracy: 0.9982 - val_loss: 0.0080 - val_precision: 0.4878 - val_recall: 0.8333\n",
      "Epoch 34/100\n",
      "\u001b[1m15993/15993\u001b[0m \u001b[32m━━━━━━━━━━━━━━━━━━━━\u001b[0m\u001b[37m\u001b[0m \u001b[1m27s\u001b[0m 2ms/step - accuracy: 0.9966 - loss: 0.0117 - precision: 0.9956 - recall: 0.9976 - val_accuracy: 0.9983 - val_loss: 0.0079 - val_precision: 0.5000 - val_recall: 0.8750\n",
      "Epoch 35/100\n",
      "\u001b[1m15993/15993\u001b[0m \u001b[32m━━━━━━━━━━━━━━━━━━━━\u001b[0m\u001b[37m\u001b[0m \u001b[1m27s\u001b[0m 2ms/step - accuracy: 0.9968 - loss: 0.0108 - precision: 0.9959 - recall: 0.9978 - val_accuracy: 0.9985 - val_loss: 0.0075 - val_precision: 0.5263 - val_recall: 0.8333\n",
      "Epoch 36/100\n",
      "\u001b[1m15993/15993\u001b[0m \u001b[32m━━━━━━━━━━━━━━━━━━━━\u001b[0m\u001b[37m\u001b[0m \u001b[1m27s\u001b[0m 2ms/step - accuracy: 0.9969 - loss: 0.0109 - precision: 0.9959 - recall: 0.9979 - val_accuracy: 0.9985 - val_loss: 0.0077 - val_precision: 0.5405 - val_recall: 0.8333\n",
      "Epoch 37/100\n",
      "\u001b[1m15993/15993\u001b[0m \u001b[32m━━━━━━━━━━━━━━━━━━━━\u001b[0m\u001b[37m\u001b[0m \u001b[1m27s\u001b[0m 2ms/step - accuracy: 0.9970 - loss: 0.0107 - precision: 0.9961 - recall: 0.9979 - val_accuracy: 0.9985 - val_loss: 0.0076 - val_precision: 0.5405 - val_recall: 0.8333\n",
      "Epoch 38/100\n",
      "\u001b[1m15993/15993\u001b[0m \u001b[32m━━━━━━━━━━━━━━━━━━━━\u001b[0m\u001b[37m\u001b[0m \u001b[1m28s\u001b[0m 2ms/step - accuracy: 0.9969 - loss: 0.0106 - precision: 0.9959 - recall: 0.9980 - val_accuracy: 0.9986 - val_loss: 0.0072 - val_precision: 0.5556 - val_recall: 0.8333\n",
      "Epoch 39/100\n",
      "\u001b[1m15993/15993\u001b[0m \u001b[32m━━━━━━━━━━━━━━━━━━━━\u001b[0m\u001b[37m\u001b[0m \u001b[1m28s\u001b[0m 2ms/step - accuracy: 0.9971 - loss: 0.0100 - precision: 0.9963 - recall: 0.9980 - val_accuracy: 0.9987 - val_loss: 0.0074 - val_precision: 0.5714 - val_recall: 0.8333\n",
      "Epoch 40/100\n",
      "\u001b[1m15993/15993\u001b[0m \u001b[32m━━━━━━━━━━━━━━━━━━━━\u001b[0m\u001b[37m\u001b[0m \u001b[1m27s\u001b[0m 2ms/step - accuracy: 0.9971 - loss: 0.0101 - precision: 0.9962 - recall: 0.9981 - val_accuracy: 0.9986 - val_loss: 0.0072 - val_precision: 0.5588 - val_recall: 0.7917\n",
      "Epoch 41/100\n",
      "\u001b[1m15993/15993\u001b[0m \u001b[32m━━━━━━━━━━━━━━━━━━━━\u001b[0m\u001b[37m\u001b[0m \u001b[1m27s\u001b[0m 2ms/step - accuracy: 0.9972 - loss: 0.0095 - precision: 0.9963 - recall: 0.9982 - val_accuracy: 0.9987 - val_loss: 0.0074 - val_precision: 0.5882 - val_recall: 0.8333\n",
      "Epoch 42/100\n",
      "\u001b[1m15993/15993\u001b[0m \u001b[32m━━━━━━━━━━━━━━━━━━━━\u001b[0m\u001b[37m\u001b[0m \u001b[1m27s\u001b[0m 2ms/step - accuracy: 0.9973 - loss: 0.0094 - precision: 0.9964 - recall: 0.9982 - val_accuracy: 0.9987 - val_loss: 0.0072 - val_precision: 0.5882 - val_recall: 0.8333\n",
      "Epoch 43/100\n",
      "\u001b[1m15993/15993\u001b[0m \u001b[32m━━━━━━━━━━━━━━━━━━━━\u001b[0m\u001b[37m\u001b[0m \u001b[1m28s\u001b[0m 2ms/step - accuracy: 0.9974 - loss: 0.0094 - precision: 0.9965 - recall: 0.9982 - val_accuracy: 0.9988 - val_loss: 0.0070 - val_precision: 0.6061 - val_recall: 0.8333\n",
      "Epoch 44/100\n",
      "\u001b[1m15993/15993\u001b[0m \u001b[32m━━━━━━━━━━━━━━━━━━━━\u001b[0m\u001b[37m\u001b[0m \u001b[1m27s\u001b[0m 2ms/step - accuracy: 0.9975 - loss: 0.0091 - precision: 0.9967 - recall: 0.9983 - val_accuracy: 0.9988 - val_loss: 0.0072 - val_precision: 0.6061 - val_recall: 0.8333\n",
      "Epoch 45/100\n",
      "\u001b[1m15993/15993\u001b[0m \u001b[32m━━━━━━━━━━━━━━━━━━━━\u001b[0m\u001b[37m\u001b[0m \u001b[1m27s\u001b[0m 2ms/step - accuracy: 0.9974 - loss: 0.0088 - precision: 0.9966 - recall: 0.9983 - val_accuracy: 0.9986 - val_loss: 0.0075 - val_precision: 0.5556 - val_recall: 0.8333\n",
      "Epoch 46/100\n",
      "\u001b[1m15993/15993\u001b[0m \u001b[32m━━━━━━━━━━━━━━━━━━━━\u001b[0m\u001b[37m\u001b[0m \u001b[1m41s\u001b[0m 2ms/step - accuracy: 0.9975 - loss: 0.0088 - precision: 0.9967 - recall: 0.9983 - val_accuracy: 0.9988 - val_loss: 0.0071 - val_precision: 0.6129 - val_recall: 0.7917\n",
      "Epoch 47/100\n",
      "\u001b[1m15993/15993\u001b[0m \u001b[32m━━━━━━━━━━━━━━━━━━━━\u001b[0m\u001b[37m\u001b[0m \u001b[1m27s\u001b[0m 2ms/step - accuracy: 0.9975 - loss: 0.0090 - precision: 0.9966 - recall: 0.9984 - val_accuracy: 0.9987 - val_loss: 0.0071 - val_precision: 0.5882 - val_recall: 0.8333\n",
      "Epoch 48/100\n",
      "\u001b[1m15993/15993\u001b[0m \u001b[32m━━━━━━━━━━━━━━━━━━━━\u001b[0m\u001b[37m\u001b[0m \u001b[1m27s\u001b[0m 2ms/step - accuracy: 0.9975 - loss: 0.0090 - precision: 0.9968 - recall: 0.9983 - val_accuracy: 0.9988 - val_loss: 0.0072 - val_precision: 0.6061 - val_recall: 0.8333\n",
      "Epoch 49/100\n",
      "\u001b[1m15993/15993\u001b[0m \u001b[32m━━━━━━━━━━━━━━━━━━━━\u001b[0m\u001b[37m\u001b[0m \u001b[1m27s\u001b[0m 2ms/step - accuracy: 0.9976 - loss: 0.0084 - precision: 0.9969 - recall: 0.9984 - val_accuracy: 0.9988 - val_loss: 0.0071 - val_precision: 0.6129 - val_recall: 0.7917\n",
      "Epoch 50/100\n",
      "\u001b[1m15993/15993\u001b[0m \u001b[32m━━━━━━━━━━━━━━━━━━━━\u001b[0m\u001b[37m\u001b[0m \u001b[1m28s\u001b[0m 2ms/step - accuracy: 0.9977 - loss: 0.0081 - precision: 0.9970 - recall: 0.9985 - val_accuracy: 0.9988 - val_loss: 0.0071 - val_precision: 0.6129 - val_recall: 0.7917\n",
      "Epoch 51/100\n",
      "\u001b[1m15993/15993\u001b[0m \u001b[32m━━━━━━━━━━━━━━━━━━━━\u001b[0m\u001b[37m\u001b[0m \u001b[1m27s\u001b[0m 2ms/step - accuracy: 0.9976 - loss: 0.0084 - precision: 0.9969 - recall: 0.9983 - val_accuracy: 0.9988 - val_loss: 0.0071 - val_precision: 0.6129 - val_recall: 0.7917\n",
      "Epoch 52/100\n",
      "\u001b[1m15993/15993\u001b[0m \u001b[32m━━━━━━━━━━━━━━━━━━━━\u001b[0m\u001b[37m\u001b[0m \u001b[1m27s\u001b[0m 2ms/step - accuracy: 0.9979 - loss: 0.0079 - precision: 0.9972 - recall: 0.9986 - val_accuracy: 0.9988 - val_loss: 0.0071 - val_precision: 0.6061 - val_recall: 0.8333\n",
      "Epoch 53/100\n",
      "\u001b[1m15993/15993\u001b[0m \u001b[32m━━━━━━━━━━━━━━━━━━━━\u001b[0m\u001b[37m\u001b[0m \u001b[1m27s\u001b[0m 2ms/step - accuracy: 0.9979 - loss: 0.0077 - precision: 0.9973 - recall: 0.9985 - val_accuracy: 0.9989 - val_loss: 0.0069 - val_precision: 0.6250 - val_recall: 0.8333\n",
      "Epoch 54/100\n",
      "\u001b[1m15993/15993\u001b[0m \u001b[32m━━━━━━━━━━━━━━━━━━━━\u001b[0m\u001b[37m\u001b[0m \u001b[1m28s\u001b[0m 2ms/step - accuracy: 0.9979 - loss: 0.0079 - precision: 0.9972 - recall: 0.9986 - val_accuracy: 0.9987 - val_loss: 0.0072 - val_precision: 0.5882 - val_recall: 0.8333\n",
      "Epoch 55/100\n",
      "\u001b[1m15993/15993\u001b[0m \u001b[32m━━━━━━━━━━━━━━━━━━━━\u001b[0m\u001b[37m\u001b[0m \u001b[1m28s\u001b[0m 2ms/step - accuracy: 0.9979 - loss: 0.0078 - precision: 0.9972 - recall: 0.9986 - val_accuracy: 0.9988 - val_loss: 0.0071 - val_precision: 0.6061 - val_recall: 0.8333\n",
      "Epoch 56/100\n",
      "\u001b[1m15993/15993\u001b[0m \u001b[32m━━━━━━━━━━━━━━━━━━━━\u001b[0m\u001b[37m\u001b[0m \u001b[1m27s\u001b[0m 2ms/step - accuracy: 0.9979 - loss: 0.0077 - precision: 0.9973 - recall: 0.9986 - val_accuracy: 0.9989 - val_loss: 0.0071 - val_precision: 0.6452 - val_recall: 0.8333\n",
      "Epoch 57/100\n",
      "\u001b[1m15993/15993\u001b[0m \u001b[32m━━━━━━━━━━━━━━━━━━━━\u001b[0m\u001b[37m\u001b[0m \u001b[1m27s\u001b[0m 2ms/step - accuracy: 0.9980 - loss: 0.0075 - precision: 0.9973 - recall: 0.9987 - val_accuracy: 0.9988 - val_loss: 0.0070 - val_precision: 0.6129 - val_recall: 0.7917\n",
      "Epoch 58/100\n",
      "\u001b[1m15993/15993\u001b[0m \u001b[32m━━━━━━━━━━━━━━━━━━━━\u001b[0m\u001b[37m\u001b[0m \u001b[1m27s\u001b[0m 2ms/step - accuracy: 0.9980 - loss: 0.0074 - precision: 0.9973 - recall: 0.9988 - val_accuracy: 0.9989 - val_loss: 0.0070 - val_precision: 0.6250 - val_recall: 0.8333\n",
      "Epoch 59/100\n",
      "\u001b[1m15993/15993\u001b[0m \u001b[32m━━━━━━━━━━━━━━━━━━━━\u001b[0m\u001b[37m\u001b[0m \u001b[1m27s\u001b[0m 2ms/step - accuracy: 0.9981 - loss: 0.0070 - precision: 0.9974 - recall: 0.9988 - val_accuracy: 0.9989 - val_loss: 0.0067 - val_precision: 0.6552 - val_recall: 0.7917\n",
      "Epoch 60/100\n",
      "\u001b[1m15993/15993\u001b[0m \u001b[32m━━━━━━━━━━━━━━━━━━━━\u001b[0m\u001b[37m\u001b[0m \u001b[1m27s\u001b[0m 2ms/step - accuracy: 0.9980 - loss: 0.0073 - precision: 0.9974 - recall: 0.9987 - val_accuracy: 0.9990 - val_loss: 0.0068 - val_precision: 0.6786 - val_recall: 0.7917\n",
      "Epoch 61/100\n",
      "\u001b[1m15993/15993\u001b[0m \u001b[32m━━━━━━━━━━━━━━━━━━━━\u001b[0m\u001b[37m\u001b[0m \u001b[1m28s\u001b[0m 2ms/step - accuracy: 0.9981 - loss: 0.0071 - precision: 0.9974 - recall: 0.9988 - val_accuracy: 0.9988 - val_loss: 0.0071 - val_precision: 0.6129 - val_recall: 0.7917\n",
      "Epoch 62/100\n",
      "\u001b[1m15993/15993\u001b[0m \u001b[32m━━━━━━━━━━━━━━━━━━━━\u001b[0m\u001b[37m\u001b[0m \u001b[1m28s\u001b[0m 2ms/step - accuracy: 0.9979 - loss: 0.0075 - precision: 0.9973 - recall: 0.9986 - val_accuracy: 0.9990 - val_loss: 0.0068 - val_precision: 0.6786 - val_recall: 0.7917\n",
      "Epoch 63/100\n",
      "\u001b[1m15993/15993\u001b[0m \u001b[32m━━━━━━━━━━━━━━━━━━━━\u001b[0m\u001b[37m\u001b[0m \u001b[1m28s\u001b[0m 2ms/step - accuracy: 0.9982 - loss: 0.0066 - precision: 0.9976 - recall: 0.9989 - val_accuracy: 0.9990 - val_loss: 0.0067 - val_precision: 0.6786 - val_recall: 0.7917\n",
      "Epoch 64/100\n",
      "\u001b[1m15993/15993\u001b[0m \u001b[32m━━━━━━━━━━━━━━━━━━━━\u001b[0m\u001b[37m\u001b[0m \u001b[1m28s\u001b[0m 2ms/step - accuracy: 0.9982 - loss: 0.0068 - precision: 0.9975 - recall: 0.9988 - val_accuracy: 0.9990 - val_loss: 0.0067 - val_precision: 0.6786 - val_recall: 0.7917\n",
      "Epoch 65/100\n",
      "\u001b[1m15993/15993\u001b[0m \u001b[32m━━━━━━━━━━━━━━━━━━━━\u001b[0m\u001b[37m\u001b[0m \u001b[1m28s\u001b[0m 2ms/step - accuracy: 0.9983 - loss: 0.0064 - precision: 0.9978 - recall: 0.9989 - val_accuracy: 0.9989 - val_loss: 0.0065 - val_precision: 0.6552 - val_recall: 0.7917\n",
      "Epoch 66/100\n",
      "\u001b[1m15993/15993\u001b[0m \u001b[32m━━━━━━━━━━━━━━━━━━━━\u001b[0m\u001b[37m\u001b[0m \u001b[1m27s\u001b[0m 2ms/step - accuracy: 0.9982 - loss: 0.0067 - precision: 0.9976 - recall: 0.9989 - val_accuracy: 0.9989 - val_loss: 0.0067 - val_precision: 0.6333 - val_recall: 0.7917\n",
      "Epoch 67/100\n",
      "\u001b[1m15993/15993\u001b[0m \u001b[32m━━━━━━━━━━━━━━━━━━━━\u001b[0m\u001b[37m\u001b[0m \u001b[1m28s\u001b[0m 2ms/step - accuracy: 0.9984 - loss: 0.0062 - precision: 0.9978 - recall: 0.9990 - val_accuracy: 0.9989 - val_loss: 0.0068 - val_precision: 0.6552 - val_recall: 0.7917\n",
      "Epoch 68/100\n",
      "\u001b[1m15993/15993\u001b[0m \u001b[32m━━━━━━━━━━━━━━━━━━━━\u001b[0m\u001b[37m\u001b[0m \u001b[1m27s\u001b[0m 2ms/step - accuracy: 0.9983 - loss: 0.0064 - precision: 0.9977 - recall: 0.9988 - val_accuracy: 0.9989 - val_loss: 0.0068 - val_precision: 0.6552 - val_recall: 0.7917\n",
      "Epoch 69/100\n",
      "\u001b[1m15993/15993\u001b[0m \u001b[32m━━━━━━━━━━━━━━━━━━━━\u001b[0m\u001b[37m\u001b[0m \u001b[1m27s\u001b[0m 2ms/step - accuracy: 0.9983 - loss: 0.0067 - precision: 0.9977 - recall: 0.9990 - val_accuracy: 0.9990 - val_loss: 0.0065 - val_precision: 0.6786 - val_recall: 0.7917\n",
      "Epoch 70/100\n",
      "\u001b[1m15993/15993\u001b[0m \u001b[32m━━━━━━━━━━━━━━━━━━━━\u001b[0m\u001b[37m\u001b[0m \u001b[1m41s\u001b[0m 2ms/step - accuracy: 0.9983 - loss: 0.0065 - precision: 0.9978 - recall: 0.9988 - val_accuracy: 0.9989 - val_loss: 0.0067 - val_precision: 0.6552 - val_recall: 0.7917\n",
      "Epoch 71/100\n",
      "\u001b[1m15993/15993\u001b[0m \u001b[32m━━━━━━━━━━━━━━━━━━━━\u001b[0m\u001b[37m\u001b[0m \u001b[1m27s\u001b[0m 2ms/step - accuracy: 0.9984 - loss: 0.0062 - precision: 0.9978 - recall: 0.9990 - val_accuracy: 0.9990 - val_loss: 0.0066 - val_precision: 0.6786 - val_recall: 0.7917\n",
      "Epoch 72/100\n",
      "\u001b[1m15993/15993\u001b[0m \u001b[32m━━━━━━━━━━━━━━━━━━━━\u001b[0m\u001b[37m\u001b[0m \u001b[1m28s\u001b[0m 2ms/step - accuracy: 0.9983 - loss: 0.0062 - precision: 0.9977 - recall: 0.9989 - val_accuracy: 0.9990 - val_loss: 0.0065 - val_precision: 0.6786 - val_recall: 0.7917\n",
      "Epoch 73/100\n",
      "\u001b[1m15993/15993\u001b[0m \u001b[32m━━━━━━━━━━━━━━━━━━━━\u001b[0m\u001b[37m\u001b[0m \u001b[1m27s\u001b[0m 2ms/step - accuracy: 0.9985 - loss: 0.0058 - precision: 0.9979 - recall: 0.9991 - val_accuracy: 0.9991 - val_loss: 0.0066 - val_precision: 0.7037 - val_recall: 0.7917\n",
      "Epoch 74/100\n",
      "\u001b[1m15993/15993\u001b[0m \u001b[32m━━━━━━━━━━━━━━━━━━━━\u001b[0m\u001b[37m\u001b[0m \u001b[1m27s\u001b[0m 2ms/step - accuracy: 0.9985 - loss: 0.0060 - precision: 0.9979 - recall: 0.9990 - val_accuracy: 0.9989 - val_loss: 0.0067 - val_precision: 0.6552 - val_recall: 0.7917\n",
      "Epoch 75/100\n",
      "\u001b[1m15993/15993\u001b[0m \u001b[32m━━━━━━━━━━━━━━━━━━━━\u001b[0m\u001b[37m\u001b[0m \u001b[1m28s\u001b[0m 2ms/step - accuracy: 0.9985 - loss: 0.0058 - precision: 0.9979 - recall: 0.9990 - val_accuracy: 0.9991 - val_loss: 0.0066 - val_precision: 0.7037 - val_recall: 0.7917\n",
      "Epoch 76/100\n",
      "\u001b[1m15993/15993\u001b[0m \u001b[32m━━━━━━━━━━━━━━━━━━━━\u001b[0m\u001b[37m\u001b[0m \u001b[1m28s\u001b[0m 2ms/step - accuracy: 0.9985 - loss: 0.0058 - precision: 0.9979 - recall: 0.9991 - val_accuracy: 0.9991 - val_loss: 0.0065 - val_precision: 0.7037 - val_recall: 0.7917\n",
      "Epoch 77/100\n",
      "\u001b[1m15993/15993\u001b[0m \u001b[32m━━━━━━━━━━━━━━━━━━━━\u001b[0m\u001b[37m\u001b[0m \u001b[1m41s\u001b[0m 2ms/step - accuracy: 0.9985 - loss: 0.0060 - precision: 0.9979 - recall: 0.9990 - val_accuracy: 0.9990 - val_loss: 0.0065 - val_precision: 0.6786 - val_recall: 0.7917\n",
      "Epoch 78/100\n",
      "\u001b[1m15993/15993\u001b[0m \u001b[32m━━━━━━━━━━━━━━━━━━━━\u001b[0m\u001b[37m\u001b[0m \u001b[1m27s\u001b[0m 2ms/step - accuracy: 0.9984 - loss: 0.0061 - precision: 0.9979 - recall: 0.9990 - val_accuracy: 0.9991 - val_loss: 0.0065 - val_precision: 0.7037 - val_recall: 0.7917\n",
      "Epoch 79/100\n",
      "\u001b[1m15993/15993\u001b[0m \u001b[32m━━━━━━━━━━━━━━━━━━━━\u001b[0m\u001b[37m\u001b[0m \u001b[1m28s\u001b[0m 2ms/step - accuracy: 0.9985 - loss: 0.0059 - precision: 0.9981 - recall: 0.9989 - val_accuracy: 0.9991 - val_loss: 0.0064 - val_precision: 0.7037 - val_recall: 0.7917\n",
      "Epoch 80/100\n",
      "\u001b[1m15993/15993\u001b[0m \u001b[32m━━━━━━━━━━━━━━━━━━━━\u001b[0m\u001b[37m\u001b[0m \u001b[1m28s\u001b[0m 2ms/step - accuracy: 0.9986 - loss: 0.0056 - precision: 0.9981 - recall: 0.9991 - val_accuracy: 0.9991 - val_loss: 0.0065 - val_precision: 0.7037 - val_recall: 0.7917\n",
      "Epoch 81/100\n",
      "\u001b[1m15993/15993\u001b[0m \u001b[32m━━━━━━━━━━━━━━━━━━━━\u001b[0m\u001b[37m\u001b[0m \u001b[1m27s\u001b[0m 2ms/step - accuracy: 0.9987 - loss: 0.0053 - precision: 0.9981 - recall: 0.9992 - val_accuracy: 0.9991 - val_loss: 0.0065 - val_precision: 0.7037 - val_recall: 0.7917\n",
      "Epoch 82/100\n",
      "\u001b[1m15993/15993\u001b[0m \u001b[32m━━━━━━━━━━━━━━━━━━━━\u001b[0m\u001b[37m\u001b[0m \u001b[1m28s\u001b[0m 2ms/step - accuracy: 0.9986 - loss: 0.0054 - precision: 0.9982 - recall: 0.9991 - val_accuracy: 0.9991 - val_loss: 0.0065 - val_precision: 0.7037 - val_recall: 0.7917\n",
      "Epoch 83/100\n",
      "\u001b[1m15993/15993\u001b[0m \u001b[32m━━━━━━━━━━━━━━━━━━━━\u001b[0m\u001b[37m\u001b[0m \u001b[1m28s\u001b[0m 2ms/step - accuracy: 0.9986 - loss: 0.0057 - precision: 0.9982 - recall: 0.9991 - val_accuracy: 0.9991 - val_loss: 0.0063 - val_precision: 0.7037 - val_recall: 0.7917\n",
      "Epoch 84/100\n",
      "\u001b[1m15993/15993\u001b[0m \u001b[32m━━━━━━━━━━━━━━━━━━━━\u001b[0m\u001b[37m\u001b[0m \u001b[1m27s\u001b[0m 2ms/step - accuracy: 0.9986 - loss: 0.0054 - precision: 0.9981 - recall: 0.9990 - val_accuracy: 0.9991 - val_loss: 0.0065 - val_precision: 0.7037 - val_recall: 0.7917\n",
      "Epoch 85/100\n",
      "\u001b[1m15993/15993\u001b[0m \u001b[32m━━━━━━━━━━━━━━━━━━━━\u001b[0m\u001b[37m\u001b[0m \u001b[1m28s\u001b[0m 2ms/step - accuracy: 0.9986 - loss: 0.0057 - precision: 0.9981 - recall: 0.9991 - val_accuracy: 0.9991 - val_loss: 0.0064 - val_precision: 0.7037 - val_recall: 0.7917\n",
      "Epoch 86/100\n",
      "\u001b[1m15993/15993\u001b[0m \u001b[32m━━━━━━━━━━━━━━━━━━━━\u001b[0m\u001b[37m\u001b[0m \u001b[1m27s\u001b[0m 2ms/step - accuracy: 0.9986 - loss: 0.0053 - precision: 0.9981 - recall: 0.9992 - val_accuracy: 0.9991 - val_loss: 0.0064 - val_precision: 0.7037 - val_recall: 0.7917\n",
      "Epoch 87/100\n",
      "\u001b[1m15993/15993\u001b[0m \u001b[32m━━━━━━━━━━━━━━━━━━━━\u001b[0m\u001b[37m\u001b[0m \u001b[1m27s\u001b[0m 2ms/step - accuracy: 0.9987 - loss: 0.0052 - precision: 0.9981 - recall: 0.9992 - val_accuracy: 0.9989 - val_loss: 0.0066 - val_precision: 0.6552 - val_recall: 0.7917\n",
      "Epoch 88/100\n",
      "\u001b[1m15993/15993\u001b[0m \u001b[32m━━━━━━━━━━━━━━━━━━━━\u001b[0m\u001b[37m\u001b[0m \u001b[1m28s\u001b[0m 2ms/step - accuracy: 0.9986 - loss: 0.0055 - precision: 0.9981 - recall: 0.9990 - val_accuracy: 0.9992 - val_loss: 0.0064 - val_precision: 0.7143 - val_recall: 0.8333\n",
      "Epoch 89/100\n",
      "\u001b[1m15993/15993\u001b[0m \u001b[32m━━━━━━━━━━━━━━━━━━━━\u001b[0m\u001b[37m\u001b[0m \u001b[1m28s\u001b[0m 2ms/step - accuracy: 0.9987 - loss: 0.0054 - precision: 0.9982 - recall: 0.9991 - val_accuracy: 0.9991 - val_loss: 0.0064 - val_precision: 0.7037 - val_recall: 0.7917\n",
      "Epoch 90/100\n",
      "\u001b[1m15993/15993\u001b[0m \u001b[32m━━━━━━━━━━━━━━━━━━━━\u001b[0m\u001b[37m\u001b[0m \u001b[1m28s\u001b[0m 2ms/step - accuracy: 0.9987 - loss: 0.0051 - precision: 0.9983 - recall: 0.9992 - val_accuracy: 0.9991 - val_loss: 0.0064 - val_precision: 0.7037 - val_recall: 0.7917\n",
      "Epoch 91/100\n",
      "\u001b[1m15993/15993\u001b[0m \u001b[32m━━━━━━━━━━━━━━━━━━━━\u001b[0m\u001b[37m\u001b[0m \u001b[1m28s\u001b[0m 2ms/step - accuracy: 0.9987 - loss: 0.0048 - precision: 0.9981 - recall: 0.9993 - val_accuracy: 0.9991 - val_loss: 0.0064 - val_precision: 0.7037 - val_recall: 0.7917\n",
      "Epoch 92/100\n",
      "\u001b[1m15993/15993\u001b[0m \u001b[32m━━━━━━━━━━━━━━━━━━━━\u001b[0m\u001b[37m\u001b[0m \u001b[1m28s\u001b[0m 2ms/step - accuracy: 0.9989 - loss: 0.0046 - precision: 0.9985 - recall: 0.9993 - val_accuracy: 0.9991 - val_loss: 0.0064 - val_precision: 0.7037 - val_recall: 0.7917\n",
      "Epoch 93/100\n",
      "\u001b[1m15993/15993\u001b[0m \u001b[32m━━━━━━━━━━━━━━━━━━━━\u001b[0m\u001b[37m\u001b[0m \u001b[1m27s\u001b[0m 2ms/step - accuracy: 0.9987 - loss: 0.0051 - precision: 0.9982 - recall: 0.9992 - val_accuracy: 0.9990 - val_loss: 0.0064 - val_precision: 0.6786 - val_recall: 0.7917\n",
      "Epoch 94/100\n",
      "\u001b[1m15993/15993\u001b[0m \u001b[32m━━━━━━━━━━━━━━━━━━━━\u001b[0m\u001b[37m\u001b[0m \u001b[1m28s\u001b[0m 2ms/step - accuracy: 0.9988 - loss: 0.0048 - precision: 0.9983 - recall: 0.9992 - val_accuracy: 0.9991 - val_loss: 0.0064 - val_precision: 0.7037 - val_recall: 0.7917\n",
      "Epoch 95/100\n",
      "\u001b[1m15993/15993\u001b[0m \u001b[32m━━━━━━━━━━━━━━━━━━━━\u001b[0m\u001b[37m\u001b[0m \u001b[1m27s\u001b[0m 2ms/step - accuracy: 0.9988 - loss: 0.0050 - precision: 0.9983 - recall: 0.9993 - val_accuracy: 0.9991 - val_loss: 0.0064 - val_precision: 0.7037 - val_recall: 0.7917\n",
      "Epoch 96/100\n",
      "\u001b[1m15993/15993\u001b[0m \u001b[32m━━━━━━━━━━━━━━━━━━━━\u001b[0m\u001b[37m\u001b[0m \u001b[1m27s\u001b[0m 2ms/step - accuracy: 0.9987 - loss: 0.0051 - precision: 0.9983 - recall: 0.9991 - val_accuracy: 0.9991 - val_loss: 0.0064 - val_precision: 0.7037 - val_recall: 0.7917\n",
      "Epoch 97/100\n",
      "\u001b[1m15993/15993\u001b[0m \u001b[32m━━━━━━━━━━━━━━━━━━━━\u001b[0m\u001b[37m\u001b[0m \u001b[1m27s\u001b[0m 2ms/step - accuracy: 0.9987 - loss: 0.0048 - precision: 0.9983 - recall: 0.9992 - val_accuracy: 0.9991 - val_loss: 0.0062 - val_precision: 0.7037 - val_recall: 0.7917\n",
      "Epoch 98/100\n",
      "\u001b[1m15993/15993\u001b[0m \u001b[32m━━━━━━━━━━━━━━━━━━━━\u001b[0m\u001b[37m\u001b[0m \u001b[1m27s\u001b[0m 2ms/step - accuracy: 0.9988 - loss: 0.0050 - precision: 0.9983 - recall: 0.9993 - val_accuracy: 0.9991 - val_loss: 0.0064 - val_precision: 0.7037 - val_recall: 0.7917\n",
      "Epoch 99/100\n",
      "\u001b[1m15993/15993\u001b[0m \u001b[32m━━━━━━━━━━━━━━━━━━━━\u001b[0m\u001b[37m\u001b[0m \u001b[1m27s\u001b[0m 2ms/step - accuracy: 0.9989 - loss: 0.0046 - precision: 0.9985 - recall: 0.9993 - val_accuracy: 0.9991 - val_loss: 0.0062 - val_precision: 0.7037 - val_recall: 0.7917\n",
      "Epoch 100/100\n",
      "\u001b[1m15993/15993\u001b[0m \u001b[32m━━━━━━━━━━━━━━━━━━━━\u001b[0m\u001b[37m\u001b[0m \u001b[1m28s\u001b[0m 2ms/step - accuracy: 0.9988 - loss: 0.0048 - precision: 0.9983 - recall: 0.9992 - val_accuracy: 0.9991 - val_loss: 0.0063 - val_precision: 0.7037 - val_recall: 0.7917\n"
     ]
    },
    {
     "data": {
      "text/plain": [
       "<keras.src.callbacks.history.History at 0x2060bcf3c80>"
      ]
     },
     "execution_count": 17,
     "metadata": {},
     "output_type": "execute_result"
    }
   ],
   "source": [
    "tf.random.set_seed(42)\n",
    "np.random.seed(42)\n",
    "\n",
    "model3 = Sequential([\n",
    "\n",
    "    InputLayer(X_train.shape[1:]),\n",
    "    Dense(256, activation=\"relu\"),\n",
    "    BatchNormalization(),\n",
    "    Dropout(0.3),\n",
    "\n",
    "    Dense(256, activation=\"relu\"),\n",
    "    BatchNormalization(),\n",
    "    Dropout(0.25),\n",
    "\n",
    "    Dense(128, activation=\"relu\"),\n",
    "    BatchNormalization(),\n",
    "    Dropout(0.3),\n",
    "\n",
    "    Dense(128, activation=\"relu\"),\n",
    "    BatchNormalization(),\n",
    "    Dropout(0.3),\n",
    "\n",
    "    Dense(32, activation=\"relu\"),\n",
    "    Dense(1, activation=\"sigmoid\")\n",
    "])\n",
    "\n",
    "model3.compile(loss=BinaryCrossentropy(), optimizer=SGD(learning_rate=0.001), metrics=[\"accuracy\", \"precision\", \"recall\"])\n",
    "model3.fit(X_train, y_train, validation_data=(X_val, y_val), epochs=100)"
   ]
  },
  {
   "cell_type": "markdown",
   "metadata": {},
   "source": [
    "The final validation metrics for `model3` were: \n",
    "* Accuracy: 0.99\n",
    "* Precision: 0.70\n",
    "* Recall: 0.79\n",
    "\n",
    "Below, `model3` is scored on the testing set: "
   ]
  },
  {
   "cell_type": "code",
   "execution_count": 18,
   "metadata": {},
   "outputs": [
    {
     "name": "stdout",
     "output_type": "stream",
     "text": [
      "\u001b[1m446/446\u001b[0m \u001b[32m━━━━━━━━━━━━━━━━━━━━\u001b[0m\u001b[37m\u001b[0m \u001b[1m1s\u001b[0m 1ms/step - accuracy: 0.9992 - loss: 0.0075 - precision: 0.7212 - recall: 0.8533        \n"
     ]
    },
    {
     "data": {
      "text/plain": [
       "[0.006295042112469673, 0.9992275834083557, 0.71875, 0.9200000166893005]"
      ]
     },
     "execution_count": 18,
     "metadata": {},
     "output_type": "execute_result"
    }
   ],
   "source": [
    "model3.evaluate(X_test, y_test)"
   ]
  },
  {
   "cell_type": "markdown",
   "metadata": {},
   "source": [
    "The accuracy and recall results remain the same, with the precision score being the lowest out of all three models. \n",
    "\n",
    "> Note that the testing recall score is the same between all three models. This is due to the fact that the validation and testing sets were not oversampled, resulting in each having relatively few positive instances for the models to predict.\n",
    "\n",
    "\n",
    "### Summary of Models\n",
    "\n",
    "In the end, `model1` performed the best out of the three. Based on the test data, it is reasonable to assume that, in the real world, the model would catch the majority of fraud, while also keeping false positives positives to a minimum. "
   ]
  },
  {
   "cell_type": "markdown",
   "metadata": {},
   "source": [
    "## Application\n",
    "\n",
    "Now that `model1` has been trained, it can be used in real world programs. However, it first needs to be exported to a `.keras` file, which can be called by other Python programs: "
   ]
  },
  {
   "cell_type": "code",
   "execution_count": 19,
   "metadata": {},
   "outputs": [],
   "source": [
    "model1.save(\"model1.keras\")"
   ]
  },
  {
   "cell_type": "markdown",
   "metadata": {},
   "source": [
    "## Conclusion\n",
    "\n",
    "The world of finance has grown rapidly in the internet age, bringing with it new opportunities for fraud. With the age of AI upon us, new technologies will inevitably be used by malicious actors to find new ways to circumvent security measures and cause irreparable damage to innocent people. The good news is that AI can also be used to help prevent fraudsters' attempts at stealing from customers and companies alike, creating a new era of security for in a sector that affects so many lives. "
   ]
  }
 ],
 "metadata": {
  "kernelspec": {
   "display_name": "Python 3 (ipykernel)",
   "language": "python",
   "name": "python3"
  },
  "language_info": {
   "codemirror_mode": {
    "name": "ipython",
    "version": 3
   },
   "file_extension": ".py",
   "mimetype": "text/x-python",
   "name": "python",
   "nbconvert_exporter": "python",
   "pygments_lexer": "ipython3",
   "version": "3.12.9"
  }
 },
 "nbformat": 4,
 "nbformat_minor": 4
}
